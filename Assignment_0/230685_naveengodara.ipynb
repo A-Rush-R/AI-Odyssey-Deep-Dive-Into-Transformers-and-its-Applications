{
  "nbformat": 4,
  "nbformat_minor": 0,
  "metadata": {
    "colab": {
      "provenance": []
    },
    "kernelspec": {
      "name": "python3",
      "display_name": "Python 3"
    },
    "language_info": {
      "name": "python"
    }
  },
  "cells": [
    {
      "cell_type": "code",
      "execution_count": null,
      "metadata": {
        "colab": {
          "base_uri": "https://localhost:8080/"
        },
        "id": "7JE0Agfs60Ao",
        "outputId": "9fd3ea09-55c4-40a4-be5b-bd33dd18e9d9"
      },
      "outputs": [
        {
          "output_type": "stream",
          "name": "stdout",
          "text": [
            "[10, 20, 25, 30, 35, 40, 45, 60, 75, 90]\n"
          ]
        }
      ],
      "source": [
        "list1 = [10,20,25,30,35]\n",
        "list2 = [40,45,60,75,90]\n",
        "list3 = list1 + list2\n",
        "print(\"the new list is \",list3)"
      ]
    },
    {
      "cell_type": "code",
      "source": [
        "num=1\n",
        "while num < 11:\n",
        "  i=1\n",
        "  print(\"table of \",num)\n",
        "  while i < 11:\n",
        "    print(num,'x',i,'=',num*i)\n",
        "    i=i+1\n",
        "  num=num+1\n",
        "  print()\n",
        "\n"
      ],
      "metadata": {
        "colab": {
          "base_uri": "https://localhost:8080/"
        },
        "id": "Ni-Qlw4U9Jmq",
        "outputId": "eca27e07-696c-4e80-c7cb-47a0e358375d",
        "collapsed": true
      },
      "execution_count": null,
      "outputs": [
        {
          "output_type": "stream",
          "name": "stdout",
          "text": [
            "table of  1\n",
            "1 x 1 = 1\n",
            "1 x 2 = 2\n",
            "1 x 3 = 3\n",
            "1 x 4 = 4\n",
            "1 x 5 = 5\n",
            "1 x 6 = 6\n",
            "1 x 7 = 7\n",
            "1 x 8 = 8\n",
            "1 x 9 = 9\n",
            "1 x 10 = 10\n",
            "\n",
            "table of  2\n",
            "2 x 1 = 2\n",
            "2 x 2 = 4\n",
            "2 x 3 = 6\n",
            "2 x 4 = 8\n",
            "2 x 5 = 10\n",
            "2 x 6 = 12\n",
            "2 x 7 = 14\n",
            "2 x 8 = 16\n",
            "2 x 9 = 18\n",
            "2 x 10 = 20\n",
            "\n",
            "table of  3\n",
            "3 x 1 = 3\n",
            "3 x 2 = 6\n",
            "3 x 3 = 9\n",
            "3 x 4 = 12\n",
            "3 x 5 = 15\n",
            "3 x 6 = 18\n",
            "3 x 7 = 21\n",
            "3 x 8 = 24\n",
            "3 x 9 = 27\n",
            "3 x 10 = 30\n",
            "\n",
            "table of  4\n",
            "4 x 1 = 4\n",
            "4 x 2 = 8\n",
            "4 x 3 = 12\n",
            "4 x 4 = 16\n",
            "4 x 5 = 20\n",
            "4 x 6 = 24\n",
            "4 x 7 = 28\n",
            "4 x 8 = 32\n",
            "4 x 9 = 36\n",
            "4 x 10 = 40\n",
            "\n",
            "table of  5\n",
            "5 x 1 = 5\n",
            "5 x 2 = 10\n",
            "5 x 3 = 15\n",
            "5 x 4 = 20\n",
            "5 x 5 = 25\n",
            "5 x 6 = 30\n",
            "5 x 7 = 35\n",
            "5 x 8 = 40\n",
            "5 x 9 = 45\n",
            "5 x 10 = 50\n",
            "\n",
            "table of  6\n",
            "6 x 1 = 6\n",
            "6 x 2 = 12\n",
            "6 x 3 = 18\n",
            "6 x 4 = 24\n",
            "6 x 5 = 30\n",
            "6 x 6 = 36\n",
            "6 x 7 = 42\n",
            "6 x 8 = 48\n",
            "6 x 9 = 54\n",
            "6 x 10 = 60\n",
            "\n",
            "table of  7\n",
            "7 x 1 = 7\n",
            "7 x 2 = 14\n",
            "7 x 3 = 21\n",
            "7 x 4 = 28\n",
            "7 x 5 = 35\n",
            "7 x 6 = 42\n",
            "7 x 7 = 49\n",
            "7 x 8 = 56\n",
            "7 x 9 = 63\n",
            "7 x 10 = 70\n",
            "\n",
            "table of  8\n",
            "8 x 1 = 8\n",
            "8 x 2 = 16\n",
            "8 x 3 = 24\n",
            "8 x 4 = 32\n",
            "8 x 5 = 40\n",
            "8 x 6 = 48\n",
            "8 x 7 = 56\n",
            "8 x 8 = 64\n",
            "8 x 9 = 72\n",
            "8 x 10 = 80\n",
            "\n",
            "table of  9\n",
            "9 x 1 = 9\n",
            "9 x 2 = 18\n",
            "9 x 3 = 27\n",
            "9 x 4 = 36\n",
            "9 x 5 = 45\n",
            "9 x 6 = 54\n",
            "9 x 7 = 63\n",
            "9 x 8 = 72\n",
            "9 x 9 = 81\n",
            "9 x 10 = 90\n",
            "\n",
            "table of  10\n",
            "10 x 1 = 10\n",
            "10 x 2 = 20\n",
            "10 x 3 = 30\n",
            "10 x 4 = 40\n",
            "10 x 5 = 50\n",
            "10 x 6 = 60\n",
            "10 x 7 = 70\n",
            "10 x 8 = 80\n",
            "10 x 9 = 90\n",
            "10 x 10 = 100\n",
            "\n"
          ]
        }
      ]
    },
    {
      "cell_type": "code",
      "source": [
        "i=5\n",
        "while i > 0:\n",
        "    n=1\n",
        "    while n <= i:\n",
        "        print('0',end=\"\")\n",
        "        n=n+1\n",
        "    print()\n",
        "    i=i-1"
      ],
      "metadata": {
        "id": "y_mRzn_q-Ct8",
        "colab": {
          "base_uri": "https://localhost:8080/"
        },
        "outputId": "0673643e-f474-49d2-9543-1ed39aaf2b46"
      },
      "execution_count": null,
      "outputs": [
        {
          "output_type": "stream",
          "name": "stdout",
          "text": [
            "00000\n",
            "0000\n",
            "000\n",
            "00\n",
            "0\n"
          ]
        }
      ]
    },
    {
      "cell_type": "code",
      "source": [
        "veg = [\"eggplant\", \"broccoli\", \"carrot\",\"cauliflower\", \"zucchini\"]\n",
        "print(\"original array :\",veg)\n",
        "veg.append(\"tomato\")\n",
        "print(\"array after adding tomato :\",veg)\n",
        "veg.sort()\n",
        "print(\"array after sorting :\",veg)"
      ],
      "metadata": {
        "colab": {
          "base_uri": "https://localhost:8080/"
        },
        "id": "CKrC--TwAy41",
        "outputId": "7e8b20d8-5905-4aa3-accd-d73c574c49c6"
      },
      "execution_count": null,
      "outputs": [
        {
          "output_type": "stream",
          "name": "stdout",
          "text": [
            "original array : ['eggplant', 'broccoli', 'carrot', 'cauliflower', 'zucchini']\n",
            "array after adding tomato : ['eggplant', 'broccoli', 'carrot', 'cauliflower', 'zucchini', 'tomato']\n",
            "array after sorting : ['broccoli', 'carrot', 'cauliflower', 'eggplant', 'tomato', 'zucchini']\n"
          ]
        }
      ]
    },
    {
      "cell_type": "code",
      "source": [
        "def is_odd(num):\n",
        "  if num % 2 == 1:\n",
        "    print(\"true\")\n",
        "  else:\n",
        "    print(\"false\")\n",
        "\n",
        "i = int(input(\"Enter the number :\"))\n",
        "is_odd(i)\n"
      ],
      "metadata": {
        "colab": {
          "base_uri": "https://localhost:8080/"
        },
        "id": "Eir9zJLaBV7s",
        "outputId": "3b0d924a-db8b-48c5-c28c-4f0b947b4e69"
      },
      "execution_count": null,
      "outputs": [
        {
          "output_type": "stream",
          "name": "stdout",
          "text": [
            "Enter the number :16374\n",
            "false\n"
          ]
        }
      ]
    },
    {
      "cell_type": "code",
      "source": [
        "def mode(num,n):\n",
        "  num.sort()\n",
        "  count= 0\n",
        "  mode_val = 0\n",
        "  max_count = 0\n",
        "  for i in range(0,n-1):\n",
        "    if num[i]==num[i+1]:\n",
        "      count+=1\n",
        "    else:\n",
        "        if count > max_count:\n",
        "          max_count = count\n",
        "          mode_val = num[i]\n",
        "          count = 0\n",
        "        if count == max_count:\n",
        "          print(\"no mode\")\n",
        "          count = 0\n",
        "          break\n",
        "  if count > max_count:\n",
        "      mode_val = num[-1]\n",
        "  return mode_val\n",
        "\n",
        "print(\"enter the size of array :\")\n",
        "n = int(input())\n",
        "print(\"enter the elements of array :\")\n",
        "a = list(map(int,input().split())) # idk how this line works that much buut it gave the answer\n",
        "print(mode(a,n))"
      ],
      "metadata": {
        "id": "8R8Ezddn8wm7",
        "colab": {
          "base_uri": "https://localhost:8080/"
        },
        "outputId": "a323dc6f-4155-4c67-d288-79c86d24d357"
      },
      "execution_count": 104,
      "outputs": [
        {
          "output_type": "stream",
          "name": "stdout",
          "text": [
            "enter the size of array :\n",
            "5\n",
            "enter the elements of array :\n",
            "1 1 3 4 5\n",
            "1\n"
          ]
        }
      ]
    },
    {
      "cell_type": "code",
      "source": [
        "import numpy as np\n",
        "arr = np.array([[1,2],[3,4],[4,5],[6,8]],dtype=np.uint16)\n",
        "print(\"shape of array :\",arr.shape)\n",
        "print(\"dimension of array :\",arr.ndim)\n",
        "print(\"length of elements :\",arr.itemsize)"
      ],
      "metadata": {
        "colab": {
          "base_uri": "https://localhost:8080/"
        },
        "id": "izoYuyNJci70",
        "outputId": "c2d26f11-83be-40a1-f8b3-c0552b99c989"
      },
      "execution_count": null,
      "outputs": [
        {
          "output_type": "stream",
          "name": "stdout",
          "text": [
            "shape of array : (4, 2)\n",
            "dimension of array : 2\n",
            "length of elements : 2\n"
          ]
        }
      ]
    },
    {
      "cell_type": "code",
      "source": [
        "arr2 = np.array([[11, 22, 33],[44, 55, 66],[77, 88, 99]])\n",
        "\n",
        "res2 = arr2[:,(0,1)]\n",
        "\n",
        "print(\"Array after taking the third column from all rows:\", res2)"
      ],
      "metadata": {
        "colab": {
          "base_uri": "https://localhost:8080/"
        },
        "id": "KdWO3rqdzchV",
        "outputId": "205bca15-80f5-4f4d-d21e-bce359d88e12"
      },
      "execution_count": null,
      "outputs": [
        {
          "output_type": "stream",
          "name": "stdout",
          "text": [
            "Array after taking the third column from all rows: [[11 22]\n",
            " [44 55]\n",
            " [77 88]]\n"
          ]
        }
      ]
    },
    {
      "cell_type": "code",
      "source": [
        "t1 = arr2[1,:].argsort()\n",
        "r3 = arr2[:,t1]\n",
        "print(\"sorting the matrix by second row gives :\",r3)\n",
        "\n",
        "t2 = arr2[:,1].argsort()\n",
        "r4 = arr2[t2,:]\n",
        "print(\"sorting the array by second column gives :\",r4)\n",
        "# I wasn't sure which matrix was specified in question so I used the previous one"
      ],
      "metadata": {
        "colab": {
          "base_uri": "https://localhost:8080/"
        },
        "id": "9FBer8jn4b0u",
        "outputId": "2988d720-0149-449b-a188-91a2b36e14c2"
      },
      "execution_count": 105,
      "outputs": [
        {
          "output_type": "stream",
          "name": "stdout",
          "text": [
            "sorting the matrix by second row gives : [[11 22 33]\n",
            " [44 55 66]\n",
            " [77 88 99]]\n",
            "sorting the array by second column gives : [[11 22 33]\n",
            " [44 55 66]\n",
            " [77 88 99]]\n"
          ]
        }
      ]
    },
    {
      "cell_type": "code",
      "source": [
        "import  pandas as pd\n",
        "\n",
        "data = pd.read_csv('Automobile_data.csv')\n",
        "print(\"the first five rows of the data are:\\n\",data.head())\n",
        "print(\"the last five rows of data are:\\n\",data.tail())\n",
        "# I hope this way is correct way cause you could just print data and\n",
        "# it would show these rows by default"
      ],
      "metadata": {
        "colab": {
          "base_uri": "https://localhost:8080/"
        },
        "id": "GKsPJd6DbdFZ",
        "outputId": "eec5c023-c1f2-4282-ecef-c844b2854e3e",
        "collapsed": true
      },
      "execution_count": 83,
      "outputs": [
        {
          "output_type": "stream",
          "name": "stdout",
          "text": [
            "the first five rows of the data are:\n",
            "    index      company   body-style  wheel-base  length engine-type  \\\n",
            "0      0  alfa-romero  convertible        88.6   168.8        dohc   \n",
            "1      1  alfa-romero  convertible        88.6   168.8        dohc   \n",
            "2      2  alfa-romero    hatchback        94.5   171.2        ohcv   \n",
            "3      3         audi        sedan        99.8   176.6         ohc   \n",
            "4      4         audi        sedan        99.4   176.6         ohc   \n",
            "\n",
            "  num-of-cylinders  horsepower  average-mileage    price  \n",
            "0             four         111               21  13495.0  \n",
            "1             four         111               21  16500.0  \n",
            "2              six         154               19  16500.0  \n",
            "3             four         102               24  13950.0  \n",
            "4             five         115               18  17450.0  \n",
            "the last five rows of data are:\n",
            "     index     company body-style  wheel-base  length engine-type  \\\n",
            "56     81  volkswagen      sedan        97.3   171.7         ohc   \n",
            "57     82  volkswagen      sedan        97.3   171.7         ohc   \n",
            "58     86  volkswagen      sedan        97.3   171.7         ohc   \n",
            "59     87       volvo      sedan       104.3   188.8         ohc   \n",
            "60     88       volvo      wagon       104.3   188.8         ohc   \n",
            "\n",
            "   num-of-cylinders  horsepower  average-mileage    price  \n",
            "56             four          85               27   7975.0  \n",
            "57             four          52               37   7995.0  \n",
            "58             four         100               26   9995.0  \n",
            "59             four         114               23  12940.0  \n",
            "60             four         114               23  13415.0  \n"
          ]
        }
      ]
    },
    {
      "cell_type": "code",
      "source": [
        "# as the missing values are in last column by observation I used its mean as a value to replace\n",
        "mean = data[ 'price' ].mean()\n",
        "data.fillna(value=mean, inplace=True)\n",
        "print(data.to_string())\n"
      ],
      "metadata": {
        "colab": {
          "base_uri": "https://localhost:8080/"
        },
        "id": "Yzl8UltDdrhz",
        "outputId": "2832c3f8-5cbf-433c-e928-88caffa10a54"
      },
      "execution_count": 106,
      "outputs": [
        {
          "output_type": "stream",
          "name": "stdout",
          "text": [
            "    index        company   body-style  wheel-base  length engine-type num-of-cylinders  horsepower  average-mileage    price\n",
            "0       0    alfa-romero  convertible        88.6   168.8        dohc             four         111               21  13495.0\n",
            "1       1    alfa-romero  convertible        88.6   168.8        dohc             four         111               21  16500.0\n",
            "2       2    alfa-romero    hatchback        94.5   171.2        ohcv              six         154               19  16500.0\n",
            "3       3           audi        sedan        99.8   176.6         ohc             four         102               24  13950.0\n",
            "4       4           audi        sedan        99.4   176.6         ohc             five         115               18  17450.0\n",
            "5       5           audi        sedan        99.8   177.3         ohc             five         110               19  15250.0\n",
            "6       6           audi        wagon       105.8   192.7         ohc             five         110               19  18920.0\n",
            "7       9            bmw        sedan       101.2   176.8         ohc             four         101               23  16430.0\n",
            "8      10            bmw        sedan       101.2   176.8         ohc             four         101               23  16925.0\n",
            "9      11            bmw        sedan       101.2   176.8         ohc              six         121               21  20970.0\n",
            "10     13            bmw        sedan       103.5   189.0         ohc              six         182               16  30760.0\n",
            "11     14            bmw        sedan       103.5   193.8         ohc              six         182               16  41315.0\n",
            "12     15            bmw        sedan       110.0   197.0         ohc              six         182               15  36880.0\n",
            "13     16      chevrolet    hatchback        88.4   141.1           l            three          48               47   5151.0\n",
            "14     17      chevrolet    hatchback        94.5   155.9         ohc             four          70               38   6295.0\n",
            "15     18      chevrolet        sedan        94.5   158.8         ohc             four          70               38   6575.0\n",
            "16     19          dodge    hatchback        93.7   157.3         ohc             four          68               31   6377.0\n",
            "17     20          dodge    hatchback        93.7   157.3         ohc             four          68               31   6229.0\n",
            "18     27          honda        wagon        96.5   157.1         ohc             four          76               30   7295.0\n",
            "19     28          honda        sedan        96.5   175.4         ohc             four         101               24  12945.0\n",
            "20     29          honda        sedan        96.5   169.1         ohc             four         100               25  10345.0\n",
            "21     30          isuzu        sedan        94.3   170.7         ohc             four          78               24   6785.0\n",
            "22     31          isuzu        sedan        94.5   155.9         ohc             four          70               38  15387.0\n",
            "23     32          isuzu        sedan        94.5   155.9         ohc             four          70               38  15387.0\n",
            "24     33         jaguar        sedan       113.0   199.6        dohc              six         176               15  32250.0\n",
            "25     34         jaguar        sedan       113.0   199.6        dohc              six         176               15  35550.0\n",
            "26     35         jaguar        sedan       102.0   191.7        ohcv           twelve         262               13  36000.0\n",
            "27     36          mazda    hatchback        93.1   159.1         ohc             four          68               30   5195.0\n",
            "28     37          mazda    hatchback        93.1   159.1         ohc             four          68               31   6095.0\n",
            "29     38          mazda    hatchback        93.1   159.1         ohc             four          68               31   6795.0\n",
            "30     39          mazda    hatchback        95.3   169.0       rotor              two         101               17  11845.0\n",
            "31     43          mazda        sedan       104.9   175.0         ohc             four          72               31  18344.0\n",
            "32     44  mercedes-benz        sedan       110.0   190.9         ohc             five         123               22  25552.0\n",
            "33     45  mercedes-benz        wagon       110.0   190.9         ohc             five         123               22  28248.0\n",
            "34     46  mercedes-benz        sedan       120.9   208.1        ohcv            eight         184               14  40960.0\n",
            "35     47  mercedes-benz      hardtop       112.0   199.2        ohcv            eight         184               14  45400.0\n",
            "36     49     mitsubishi    hatchback        93.7   157.3         ohc             four          68               37   5389.0\n",
            "37     50     mitsubishi    hatchback        93.7   157.3         ohc             four          68               31   6189.0\n",
            "38     51     mitsubishi        sedan        96.3   172.4         ohc             four          88               25   6989.0\n",
            "39     52     mitsubishi        sedan        96.3   172.4         ohc             four          88               25   8189.0\n",
            "40     53         nissan        sedan        94.5   165.3         ohc             four          55               45   7099.0\n",
            "41     54         nissan        sedan        94.5   165.3         ohc             four          69               31   6649.0\n",
            "42     55         nissan        sedan        94.5   165.3         ohc             four          69               31   6849.0\n",
            "43     56         nissan        wagon        94.5   170.2         ohc             four          69               31   7349.0\n",
            "44     57         nissan        sedan       100.4   184.6        ohcv              six         152               19  13499.0\n",
            "45     61        porsche      hardtop        89.5   168.9        ohcf              six         207               17  34028.0\n",
            "46     62        porsche  convertible        89.5   168.9        ohcf              six         207               17  37028.0\n",
            "47     63        porsche    hatchback        98.4   175.7       dohcv            eight         288               17  15387.0\n",
            "48     66         toyota    hatchback        95.7   158.7         ohc             four          62               35   5348.0\n",
            "49     67         toyota    hatchback        95.7   158.7         ohc             four          62               31   6338.0\n",
            "50     68         toyota    hatchback        95.7   158.7         ohc             four          62               31   6488.0\n",
            "51     69         toyota        wagon        95.7   169.7         ohc             four          62               31   6918.0\n",
            "52     70         toyota        wagon        95.7   169.7         ohc             four          62               27   7898.0\n",
            "53     71         toyota        wagon        95.7   169.7         ohc             four          62               27   8778.0\n",
            "54     79         toyota        wagon       104.5   187.8        dohc              six         156               19  15750.0\n",
            "55     80     volkswagen        sedan        97.3   171.7         ohc             four          52               37   7775.0\n",
            "56     81     volkswagen        sedan        97.3   171.7         ohc             four          85               27   7975.0\n",
            "57     82     volkswagen        sedan        97.3   171.7         ohc             four          52               37   7995.0\n",
            "58     86     volkswagen        sedan        97.3   171.7         ohc             four         100               26   9995.0\n",
            "59     87          volvo        sedan       104.3   188.8         ohc             four         114               23  12940.0\n",
            "60     88          volvo        wagon       104.3   188.8         ohc             four         114               23  13415.0\n"
          ]
        }
      ]
    },
    {
      "cell_type": "code",
      "source": [
        "print(data['company'].value_counts())\n",
        "# still can't believe this one took more time than the next questions"
      ],
      "metadata": {
        "colab": {
          "base_uri": "https://localhost:8080/"
        },
        "id": "C2HLaCXSj03y",
        "outputId": "4ca345b3-2644-47f5-e4bf-a6a62be5923a"
      },
      "execution_count": 107,
      "outputs": [
        {
          "output_type": "stream",
          "name": "stdout",
          "text": [
            "company\n",
            "toyota           7\n",
            "bmw              6\n",
            "mazda            5\n",
            "nissan           5\n",
            "audi             4\n",
            "mercedes-benz    4\n",
            "mitsubishi       4\n",
            "volkswagen       4\n",
            "alfa-romero      3\n",
            "chevrolet        3\n",
            "honda            3\n",
            "isuzu            3\n",
            "jaguar           3\n",
            "porsche          3\n",
            "dodge            2\n",
            "volvo            2\n",
            "Name: count, dtype: int64\n"
          ]
        }
      ]
    },
    {
      "cell_type": "code",
      "source": [
        "import matplotlib.pyplot as plt\n",
        "data = pd.read_csv('company_sales_data.csv')\n",
        "tf = data['total_profit']\n",
        "months = data['month_number']\n",
        "plt.plot(months, tf)\n",
        "plt.xlabel('month Number')\n",
        "plt.ylabel('total profit')\n",
        "plt.show() # tadaaa!\n"
      ],
      "metadata": {
        "colab": {
          "base_uri": "https://localhost:8080/",
          "height": 449
        },
        "id": "0KDWOcQ2q4Ol",
        "outputId": "e8df90af-7aac-43d6-a922-543d9f2a9906"
      },
      "execution_count": 109,
      "outputs": [
        {
          "output_type": "display_data",
          "data": {
            "text/plain": [
              "<Figure size 640x480 with 1 Axes>"
            ],
            "image/png": "[encoded data removed]"
          },
          "metadata": {}
        }
      ]
    },
    {
      "cell_type": "code",
      "source": [
        "fc = data['facecream']\n",
        "fw = data['facewash']\n",
        "\n",
        "plt.bar(months, fc, label='Face Cream')\n",
        "plt.bar(months, fw, label='Face Wash')\n",
        "plt.xlabel('month Number')\n",
        "plt.ylabel('units Sold')\n",
        "\n",
        "plt.legend()\n",
        "plt.show()\n",
        "# I guess learning matlab did help me now!\n"
      ],
      "metadata": {
        "colab": {
          "base_uri": "https://localhost:8080/",
          "height": 449
        },
        "id": "OpdZQyC2kdzR",
        "outputId": "2d555fa6-e501-4705-d135-c35cf9584171"
      },
      "execution_count": 111,
      "outputs": [
        {
          "output_type": "display_data",
          "data": {
            "text/plain": [
              "<Figure size 640x480 with 1 Axes>"
            ],
            "image/png": "[encoded data removed]"
          },
          "metadata": {}
        }
      ]
    }
  ]
}