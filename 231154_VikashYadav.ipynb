{
  "cells": [
    {
      "cell_type": "markdown",
      "metadata": {
        "id": "view-in-github",
        "colab_type": "text"
      },
      "source": [
        "<a href=\"https://colab.research.google.com/github/Glenap/AI-Odyssey-Deep-Dive-Into-Transformers-and-its-Applications/blob/main/231154_VikashYadav.ipynb\" target=\"_parent\"><img src=\"https://colab.research.google.com/assets/colab-badge.svg\" alt=\"Open In Colab\"/></a>"
      ]
    },
    {
      "cell_type": "code",
      "execution_count": 1,
      "metadata": {
        "id": "PWaUFe18V3vA"
      },
      "outputs": [],
      "source": [
        "import torch\n",
        "from torch.utils.data import Dataset, DataLoader\n",
        "import numpy as np\n",
        "import torch.nn as nn\n",
        "import torch.nn.functional as F\n",
        "import torch.optim as optim\n",
        "import matplotlib.pyplot as plt\n",
        "\n"
      ]
    },
    {
      "cell_type": "code",
      "execution_count": 6,
      "metadata": {
        "id": "SFdCF4UpXsEE"
      },
      "outputs": [],
      "source": [
        "with open('names.txt', 'r') as file:\n",
        "    names = file.read().strip().split('\\n')\n",
        "\n",
        "\n",
        "chars = sorted(list(set(''.join(names))))\n",
        "char_to_idx = {char: idx for idx, char in enumerate(chars)}\n",
        "idx_to_char = {idx: char for idx, char in enumerate(chars)}\n",
        "\n",
        "\n",
        "eol_token = '\\n'\n",
        "chars.append(eol_token)\n",
        "char_to_idx[eol_token] = len(chars) - 1\n",
        "idx_to_char[len(chars) - 1] = eol_token"
      ]
    },
    {
      "cell_type": "code",
      "execution_count": 7,
      "metadata": {
        "id": "kuhTkDb-X0J9"
      },
      "outputs": [],
      "source": [
        "\n",
        "def one_hot_encode(sequence, n_chars):\n",
        "    encoding = np.zeros((len(sequence), n_chars), dtype=np.float32)\n",
        "    for i, char in enumerate(sequence):\n",
        "        encoding[i, char_to_idx[char]] = 1.0\n",
        "    return encoding\n"
      ]
    },
    {
      "cell_type": "code",
      "execution_count": 8,
      "metadata": {
        "id": "l0fUHs8AX6ul"
      },
      "outputs": [],
      "source": [
        "def decode_sequence(sequence):\n",
        "    return ''.join([idx_to_char[idx] for idx in sequence])\n",
        "\n",
        "\n",
        "class NamesDataset(Dataset):\n",
        "    def __init__(self, names, char_to_idx, eol_token='\\n'):\n",
        "        self.names = names\n",
        "        self.char_to_idx = char_to_idx\n",
        "        self.eol_token = eol_token\n",
        "\n",
        "    def __len__(self):\n",
        "        return len(self.names)\n",
        "\n",
        "    def __getitem__(self, idx):\n",
        "        name = self.names[idx]\n",
        "        input_seq = name\n",
        "        target_seq = name[1:] + self.eol_token\n",
        "        input_seq_encoded = [self.char_to_idx[char] for char in input_seq]\n",
        "        target_seq_encoded = [self.char_to_idx[char] for char in target_seq]\n",
        "        return torch.tensor(input_seq_encoded), torch.tensor(target_seq_encoded)"
      ]
    },
    {
      "cell_type": "code",
      "execution_count": 9,
      "metadata": {
        "id": "akKe428DYCIS"
      },
      "outputs": [],
      "source": [
        "dataset = NamesDataset(names, char_to_idx)\n",
        "dataloader = DataLoader(dataset, batch_size=1, shuffle=True)"
      ]
    },
    {
      "cell_type": "code",
      "execution_count": 10,
      "metadata": {
        "id": "HgangMOEYGrI"
      },
      "outputs": [],
      "source": [
        "\n",
        "class NameRNN(nn.Module):\n",
        "    def __init__(self, input_size, hidden_size, output_size):\n",
        "        super(NameRNN, self).__init__()\n",
        "        self.hidden_size = hidden_size\n",
        "        self.i2h = nn.Linear(input_size + hidden_size, hidden_size)\n",
        "        self.i2o = nn.Linear(input_size + hidden_size, output_size)\n",
        "        self.softmax = nn.LogSoftmax(dim=1)\n",
        "\n",
        "    def forward(self, input, hidden):\n",
        "        combined = torch.cat((input, hidden), 1)\n",
        "        hidden = self.i2h(combined)\n",
        "        output = self.i2o(combined)\n",
        "        output = self.softmax(output)\n",
        "        return output, hidden\n",
        "\n",
        "    def init_hidden(self):\n",
        "        return torch.zeros(1, self.hidden_size)\n",
        "\n",
        "n_chars = len(chars)\n",
        "hidden_size = 128\n",
        "model = NameRNN(n_chars, hidden_size, n_chars)\n",
        "\n",
        "criterion = nn.CrossEntropyLoss()\n",
        "optimizer = optim.SGD(model.parameters(), lr=0.01)"
      ]
    },
    {
      "cell_type": "code",
      "execution_count": 11,
      "metadata": {
        "colab": {
          "base_uri": "https://localhost:8080/"
        },
        "id": "TtxUNJASYLzK",
        "outputId": "e790f75a-cfd1-4360-e20d-673f780d66b6"
      },
      "outputs": [
        {
          "output_type": "stream",
          "name": "stdout",
          "text": [
            "Epoch 1/10, Loss: 25.4280, Accuracy: 31.10%\n",
            "Epoch 2/10, Loss: 23.1594, Accuracy: 35.30%\n",
            "Epoch 3/10, Loss: 22.7514, Accuracy: 35.97%\n",
            "Epoch 4/10, Loss: 22.5766, Accuracy: 36.10%\n",
            "Epoch 5/10, Loss: 22.4778, Accuracy: 36.25%\n",
            "Epoch 6/10, Loss: 22.4177, Accuracy: 36.25%\n",
            "Epoch 7/10, Loss: 22.3603, Accuracy: 36.42%\n",
            "Epoch 8/10, Loss: 22.3452, Accuracy: 36.30%\n",
            "Epoch 9/10, Loss: 22.3325, Accuracy: 36.44%\n",
            "Epoch 10/10, Loss: 22.3180, Accuracy: 36.45%\n"
          ]
        }
      ],
      "source": [
        "losses = []\n",
        "accuracies = []\n",
        "\n",
        "n_epochs = 10\n",
        "\n",
        "for epoch in range(n_epochs):\n",
        "    total_loss = 0\n",
        "    correct = 0\n",
        "    total = 0\n",
        "\n",
        "    for input_seq, target_seq in dataloader:\n",
        "        hidden = model.init_hidden()\n",
        "        model.zero_grad()\n",
        "        loss = 0\n",
        "\n",
        "        for i in range(input_seq.size(1)):\n",
        "            input_char = F.one_hot(input_seq[:, i], num_classes=n_chars).float()\n",
        "            target_char = target_seq[:, i]\n",
        "            output, hidden = model(input_char, hidden)\n",
        "            loss += criterion(output, target_char)\n",
        "\n",
        "            _, predicted = torch.max(output, 1)\n",
        "            total += target_char.size(0)\n",
        "            correct += (predicted == target_char).sum().item()\n",
        "\n",
        "        loss.backward()\n",
        "        optimizer.step()\n",
        "\n",
        "        total_loss += loss.item()\n",
        "\n",
        "    avg_loss = total_loss / len(dataloader)\n",
        "    accuracy = 100 * correct / total\n",
        "    losses.append(avg_loss)\n",
        "    accuracies.append(accuracy)\n",
        "\n",
        "    print(f'Epoch {epoch+1}/{n_epochs}, Loss: {avg_loss:.4f}, Accuracy: {accuracy:.2f}%')"
      ]
    },
    {
      "cell_type": "code",
      "execution_count": 12,
      "metadata": {
        "colab": {
          "base_uri": "https://localhost:8080/",
          "height": 487
        },
        "id": "amxtctnjYTHt",
        "outputId": "3b8f514e-2400-45d6-a4fc-bcf3ac5f8cab"
      },
      "outputs": [
        {
          "output_type": "display_data",
          "data": {
            "text/plain": [
              "<Figure size 1000x500 with 1 Axes>"
            ],
            "image/png": "[encoded data removed]"
          },
          "metadata": {}
        }
      ],
      "source": [
        "\n",
        "plt.figure(figsize=(10, 5))\n",
        "plt.plot(range(1, n_epochs + 1), accuracies, marker='o', label='Accuracy')\n",
        "plt.xlabel('Epoch')\n",
        "plt.ylabel('Accuracy (%)')\n",
        "plt.title('Accuracy during Training')\n",
        "plt.legend()\n",
        "plt.grid(True)\n",
        "plt.show()"
      ]
    },
    {
      "cell_type": "code",
      "execution_count": 13,
      "metadata": {
        "colab": {
          "base_uri": "https://localhost:8080/"
        },
        "id": "BLwAXoyOYZVi",
        "outputId": "a984ab33-1793-468c-f07c-4d1596468a8b"
      },
      "outputs": [
        {
          "output_type": "stream",
          "name": "stdout",
          "text": [
            "chand\n",
            "j3i8\n",
            "x0a7\n",
            "2389,kalfsha\n",
            "5379,shagsh\n",
            "f0a7\n",
            "j3i8\n",
            "2389,kalfsha\n",
            "e1\n",
            "b3i8\n"
          ]
        }
      ],
      "source": [
        "def generate_name(start_char='A', max_length=20):\n",
        "    with torch.no_grad():\n",
        "        input_char = F.one_hot(torch.tensor([char_to_idx[start_char]]), num_classes=n_chars).float()\n",
        "        hidden = model.init_hidden()\n",
        "        name = start_char\n",
        "\n",
        "        for _ in range(max_length):\n",
        "            output, hidden = model(input_char, hidden)\n",
        "            topv, topi = output.topk(1)\n",
        "            char_idx = topi[0][0].item()\n",
        "            char = idx_to_char[char_idx]\n",
        "            if char == eol_token:\n",
        "                break\n",
        "            name += char\n",
        "            input_char = F.one_hot(torch.tensor([char_idx]), num_classes=n_chars).float()\n",
        "\n",
        "        return name\n",
        "\n",
        "for _ in range(10):\n",
        "    print(generate_name(start_char=np.random.choice(chars[:-1])))"
      ]
    }
  ],
  "metadata": {
    "colab": {
      "provenance": [],
      "authorship_tag": "ABX9TyO8ckE5Mpcc+QOSM8mi5YjQ",
      "include_colab_link": true
    },
    "kernelspec": {
      "display_name": "Python 3",
      "name": "python3"
    },
    "language_info": {
      "name": "python"
    }
  },
  "nbformat": 4,
  "nbformat_minor": 0
}