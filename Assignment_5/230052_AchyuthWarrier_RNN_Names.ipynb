{
  "nbformat": 4,
  "nbformat_minor": 0,
  "metadata": {
    "colab": {
      "provenance": []
    },
    "kernelspec": {
      "name": "python3",
      "display_name": "Python 3"
    },
    "language_info": {
      "name": "python"
    }
  },
  "cells": [
    {
      "cell_type": "code",
      "execution_count": 43,
      "metadata": {
        "colab": {
          "base_uri": "https://localhost:8080/",
          "height": 73
        },
        "id": "Dorce9z5u0jS",
        "outputId": "646a4dbb-b21e-4516-91a0-b919976a1bf2"
      },
      "outputs": [
        {
          "output_type": "display_data",
          "data": {
            "text/plain": [
              "<IPython.core.display.HTML object>"
            ],
            "text/html": [
              "\n",
              "     <input type=\"file\" id=\"files-6c84237e-0854-4f9a-97d2-fd026c5867b7\" name=\"files[]\" multiple disabled\n",
              "        style=\"border:none\" />\n",
              "     <output id=\"result-6c84237e-0854-4f9a-97d2-fd026c5867b7\">\n",
              "      Upload widget is only available when the cell has been executed in the\n",
              "      current browser session. Please rerun this cell to enable.\n",
              "      </output>\n",
              "      <script>// Copyright 2017 Google LLC\n",
              "//\n",
              "// Licensed under the Apache License, Version 2.0 (the \"License\");\n",
              "// you may not use this file except in compliance with the License.\n",
              "// You may obtain a copy of the License at\n",
              "//\n",
              "//      http://www.apache.org/licenses/LICENSE-2.0\n",
              "//\n",
              "// Unless required by applicable law or agreed to in writing, software\n",
              "// distributed under the License is distributed on an \"AS IS\" BASIS,\n",
              "// WITHOUT WARRANTIES OR CONDITIONS OF ANY KIND, either express or implied.\n",
              "// See the License for the specific language governing permissions and\n",
              "// limitations under the License.\n",
              "\n",
              "/**\n",
              " * @fileoverview Helpers for google.colab Python module.\n",
              " */\n",
              "(function(scope) {\n",
              "function span(text, styleAttributes = {}) {\n",
              "  const element = document.createElement('span');\n",
              "  element.textContent = text;\n",
              "  for (const key of Object.keys(styleAttributes)) {\n",
              "    element.style[key] = styleAttributes[key];\n",
              "  }\n",
              "  return element;\n",
              "}\n",
              "\n",
              "// Max number of bytes which will be uploaded at a time.\n",
              "const MAX_PAYLOAD_SIZE = 100 * 1024;\n",
              "\n",
              "function _uploadFiles(inputId, outputId) {\n",
              "  const steps = uploadFilesStep(inputId, outputId);\n",
              "  const outputElement = document.getElementById(outputId);\n",
              "  // Cache steps on the outputElement to make it available for the next call\n",
              "  // to uploadFilesContinue from Python.\n",
              "  outputElement.steps = steps;\n",
              "\n",
              "  return _uploadFilesContinue(outputId);\n",
              "}\n",
              "\n",
              "// This is roughly an async generator (not supported in the browser yet),\n",
              "// where there are multiple asynchronous steps and the Python side is going\n",
              "// to poll for completion of each step.\n",
              "// This uses a Promise to block the python side on completion of each step,\n",
              "// then passes the result of the previous step as the input to the next step.\n",
              "function _uploadFilesContinue(outputId) {\n",
              "  const outputElement = document.getElementById(outputId);\n",
              "  const steps = outputElement.steps;\n",
              "\n",
              "  const next = steps.next(outputElement.lastPromiseValue);\n",
              "  return Promise.resolve(next.value.promise).then((value) => {\n",
              "    // Cache the last promise value to make it available to the next\n",
              "    // step of the generator.\n",
              "    outputElement.lastPromiseValue = value;\n",
              "    return next.value.response;\n",
              "  });\n",
              "}\n",
              "\n",
              "/**\n",
              " * Generator function which is called between each async step of the upload\n",
              " * process.\n",
              " * @param {string} inputId Element ID of the input file picker element.\n",
              " * @param {string} outputId Element ID of the output display.\n",
              " * @return {!Iterable<!Object>} Iterable of next steps.\n",
              " */\n",
              "function* uploadFilesStep(inputId, outputId) {\n",
              "  const inputElement = document.getElementById(inputId);\n",
              "  inputElement.disabled = false;\n",
              "\n",
              "  const outputElement = document.getElementById(outputId);\n",
              "  outputElement.innerHTML = '';\n",
              "\n",
              "  const pickedPromise = new Promise((resolve) => {\n",
              "    inputElement.addEventListener('change', (e) => {\n",
              "      resolve(e.target.files);\n",
              "    });\n",
              "  });\n",
              "\n",
              "  const cancel = document.createElement('button');\n",
              "  inputElement.parentElement.appendChild(cancel);\n",
              "  cancel.textContent = 'Cancel upload';\n",
              "  const cancelPromise = new Promise((resolve) => {\n",
              "    cancel.onclick = () => {\n",
              "      resolve(null);\n",
              "    };\n",
              "  });\n",
              "\n",
              "  // Wait for the user to pick the files.\n",
              "  const files = yield {\n",
              "    promise: Promise.race([pickedPromise, cancelPromise]),\n",
              "    response: {\n",
              "      action: 'starting',\n",
              "    }\n",
              "  };\n",
              "\n",
              "  cancel.remove();\n",
              "\n",
              "  // Disable the input element since further picks are not allowed.\n",
              "  inputElement.disabled = true;\n",
              "\n",
              "  if (!files) {\n",
              "    return {\n",
              "      response: {\n",
              "        action: 'complete',\n",
              "      }\n",
              "    };\n",
              "  }\n",
              "\n",
              "  for (const file of files) {\n",
              "    const li = document.createElement('li');\n",
              "    li.append(span(file.name, {fontWeight: 'bold'}));\n",
              "    li.append(span(\n",
              "        `(${file.type || 'n/a'}) - ${file.size} bytes, ` +\n",
              "        `last modified: ${\n",
              "            file.lastModifiedDate ? file.lastModifiedDate.toLocaleDateString() :\n",
              "                                    'n/a'} - `));\n",
              "    const percent = span('0% done');\n",
              "    li.appendChild(percent);\n",
              "\n",
              "    outputElement.appendChild(li);\n",
              "\n",
              "    const fileDataPromise = new Promise((resolve) => {\n",
              "      const reader = new FileReader();\n",
              "      reader.onload = (e) => {\n",
              "        resolve(e.target.result);\n",
              "      };\n",
              "      reader.readAsArrayBuffer(file);\n",
              "    });\n",
              "    // Wait for the data to be ready.\n",
              "    let fileData = yield {\n",
              "      promise: fileDataPromise,\n",
              "      response: {\n",
              "        action: 'continue',\n",
              "      }\n",
              "    };\n",
              "\n",
              "    // Use a chunked sending to avoid message size limits. See b/62115660.\n",
              "    let position = 0;\n",
              "    do {\n",
              "      const length = Math.min(fileData.byteLength - position, MAX_PAYLOAD_SIZE);\n",
              "      const chunk = new Uint8Array(fileData, position, length);\n",
              "      position += length;\n",
              "\n",
              "      const base64 = btoa(String.fromCharCode.apply(null, chunk));\n",
              "      yield {\n",
              "        response: {\n",
              "          action: 'append',\n",
              "          file: file.name,\n",
              "          data: base64,\n",
              "        },\n",
              "      };\n",
              "\n",
              "      let percentDone = fileData.byteLength === 0 ?\n",
              "          100 :\n",
              "          Math.round((position / fileData.byteLength) * 100);\n",
              "      percent.textContent = `${percentDone}% done`;\n",
              "\n",
              "    } while (position < fileData.byteLength);\n",
              "  }\n",
              "\n",
              "  // All done.\n",
              "  yield {\n",
              "    response: {\n",
              "      action: 'complete',\n",
              "    }\n",
              "  };\n",
              "}\n",
              "\n",
              "scope.google = scope.google || {};\n",
              "scope.google.colab = scope.google.colab || {};\n",
              "scope.google.colab._files = {\n",
              "  _uploadFiles,\n",
              "  _uploadFilesContinue,\n",
              "};\n",
              "})(self);\n",
              "</script> "
            ]
          },
          "metadata": {}
        },
        {
          "output_type": "stream",
          "name": "stdout",
          "text": [
            "Saving Indian_Names.csv to Indian_Names (1).csv\n"
          ]
        }
      ],
      "source": [
        "from google.colab import files\n",
        "uploaded = files.upload()"
      ]
    },
    {
      "cell_type": "code",
      "source": [
        "import torch\n",
        "from torch.utils.data import Dataset, DataLoader\n",
        "import string\n",
        "\n",
        "# Load data from text file\n",
        "with open('/content/Indian_Names.csv', 'r') as file:\n",
        "    names = file.read().splitlines()\n",
        "\n",
        "# Define character set and mappings\n",
        "all_chars = string.ascii_letters\n",
        "n_chars = len(all_chars)\n",
        "char_to_index = {char: i for i, char in enumerate(all_chars)}\n",
        "index_to_char = {i: char for i, char in enumerate(all_chars)}\n",
        "\n",
        "# Custom Dataset class\n",
        "class NamesDataset(Dataset):\n",
        "    def __init__(self, names):\n",
        "        self.names = names\n",
        "\n",
        "    def __len__(self):\n",
        "        return len(self.names)\n",
        "\n",
        "    def __getitem__(self, idx):\n",
        "        name = self.names[idx]\n",
        "        return [char_to_index[char] for char in name]\n",
        "\n",
        "dataset = NamesDataset(names)\n",
        "dataloader = DataLoader(dataset, batch_size=1, shuffle=True)\n"
      ],
      "metadata": {
        "id": "2Q1oZ8Z9RKUD"
      },
      "execution_count": 60,
      "outputs": []
    },
    {
      "cell_type": "code",
      "source": [
        "def one_hot_encode(index, n_categories):\n",
        "    vec = torch.zeros(n_categories)\n",
        "    vec[index] = 1\n",
        "    return vec\n",
        "\n",
        "def decode(tensor):\n",
        "    indices = torch.argmax(tensor, dim=1)\n",
        "    return ''.join([index_to_char[idx.item()] for idx in indices])\n"
      ],
      "metadata": {
        "id": "Ls_rzl7lSMzI"
      },
      "execution_count": 61,
      "outputs": []
    },
    {
      "cell_type": "code",
      "source": [
        "import torch.nn as nn\n",
        "\n",
        "class RNN(nn.Module):\n",
        "    def __init__(self, input_size, hidden_size, output_size):\n",
        "        super(RNN, self).__init__()\n",
        "        self.hidden_size = hidden_size\n",
        "        self.i2h = nn.Linear(input_size + hidden_size, hidden_size)\n",
        "        self.i2o = nn.Linear(input_size + hidden_size, output_size)\n",
        "        self.softmax = nn.LogSoftmax(dim=1)\n",
        "\n",
        "    def forward(self, input, hidden):\n",
        "        combined = torch.cat((input, hidden), 1)\n",
        "        hidden = self.i2h(combined)\n",
        "        output = self.i2o(combined)\n",
        "        output = self.softmax(output)\n",
        "        return output, hidden\n",
        "\n",
        "    def init_hidden(self):\n",
        "        return torch.zeros(1, self.hidden_size)\n",
        "\n",
        "n_hidden = 128\n",
        "rnn = RNN(n_chars, n_hidden, n_chars)\n"
      ],
      "metadata": {
        "id": "K-ByZWVTSUHd"
      },
      "execution_count": 62,
      "outputs": []
    },
    {
      "cell_type": "code",
      "source": [
        "'''\n",
        "criterion = nn.CrossEntropyLoss()\n",
        "learning_rate = 0.005\n",
        "optimizer = torch.optim.Adam(rnn.parameters(), lr=learning_rate)\n",
        "\n",
        "n_epochs = 1000\n",
        "for epoch in range(1, n_epochs + 1):\n",
        "    for name_tensor in dataloader:\n",
        "        name_tensor = name_tensor[0]\n",
        "        hidden = rnn.init_hidden()\n",
        "\n",
        "        rnn.zero_grad()\n",
        "        loss = 0\n",
        "\n",
        "        for i in range(len(name_tensor) - 1):\n",
        "            input_char = one_hot_encode(name_tensor[i], n_chars).unsqueeze(0)\n",
        "            target_char = name_tensor[i + 1].unsqueeze(0)\n",
        "\n",
        "            output, hidden = rnn(input_char, hidden)\n",
        "            loss += criterion(output, target_char)\n",
        "\n",
        "\n",
        "\n",
        "        optimizer.step()\n",
        "\n",
        "    if epoch % 100 == 0:\n",
        "        print(f'Epoch {epoch} loss: {loss.item() / len(name_tensor)}')\n",
        "'''"
      ],
      "metadata": {
        "colab": {
          "base_uri": "https://localhost:8080/",
          "height": 174
        },
        "id": "MzpeejzxSW6c",
        "outputId": "be096ef9-7670-4eab-9e93-7a40058fa69b"
      },
      "execution_count": 65,
      "outputs": [
        {
          "output_type": "execute_result",
          "data": {
            "text/plain": [
              "\"\\ncriterion = nn.CrossEntropyLoss()\\nlearning_rate = 0.005\\noptimizer = torch.optim.Adam(rnn.parameters(), lr=learning_rate)\\n\\nn_epochs = 1000\\nfor epoch in range(1, n_epochs + 1):\\n    for name_tensor in dataloader:\\n        name_tensor = name_tensor[0]\\n        hidden = rnn.init_hidden()\\n\\n        rnn.zero_grad()\\n        loss = 0\\n\\n        for i in range(len(name_tensor) - 1):\\n            input_char = one_hot_encode(name_tensor[i], n_chars).unsqueeze(0)\\n            target_char = name_tensor[i + 1].unsqueeze(0)\\n\\n            output, hidden = rnn(input_char, hidden)\\n            loss += criterion(output, target_char)\\n\\n\\n\\n        optimizer.step()\\n\\n    if epoch % 100 == 0:\\n        print(f'Epoch {epoch} loss: {loss.item() / len(name_tensor)}')\\n\""
            ],
            "application/vnd.google.colaboratory.intrinsic+json": {
              "type": "string"
            }
          },
          "metadata": {},
          "execution_count": 65
        }
      ]
    },
    {
      "cell_type": "code",
      "source": [
        "import random\n",
        "\n",
        "def generate_name(start_letter='A'):\n",
        "    with torch.no_grad():\n",
        "        input = one_hot_encode(char_to_index[start_letter], n_chars).unsqueeze(0)\n",
        "        hidden = rnn.init_hidden()\n",
        "\n",
        "        output_name = start_letter\n",
        "\n",
        "        for _ in range(50):  # Limiting the max length of generated names\n",
        "            output, hidden = rnn(input, hidden)\n",
        "            topv, topi = output.topk(1)\n",
        "            char_index = topi[0][0].item()\n",
        "\n",
        "            if index_to_char[char_index] == '\\n':\n",
        "                break\n",
        "            else:\n",
        "                char = index_to_char[char_index]\n",
        "                output_name += char\n",
        "\n",
        "\n",
        "            input = one_hot_encode(char_index, n_chars).unsqueeze(0)\n",
        "        if (output_name not in string.digits):\n",
        "          return output_name\n",
        "\n",
        "print(generate_name('A')[:7])\n",
        "print(generate_name('S')[:6])\n",
        "print(generate_name('R')[:5])\n"
      ],
      "metadata": {
        "colab": {
          "base_uri": "https://localhost:8080/"
        },
        "id": "hsJx6QhuSY99",
        "outputId": "dcb0b704-8c78-4ef4-d4d5-dc3fdde81312"
      },
      "execution_count": 63,
      "outputs": [
        {
          "output_type": "stream",
          "name": "stdout",
          "text": [
            "ACCCCCC\n",
            "SOECCC\n",
            "ROACC\n"
          ]
        }
      ]
    },
    {
      "cell_type": "code",
      "source": [],
      "metadata": {
        "id": "qqyaxa7KSnLJ"
      },
      "execution_count": null,
      "outputs": []
    },
    {
      "cell_type": "code",
      "source": [],
      "metadata": {
        "id": "kq_8tUlPUiMt"
      },
      "execution_count": null,
      "outputs": []
    },
    {
      "cell_type": "code",
      "source": [],
      "metadata": {
        "id": "BTcM-Y6EXIze"
      },
      "execution_count": null,
      "outputs": []
    }
  ]
}