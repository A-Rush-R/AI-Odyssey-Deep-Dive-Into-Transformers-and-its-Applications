{
  "nbformat": 4,
  "nbformat_minor": 0,
  "metadata": {
    "colab": {
      "provenance": []
    },
    "kernelspec": {
      "name": "python3",
      "display_name": "Python 3"
    },
    "language_info": {
      "name": "python"
    }
  },
  "cells": [
    {
      "cell_type": "code",
      "execution_count": 28,
      "metadata": {
        "id": "SH91umSbRPeB"
      },
      "outputs": [],
      "source": [
        "import numpy as np\n",
        "import tensorflow as tf\n",
        "from tensorflow.keras.models import Sequential\n",
        "from tensorflow.keras.layers import Embedding, SimpleRNN, Dense, Dropout, Bidirectional"
      ]
    },
    {
      "cell_type": "code",
      "source": [
        "# Load the text file\n",
        "file_path = '/content/names.txt'\n",
        "with open(file_path, 'r') as file:\n",
        "    names = file.read().splitlines()"
      ],
      "metadata": {
        "id": "tZ9sJ-jYRlkS"
      },
      "execution_count": 29,
      "outputs": []
    },
    {
      "cell_type": "code",
      "source": [
        "# Create a set of unique characters in the data\n",
        "chars = sorted(set(''.join(names)))\n",
        "char_to_index = {char: idx for idx, char in enumerate(chars)}\n",
        "index_to_char = {idx: char for idx, char in enumerate(chars)}"
      ],
      "metadata": {
        "id": "81SR5ywnRpak"
      },
      "execution_count": 30,
      "outputs": []
    },
    {
      "cell_type": "code",
      "source": [
        "# Encode the names into sequences of integers\n",
        "encoded_names = [[char_to_index[char] for char in name] for name in names]"
      ],
      "metadata": {
        "id": "ORflAnp_R2Lf"
      },
      "execution_count": 31,
      "outputs": []
    },
    {
      "cell_type": "code",
      "source": [
        "# Define constants\n",
        "max_length = max(len(name) for name in names)\n",
        "vocab_size = len(chars)\n",
        "embedding_dim = 512\n",
        "rnn_units = 256"
      ],
      "metadata": {
        "id": "1GDGvnrYR6H8"
      },
      "execution_count": 32,
      "outputs": []
    },
    {
      "cell_type": "code",
      "source": [
        "# Prepare training data\n",
        "def pad_sequences(sequences, max_length):\n",
        "    return np.array([seq + [0] * (max_length - len(seq)) for seq in sequences])\n",
        "\n",
        "padded_names = pad_sequences(encoded_names, max_length)\n",
        "X = padded_names[:, :-1]\n",
        "y = np.expand_dims(padded_names[:, 1:], -1)"
      ],
      "metadata": {
        "id": "CRx-u5q3ShNG"
      },
      "execution_count": 33,
      "outputs": []
    },
    {
      "cell_type": "code",
      "source": [
        "# Define the model\n",
        "model = Sequential([\n",
        "    Embedding(input_dim=vocab_size, output_dim=embedding_dim, input_length=X.shape[1]),\n",
        "    SimpleRNN(rnn_units, return_sequences=True),\n",
        "    Dropout(0.5),\n",
        "    Dense(vocab_size, activation='softmax')\n",
        "])\n",
        "\n",
        "model.compile(optimizer='RMSprop', loss='sparse_categorical_crossentropy', metrics=['accuracy'])\n",
        "model.summary()"
      ],
      "metadata": {
        "colab": {
          "base_uri": "https://localhost:8080/"
        },
        "id": "vOs6tVEIR8ID",
        "outputId": "c12970f6-3069-4ba1-e538-35d9dc7358ef"
      },
      "execution_count": 41,
      "outputs": [
        {
          "output_type": "stream",
          "name": "stdout",
          "text": [
            "Model: \"sequential_6\"\n",
            "_________________________________________________________________\n",
            " Layer (type)                Output Shape              Param #   \n",
            "=================================================================\n",
            " embedding_6 (Embedding)     (None, 23, 512)           22528     \n",
            "                                                                 \n",
            " simple_rnn_6 (SimpleRNN)    (None, 23, 256)           196864    \n",
            "                                                                 \n",
            " dropout_1 (Dropout)         (None, 23, 256)           0         \n",
            "                                                                 \n",
            " dense_6 (Dense)             (None, 23, 44)            11308     \n",
            "                                                                 \n",
            "=================================================================\n",
            "Total params: 230700 (901.17 KB)\n",
            "Trainable params: 230700 (901.17 KB)\n",
            "Non-trainable params: 0 (0.00 Byte)\n",
            "_________________________________________________________________\n"
          ]
        }
      ]
    },
    {
      "cell_type": "code",
      "source": [],
      "metadata": {
        "id": "jjWJL_e-nUz0"
      },
      "execution_count": null,
      "outputs": []
    },
    {
      "cell_type": "code",
      "source": [
        "# Train the model\n",
        "model.fit(X, y, epochs=10, batch_size=32,validation_split=0.2)"
      ],
      "metadata": {
        "colab": {
          "base_uri": "https://localhost:8080/"
        },
        "id": "xTlOfQkXSCk5",
        "outputId": "92c0115d-36e3-4edc-e986-a3d97353efa1"
      },
      "execution_count": 42,
      "outputs": [
        {
          "output_type": "stream",
          "name": "stdout",
          "text": [
            "Epoch 1/10\n",
            "163/163 [==============================] - 10s 51ms/step - loss: 1.2422 - accuracy: 0.6526 - val_loss: 1.1530 - val_accuracy: 0.6665\n",
            "Epoch 2/10\n",
            "163/163 [==============================] - 9s 58ms/step - loss: 0.9825 - accuracy: 0.6942 - val_loss: 1.1910 - val_accuracy: 0.6665\n",
            "Epoch 3/10\n",
            "163/163 [==============================] - 9s 55ms/step - loss: 0.9405 - accuracy: 0.7049 - val_loss: 1.1524 - val_accuracy: 0.6658\n",
            "Epoch 4/10\n",
            "163/163 [==============================] - 9s 54ms/step - loss: 0.9147 - accuracy: 0.7099 - val_loss: 1.1917 - val_accuracy: 0.6648\n",
            "Epoch 5/10\n",
            "163/163 [==============================] - 10s 59ms/step - loss: 0.8929 - accuracy: 0.7139 - val_loss: 1.2224 - val_accuracy: 0.6681\n",
            "Epoch 6/10\n",
            "163/163 [==============================] - 9s 57ms/step - loss: 0.8728 - accuracy: 0.7210 - val_loss: 1.2205 - val_accuracy: 0.6680\n",
            "Epoch 7/10\n",
            "163/163 [==============================] - 9s 53ms/step - loss: 0.8581 - accuracy: 0.7236 - val_loss: 1.1977 - val_accuracy: 0.6689\n",
            "Epoch 8/10\n",
            "163/163 [==============================] - 9s 53ms/step - loss: 0.8426 - accuracy: 0.7280 - val_loss: 1.2193 - val_accuracy: 0.6668\n",
            "Epoch 9/10\n",
            "163/163 [==============================] - 9s 56ms/step - loss: 0.8289 - accuracy: 0.7309 - val_loss: 1.1823 - val_accuracy: 0.6640\n",
            "Epoch 10/10\n",
            "163/163 [==============================] - 9s 54ms/step - loss: 0.8144 - accuracy: 0.7346 - val_loss: 1.2731 - val_accuracy: 0.6589\n"
          ]
        },
        {
          "output_type": "execute_result",
          "data": {
            "text/plain": [
              "<keras.src.callbacks.History at 0x794ae86a2380>"
            ]
          },
          "metadata": {},
          "execution_count": 42
        }
      ]
    },
    {
      "cell_type": "code",
      "source": [],
      "metadata": {
        "id": "aH94NyCBfEi3"
      },
      "execution_count": null,
      "outputs": []
    },
    {
      "cell_type": "code",
      "source": [
        "def generate_name(model, start_char, char_to_index, index_to_char, max_length=24): # Use the correct max_length\n",
        "    input_seq = [char_to_index[start_char]]\n",
        "    name = start_char\n",
        "    #t=84,v=64\n",
        "\n",
        "    for _ in range(max_length - 1):\n",
        "        # Pad to the correct max_length - 1 to match training data\n",
        "        input_padded = np.pad(input_seq, (0, max_length - 1 - len(input_seq)), 'constant')\n",
        "        input_padded = np.expand_dims(input_padded, 0)\n",
        "\n",
        "        pred = model.predict(input_padded, verbose=0)\n",
        "        next_char_index = np.argmax(pred[0][len(input_seq) - 1])\n",
        "        next_char = index_to_char[next_char_index]\n",
        "\n",
        "        if next_char == '\\n':\n",
        "            break\n",
        "\n",
        "        name += next_char\n",
        "        input_seq.append(next_char_index)\n",
        "\n",
        "    return name\n",
        "\n",
        "\n"
      ],
      "metadata": {
        "id": "iALbyIZxSGqx"
      },
      "execution_count": 43,
      "outputs": []
    },
    {
      "cell_type": "code",
      "source": [
        "# Generate new names\n",
        "for _ in range(10):\n",
        "    start_char = np.random.choice(chars)\n",
        "    print(generate_name(model, start_char, char_to_index, index_to_char))"
      ],
      "metadata": {
        "colab": {
          "base_uri": "https://localhost:8080/"
        },
        "id": "6j5EDac0U1AN",
        "outputId": "9316a6a8-7e19-4b30-c4c0-76deca290d77"
      },
      "execution_count": 45,
      "outputs": [
        {
          "output_type": "stream",
          "name": "stdout",
          "text": [
            "[anani\"\"\"\"\"\"\"\"\"\"\"\"\"\"\"\"\"\"\n",
            "Nana\"\"\"\"\"\"\"\"\"\"\"\"\"\"\"\"\"\"\"\"\n",
            "jani\"\"\"\"\"\"\"\"\"\"\"\"\"\"\"\"\"\"\"\"\n",
            "\"\"\"\"\"\"\"\"\"\"\"\"\"\"\"\"\"\"\"\"\"\"\"\"\n",
            "zarinder\"\"\"\"\"\"\"\"\"\"\"\"\"\"\"\"\n",
            "wari\"\"\"\"\"\"\"\"\"\"\"\"\"\"\"\"\"\"\"\"\n",
            "zarinder\"\"\"\"\"\"\"\"\"\"\"\"\"\"\"\"\n",
            "[anani\"\"\"\"\"\"\"\"\"\"\"\"\"\"\"\"\"\"\n",
            "gani\"\"\"\"\"\"\"\"\"\"\"\"\"\"\"\"\"\"\"\"\n",
            "olal\"\"\"\"\"\"\"\"\"\"\"\"\"\"\"\"\"\"\"\"\n"
          ]
        }
      ]
    },
    {
      "cell_type": "code",
      "source": [],
      "metadata": {
        "id": "LSsdOmd2Vssc"
      },
      "execution_count": null,
      "outputs": []
    }
  ]
}