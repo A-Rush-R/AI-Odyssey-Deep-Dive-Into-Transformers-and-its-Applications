{
  "nbformat": 4,
  "nbformat_minor": 0,
  "metadata": {
    "colab": {
      "provenance": []
    },
    "kernelspec": {
      "name": "python3",
      "display_name": "Python 3"
    },
    "language_info": {
      "name": "python"
    }
  },
  "cells": [
    {
      "cell_type": "markdown",
      "source": [
        "#Artificial Neural Network Assignment\n",
        "###In this assignment you will be implementing various functions from scratch so as to learn how it functions before going on to use various libraries. Doing it honestly will help you a lot in you understanding of the topic. If you encounter difficulties or stuck somewhere go online and search, the possibility that you are encountering the problem first time in 8 billion people is very slim so mostly you will be able to find the solution. Happy learning! 😀"
      ],
      "metadata": {
        "id": "uznt59A4H_8c"
      }
    },
    {
      "cell_type": "code",
      "source": [
        "import pandas as pd\n",
        "import numpy as np\n",
        "from matplotlib import pyplot as plt\n",
        "import seaborn as sns"
      ],
      "metadata": {
        "id": "RuJm-kgYIAuY"
      },
      "execution_count": 1,
      "outputs": []
    },
    {
      "cell_type": "code",
      "source": [
        "test = pd.read_csv('mnist_test.csv')\n",
        "train = pd.read_csv('mnist_train.csv')"
      ],
      "metadata": {
        "id": "NhEX_6TCF9po"
      },
      "execution_count": 3,
      "outputs": []
    },
    {
      "cell_type": "code",
      "source": [
        "x_train = train.drop('label', axis=1)\n",
        "x_train = x_train.T\n",
        "x_train = x_train/255\n",
        "y_train = train.label\n",
        "\n",
        "x_test = test.drop('label',axis=1)\n",
        "x_test = x_test.T\n",
        "y_test = test.label\n",
        "print(x_train)\n",
        "print(y_train)"
      ],
      "metadata": {
        "colab": {
          "base_uri": "https://localhost:8080/"
        },
        "id": "j2HSOA_1GEoi",
        "outputId": "2b250043-76f4-4f92-f3c4-261769c32375"
      },
      "execution_count": 4,
      "outputs": [
        {
          "output_type": "stream",
          "name": "stdout",
          "text": [
            "       0     1     2     3     4     5     6     7     8     9     ...  1711  \\\n",
            "1x1     0.0   0.0   0.0   0.0   0.0   0.0   0.0   0.0   0.0   0.0  ...   0.0   \n",
            "1x2     0.0   0.0   0.0   0.0   0.0   0.0   0.0   0.0   0.0   0.0  ...   0.0   \n",
            "1x3     0.0   0.0   0.0   0.0   0.0   0.0   0.0   0.0   0.0   0.0  ...   0.0   \n",
            "1x4     0.0   0.0   0.0   0.0   0.0   0.0   0.0   0.0   0.0   0.0  ...   0.0   \n",
            "1x5     0.0   0.0   0.0   0.0   0.0   0.0   0.0   0.0   0.0   0.0  ...   0.0   \n",
            "...     ...   ...   ...   ...   ...   ...   ...   ...   ...   ...  ...   ...   \n",
            "28x24   0.0   0.0   0.0   0.0   0.0   0.0   0.0   0.0   0.0   0.0  ...   0.0   \n",
            "28x25   0.0   0.0   0.0   0.0   0.0   0.0   0.0   0.0   0.0   0.0  ...   0.0   \n",
            "28x26   0.0   0.0   0.0   0.0   0.0   0.0   0.0   0.0   0.0   0.0  ...   0.0   \n",
            "28x27   0.0   0.0   0.0   0.0   0.0   0.0   0.0   0.0   0.0   0.0  ...   0.0   \n",
            "28x28   0.0   0.0   0.0   0.0   0.0   0.0   0.0   0.0   0.0   0.0  ...   0.0   \n",
            "\n",
            "       1712  1713  1714  1715  1716  1717  1718  1719  1720  \n",
            "1x1     0.0   0.0   0.0   0.0   0.0   0.0   0.0   0.0   0.0  \n",
            "1x2     0.0   0.0   0.0   0.0   0.0   0.0   0.0   0.0   0.0  \n",
            "1x3     0.0   0.0   0.0   0.0   0.0   0.0   0.0   0.0   0.0  \n",
            "1x4     0.0   0.0   0.0   0.0   0.0   0.0   0.0   0.0   0.0  \n",
            "1x5     0.0   0.0   0.0   0.0   0.0   0.0   0.0   0.0   0.0  \n",
            "...     ...   ...   ...   ...   ...   ...   ...   ...   ...  \n",
            "28x24   0.0   0.0   0.0   0.0   0.0   0.0   0.0   0.0   NaN  \n",
            "28x25   0.0   0.0   0.0   0.0   0.0   0.0   0.0   0.0   NaN  \n",
            "28x26   0.0   0.0   0.0   0.0   0.0   0.0   0.0   0.0   NaN  \n",
            "28x27   0.0   0.0   0.0   0.0   0.0   0.0   0.0   0.0   NaN  \n",
            "28x28   0.0   0.0   0.0   0.0   0.0   0.0   0.0   0.0   NaN  \n",
            "\n",
            "[784 rows x 1721 columns]\n",
            "0       5\n",
            "1       0\n",
            "2       4\n",
            "3       1\n",
            "4       9\n",
            "       ..\n",
            "1716    1\n",
            "1717    1\n",
            "1718    3\n",
            "1719    7\n",
            "1720    9\n",
            "Name: label, Length: 1721, dtype: int64\n"
          ]
        }
      ]
    },
    {
      "cell_type": "code",
      "source": [
        "X_train_reshaped = x_train.T.values.reshape(-1, 28, 28)\n",
        "plt.figure(figsize=(10, 15))\n",
        "for i in range(10):\n",
        "    plt.subplot(5, 5, i+1)\n",
        "    plt.grid(False)\n",
        "    plt.imshow(X_train_reshaped[i])\n",
        "    plt.xlabel(y_train.iloc[i])"
      ],
      "metadata": {
        "colab": {
          "base_uri": "https://localhost:8080/",
          "height": 455
        },
        "id": "N7qyujJwGdWK",
        "outputId": "21371e61-7f7f-4b02-ebe5-27f466886124"
      },
      "execution_count": 5,
      "outputs": [
        {
          "output_type": "display_data",
          "data": {
            "text/plain": [
              "<Figure size 1000x1500 with 10 Axes>"
            ],
            "image/png": "[encoded data removed]"
          },
          "metadata": {}
        }
      ]
    },
    {
      "cell_type": "markdown",
      "source": [
        "The remainder on dividing your roll number by 4 will dictate which function you have to complete but ofcourse if you wish to do more and there's no stopping you.\\\n",
        "Roll_number % 6  \n",
        "                  0:RELU\\\n",
        "                  1:softmax\\\n",
        "                  2:forward_propogation\\\n",
        "                  3:one_hot_encode\\\n",
        "                  4:total_loss\\\n",
        "                  5:backward_propagation"
      ],
      "metadata": {
        "id": "YiCiR8xwJNId"
      }
    },
    {
      "cell_type": "code",
      "source": [
        "class ANN:\n",
        "  def __init__(self, input_size, output_size, learning_rate, num_layers, num_of_nodes_layers):\n",
        "    self.input_size = input_size\n",
        "    self.output_size = output_size\n",
        "    self.learning_rate = learning_rate\n",
        "    self.num_layers = num_layers\n",
        "    self.num_of_nodes_layers = num_of_nodes_layers\n",
        "    self.weights_biases = {}\n",
        "    self.activations = {}\n",
        "\n",
        "  def initial_params(self):\n",
        "    np.random.seed(20)\n",
        "    self.weights_biases['W1'] = np.random.rand(self.num_of_nodes_layers, self.input_size) - 0.5\n",
        "    self.weights_biases['b1'] = np.random.rand(self.num_of_nodes_layers, 1) - 0.5\n",
        "\n",
        "    for i in range(2, self.num_layers + 1):\n",
        "      self.weights_biases[f'W{i}'] = np.random.rand(self.num_of_nodes_layers, self.num_of_nodes_layers) - 0.5\n",
        "      self.weights_biases[f'b{i}'] = np.random.rand(self.num_of_nodes_layers, 1) - 0.5\n",
        "\n",
        "    self.weights_biases[f'W{self.num_layers + 1}'] = np.random.rand(self.output_size, self.num_of_nodes_layers) - 0.5\n",
        "    self.weights_biases[f'b{self.num_layers + 1}'] = np.random.rand(self.output_size, 1) - 0.5\n",
        "\n",
        "  def RELU(self, Z):\n",
        "    # Implement the RELU activation function\n",
        "    return np.maximum(0, Z)\n",
        "\n",
        "  def softmax(self, Z):\n",
        "    # Implement the softmax activation function\n",
        "    t = np.exp(Z)\n",
        "    t = t / t.sum(axis=0, keepdims=True)\n",
        "    return t\n",
        "\n",
        "  def forward_propagation(self, X):\n",
        "    # Implement the forward_propagation function\n",
        "    pass\n",
        "\n",
        "  def one_hot_encode(self, y):\n",
        "    # Implement one hot encoding\n",
        "    one_hot_y = np.zeros((y.max() + 1, y.size))\n",
        "    one_hot_y[y, np.arange(y.size)] = 1\n",
        "    return one_hot_y\n",
        "\n",
        "  def total_loss(self, y_pred, Y):\n",
        "    # Implement the total loss function\n",
        "    m = Y.shape[1]\n",
        "    loss = -np.sum(Y * np.log(y_pred)) / m\n",
        "    return loss\n",
        "\n",
        "  def backward_prop(self, y_pred, Y):\n",
        "    #Implement the backward_prop function\n",
        "    pass\n",
        "\n",
        "  def update_params(self,gradients):\n",
        "\n",
        "    for i in range(1, self.num_layers + 2):\n",
        "       self.weights_biases[f\"W{i}\"] -= self.learning_rate * gradients[f\"dW{i}\"]\n",
        "       self.weights_biases[f\"b{i}\"] -= self.learning_rate * gradients[f\"db{i}\"]\n",
        "\n",
        "  def train(self, X, y, num_iterations):\n",
        "\n",
        "    #implement train\n",
        "    for i in range(num_iterations):\n",
        "      y_pred = self.forward_propagation(X)\n",
        "      gradients = self.backward_prop(y_pred, y)\n",
        "      self.update_params(gradients)\n",
        "      if i % 100 == 0:\n",
        "        loss = self.total_loss(y_pred, y)\n",
        "        print(f\"Iteration {i}: Loss = {loss}\")\n",
        "\n",
        "  def predict(self, X):\n",
        "        b = {}\n",
        "\n",
        "        A,b = self.forward_propagation(X)\n",
        "        predictions = np.argmax(A, axis=0)\n",
        "\n",
        "\n",
        "        return predictions\n"
      ],
      "metadata": {
        "id": "phAYgsG1Gjvd"
      },
      "execution_count": 7,
      "outputs": []
    },
    {
      "cell_type": "code",
      "source": [
        "model = ANN(input_size=784, output_size=10, learning_rate=0.2, num_layers=3, num_of_nodes_layers=64)\n",
        "model.train(x_train, y_train, num_iterations=4000)"
      ],
      "metadata": {
        "colab": {
          "base_uri": "https://localhost:8080/"
        },
        "id": "6TxYkQHqGoZk",
        "outputId": "e1ddc167-df06-467b-c86f-0e4768f4b2a4"
      },
      "execution_count": null,
      "outputs": [
        {
          "output_type": "stream",
          "name": "stdout",
          "text": [
            "Iteration: 100, Loss: nan\n",
            "Iteration: 200, Loss: nan\n",
            "Iteration: 300, Loss: nan\n",
            "Iteration: 400, Loss: nan\n",
            "Iteration: 500, Loss: nan\n",
            "Iteration: 600, Loss: nan\n",
            "Iteration: 700, Loss: nan\n",
            "Iteration: 800, Loss: nan\n",
            "Iteration: 900, Loss: nan\n",
            "Iteration: 1000, Loss: nan\n",
            "Iteration: 1100, Loss: nan\n",
            "Iteration: 1200, Loss: nan\n",
            "Iteration: 1300, Loss: nan\n",
            "Iteration: 1400, Loss: nan\n",
            "Iteration: 1500, Loss: nan\n",
            "Iteration: 1600, Loss: nan\n",
            "Iteration: 1700, Loss: nan\n",
            "Iteration: 1800, Loss: nan\n",
            "Iteration: 1900, Loss: nan\n",
            "Iteration: 2000, Loss: nan\n",
            "Iteration: 2100, Loss: nan\n",
            "Iteration: 2200, Loss: nan\n",
            "Iteration: 2300, Loss: nan\n",
            "Iteration: 2400, Loss: nan\n",
            "Iteration: 2500, Loss: nan\n",
            "Iteration: 2600, Loss: nan\n",
            "Iteration: 2700, Loss: nan\n",
            "Iteration: 2800, Loss: nan\n",
            "Iteration: 2900, Loss: nan\n",
            "Iteration: 3000, Loss: nan\n",
            "Iteration: 3100, Loss: nan\n",
            "Iteration: 3200, Loss: nan\n",
            "Iteration: 3300, Loss: nan\n",
            "Iteration: 3400, Loss: nan\n",
            "Iteration: 3500, Loss: nan\n",
            "Iteration: 3600, Loss: nan\n",
            "Iteration: 3700, Loss: nan\n",
            "Iteration: 3800, Loss: nan\n",
            "Iteration: 3900, Loss: nan\n",
            "Iteration: 4000, Loss: nan\n"
          ]
        }
      ]
    },
    {
      "cell_type": "code",
      "source": [
        "m = model.predict(x_test)\n",
        "b = m.shape\n",
        "c = int(b[0])\n",
        "d = np.array(y_test)\n",
        "d = d.T\n",
        "t=0\n",
        "for i in range(c):\n",
        "    if(m[i]==d[i]):\n",
        "        t=t+1\n",
        "print('Accuracy:',t/c *100, '%')\n",
        "\n"
      ],
      "metadata": {
        "colab": {
          "base_uri": "https://localhost:8080/"
        },
        "id": "UnTSxKCWGqyu",
        "outputId": "822a0a21-9e0d-4872-ffe6-c57ed4a10af0"
      },
      "execution_count": null,
      "outputs": [
        {
          "output_type": "stream",
          "name": "stdout",
          "text": [
            "Accuracy: 9.393414211438476 %\n"
          ]
        }
      ]
    },
    {
      "cell_type": "code",
      "source": [
        "X_test_reshaped = x_test.T.values.reshape(-1, 28, 28)\n",
        "plt.figure(figsize=(5, 5))\n",
        "i = 500\n",
        "print(d[i])\n",
        "plt.imshow(X_test_reshaped[i])\n",
        "plt.xlabel(m[i]);\n"
      ],
      "metadata": {
        "colab": {
          "base_uri": "https://localhost:8080/",
          "height": 482
        },
        "id": "iTJK-5IAGuxd",
        "outputId": "9e7fda22-f03e-4ff8-9370-27c8c5af7769"
      },
      "execution_count": null,
      "outputs": [
        {
          "output_type": "stream",
          "name": "stdout",
          "text": [
            "3\n"
          ]
        },
        {
          "output_type": "display_data",
          "data": {
            "text/plain": [
              "<Figure size 500x500 with 1 Axes>"
            ],
            "image/png": "[encoded data removed]"
          },
          "metadata": {}
        }
      ]
    }
  ]
}