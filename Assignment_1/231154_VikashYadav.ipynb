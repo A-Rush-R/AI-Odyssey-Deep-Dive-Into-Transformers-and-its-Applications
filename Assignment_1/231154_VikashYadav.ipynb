{
  "nbformat": 4,
  "nbformat_minor": 0,
  "metadata": {
    "colab": {
      "provenance": [],
      "include_colab_link": true
    },
    "kernelspec": {
      "name": "python3",
      "display_name": "Python 3"
    },
    "language_info": {
      "name": "python"
    }
  },
  "cells": [
    {
      "cell_type": "markdown",
      "metadata": {
        "id": "view-in-github",
        "colab_type": "text"
      },
      "source": [
        "<a href=\"https://colab.research.google.com/github/Glenap/AI-Odyssey-Deep-Dive-Into-Transformers-and-its-Applications/blob/main/Assignment_1/231154_VikashYadav.ipynb\" target=\"_parent\"><img src=\"https://colab.research.google.com/assets/colab-badge.svg\" alt=\"Open In Colab\"/></a>"
      ]
    },
    {
      "cell_type": "markdown",
      "source": [
        "# ASSIGNMENT 1: SUPERVISED AND UNSUPERVISED LEARNING\n",
        "This assignment will cover the various models taught in class that are regularly used for supervised and unsupervised learning.\n",
        "\n",
        "Recall that Supervised Learning is the paradigm of machine learning that makes use of data labels for training, along with the data features, while  unsupervised relies only on data features.\n"
      ],
      "metadata": {
        "id": "zaYWi0lPDKCZ"
      }
    },
    {
      "cell_type": "markdown",
      "source": [
        "**BEFORE ANYTHING, IMPORT THE NECESSARY LIBRARIES**"
      ],
      "metadata": {
        "id": "b-ot1rVFGAs7"
      }
    },
    {
      "cell_type": "code",
      "source": [
        "import pandas as pd\n",
        "import numpy as np\n",
        "import matplotlib.pyplot as plt\n"
      ],
      "metadata": {
        "id": "vG8_-YtvGHeW"
      },
      "execution_count": 26,
      "outputs": []
    },
    {
      "cell_type": "markdown",
      "source": [
        "## SUPERVISED LEARNING\n",
        "\n",
        "As described in class, the datapoints used in supervised learning are associated with output labels which are used for training. The models trained are then used to predict on similar unseen data to produce similar labels.\n",
        "\n",
        "Supervised learning is broadly divided into two parts:\n",
        "- Regression: The output labels are continuous in nature.\n",
        "- Classification: The output labels are discrete in nature.\n",
        "\n",
        "We'll begin with classification. Recall some of the models taught for the same- **Logistic Regression, Support Vector Machine, KNN, Naive Bayes, Decision Trees and Random Forests**"
      ],
      "metadata": {
        "id": "1lxDk5u2EShq"
      }
    },
    {
      "cell_type": "markdown",
      "source": [
        "### BINARY CLASSIFICATION"
      ],
      "metadata": {
        "id": "NiNQ_GF_G5Ee"
      }
    },
    {
      "cell_type": "code",
      "source": [
        "! gdown 1nkDc4tAv7yMASRSLkbRAttr8qSG5dmcP"
      ],
      "metadata": {
        "colab": {
          "base_uri": "https://localhost:8080/"
        },
        "id": "s276r2MQOd3r",
        "outputId": "b36d0866-7371-450c-a1cc-caa3d18abb62"
      },
      "execution_count": 27,
      "outputs": [
        {
          "output_type": "stream",
          "name": "stdout",
          "text": [
            "Downloading...\n",
            "From: https://drive.google.com/uc?id=1nkDc4tAv7yMASRSLkbRAttr8qSG5dmcP\n",
            "To: /content/nba_logreg.csv\n",
            "\r  0% 0.00/129k [00:00<?, ?B/s]\r100% 129k/129k [00:00<00:00, 73.4MB/s]\n"
          ]
        }
      ]
    },
    {
      "cell_type": "markdown",
      "source": [
        "**Import the csv file `NBA_logreg.csv` as a Pandas dataframe.**"
      ],
      "metadata": {
        "id": "LrAZ90PjIIgI"
      }
    },
    {
      "cell_type": "code",
      "source": [
        "# ENTER YOUR CODE HERE\n",
        "df=pd.read_csv(\"nba_logreg.csv\")"
      ],
      "metadata": {
        "id": "61L6DKrTDV-z"
      },
      "execution_count": 28,
      "outputs": []
    },
    {
      "cell_type": "markdown",
      "source": [
        "**Lets analyse the data a tiny bit!**\n",
        "\n",
        "**What are the no. of rows and columns in the dataset?**"
      ],
      "metadata": {
        "id": "RJVKVCNjIoyv"
      }
    },
    {
      "cell_type": "code",
      "source": [
        "#ENTER YOUR CODE HERE\n",
        "print(df.info())"
      ],
      "metadata": {
        "id": "_dMiG5QAIkJA",
        "colab": {
          "base_uri": "https://localhost:8080/"
        },
        "outputId": "110325d8-b169-4665-c1fa-b1e306e63d7f"
      },
      "execution_count": 29,
      "outputs": [
        {
          "output_type": "stream",
          "name": "stdout",
          "text": [
            "<class 'pandas.core.frame.DataFrame'>\n",
            "RangeIndex: 1340 entries, 0 to 1339\n",
            "Data columns (total 21 columns):\n",
            " #   Column       Non-Null Count  Dtype  \n",
            "---  ------       --------------  -----  \n",
            " 0   Name         1340 non-null   object \n",
            " 1   GP           1340 non-null   int64  \n",
            " 2   MIN          1340 non-null   float64\n",
            " 3   PTS          1340 non-null   float64\n",
            " 4   FGM          1340 non-null   float64\n",
            " 5   FGA          1340 non-null   float64\n",
            " 6   FG%          1340 non-null   float64\n",
            " 7   3P Made      1340 non-null   float64\n",
            " 8   3PA          1340 non-null   float64\n",
            " 9   3P%          1329 non-null   float64\n",
            " 10  FTM          1340 non-null   float64\n",
            " 11  FTA          1340 non-null   float64\n",
            " 12  FT%          1340 non-null   float64\n",
            " 13  OREB         1340 non-null   float64\n",
            " 14  DREB         1340 non-null   float64\n",
            " 15  REB          1340 non-null   float64\n",
            " 16  AST          1340 non-null   float64\n",
            " 17  STL          1340 non-null   float64\n",
            " 18  BLK          1340 non-null   float64\n",
            " 19  TOV          1340 non-null   float64\n",
            " 20  TARGET_5Yrs  1340 non-null   float64\n",
            "dtypes: float64(19), int64(1), object(1)\n",
            "memory usage: 220.0+ KB\n",
            "None\n"
          ]
        }
      ]
    },
    {
      "cell_type": "code",
      "source": [],
      "metadata": {
        "id": "ekliK1DHI5kB"
      },
      "execution_count": 29,
      "outputs": []
    },
    {
      "cell_type": "markdown",
      "source": [
        "**What are the columns?**"
      ],
      "metadata": {
        "id": "bGcL-PUbJBYf"
      }
    },
    {
      "cell_type": "code",
      "source": [
        "#ENTER YOUR CODE HERE\n",
        "print(df.keys())"
      ],
      "metadata": {
        "id": "YAvEcQQTI-Ex",
        "colab": {
          "base_uri": "https://localhost:8080/"
        },
        "outputId": "d09ccbe6-1b3a-4e75-a6cf-90b1588dd255"
      },
      "execution_count": 30,
      "outputs": [
        {
          "output_type": "stream",
          "name": "stdout",
          "text": [
            "Index(['Name', 'GP', 'MIN', 'PTS', 'FGM', 'FGA', 'FG%', '3P Made', '3PA',\n",
            "       '3P%', 'FTM', 'FTA', 'FT%', 'OREB', 'DREB', 'REB', 'AST', 'STL', 'BLK',\n",
            "       'TOV', 'TARGET_5Yrs'],\n",
            "      dtype='object')\n"
          ]
        }
      ]
    },
    {
      "cell_type": "code",
      "source": [],
      "metadata": {
        "id": "n6B_RqbjJF6T"
      },
      "execution_count": 30,
      "outputs": []
    },
    {
      "cell_type": "markdown",
      "source": [
        "**What does the beginning of the dataset look like?**"
      ],
      "metadata": {
        "id": "8hbgXxrTJS52"
      }
    },
    {
      "cell_type": "code",
      "source": [
        "#ENTER YOUR CODE HERE\n",
        "print(df.head())"
      ],
      "metadata": {
        "id": "HvM3hTvjJIvP",
        "colab": {
          "base_uri": "https://localhost:8080/"
        },
        "outputId": "2847f26e-feb7-4968-ae0b-1bd3e3581766"
      },
      "execution_count": 31,
      "outputs": [
        {
          "output_type": "stream",
          "name": "stdout",
          "text": [
            "              Name  GP   MIN  PTS  FGM  FGA   FG%  3P Made  3PA   3P%  ...  \\\n",
            "0   Brandon Ingram  36  27.4  7.4  2.6  7.6  34.7      0.5  2.1  25.0  ...   \n",
            "1  Andrew Harrison  35  26.9  7.2  2.0  6.7  29.6      0.7  2.8  23.5  ...   \n",
            "2   JaKarr Sampson  74  15.3  5.2  2.0  4.7  42.2      0.4  1.7  24.4  ...   \n",
            "3      Malik Sealy  58  11.6  5.7  2.3  5.5  42.6      0.1  0.5  22.6  ...   \n",
            "4      Matt Geiger  48  11.5  4.5  1.6  3.0  52.4      0.0  0.1   0.0  ...   \n",
            "\n",
            "   FTA   FT%  OREB  DREB  REB  AST  STL  BLK  TOV  TARGET_5Yrs  \n",
            "0  2.3  69.9   0.7   3.4  4.1  1.9  0.4  0.4  1.3          0.0  \n",
            "1  3.4  76.5   0.5   2.0  2.4  3.7  1.1  0.5  1.6          0.0  \n",
            "2  1.3  67.0   0.5   1.7  2.2  1.0  0.5  0.3  1.0          0.0  \n",
            "3  1.3  68.9   1.0   0.9  1.9  0.8  0.6  0.1  1.0          1.0  \n",
            "4  1.9  67.4   1.0   1.5  2.5  0.3  0.3  0.4  0.8          1.0  \n",
            "\n",
            "[5 rows x 21 columns]\n"
          ]
        }
      ]
    },
    {
      "cell_type": "code",
      "source": [],
      "metadata": {
        "id": "kqmV2p5nKBg2"
      },
      "execution_count": 31,
      "outputs": []
    },
    {
      "cell_type": "markdown",
      "source": [
        "Actually, the given dataset describes the player history of several NBA players. The column 'TARGET_5yrs' only contains the values 0 and 1, with 0 standing for players who played for less than 5 years, and 1 for players who played for more than or equal to 5 years. Thus, 0 and 1 stand for 2 classes- binary classification!"
      ],
      "metadata": {
        "id": "h2e3oXpSKNWm"
      }
    },
    {
      "cell_type": "markdown",
      "source": [
        "**Clean the dataset. Drop the NaN values!**\n",
        "\n"
      ],
      "metadata": {
        "id": "uwO28ifrQIOw"
      }
    },
    {
      "cell_type": "code",
      "source": [
        "#ENTER YOUR CODE HERE\n",
        "df.dropna(inplace=True)\n"
      ],
      "metadata": {
        "id": "ufE2h5ctQNNK"
      },
      "execution_count": 32,
      "outputs": []
    },
    {
      "cell_type": "code",
      "source": [],
      "metadata": {
        "id": "yChOOG3tQQ5R"
      },
      "execution_count": 32,
      "outputs": []
    },
    {
      "cell_type": "markdown",
      "source": [
        "**What is the shape of the dataframe now?**"
      ],
      "metadata": {
        "id": "hwo8lse6QVSp"
      }
    },
    {
      "cell_type": "code",
      "source": [
        "#ENTER YOUR CODE HERE\n",
        "print('Shape of the dataframe post dropping rows with NaN values is:',(df.shape))"
      ],
      "metadata": {
        "id": "IQVcBYQqQZHB",
        "colab": {
          "base_uri": "https://localhost:8080/"
        },
        "outputId": "e7f184d3-eed5-4bf6-daff-3d8c1e024a6b"
      },
      "execution_count": 33,
      "outputs": [
        {
          "output_type": "stream",
          "name": "stdout",
          "text": [
            "Shape of the dataframe post dropping rows with NaN values is: (1329, 21)\n"
          ]
        }
      ]
    },
    {
      "cell_type": "code",
      "source": [],
      "metadata": {
        "id": "R3fGyJ4mQdKK"
      },
      "execution_count": 33,
      "outputs": []
    },
    {
      "cell_type": "markdown",
      "source": [
        "**For training, first create a dataframe that stores the columns to be used for training, and another dataframe that stores the labels.**"
      ],
      "metadata": {
        "id": "s0I_Yf_TKqax"
      }
    },
    {
      "cell_type": "code",
      "source": [
        "#ENTER YOUR CODE HERE\n",
        "df.drop('Name',axis=1,inplace=True)\n",
        "X = df.iloc[:, :-1]\n",
        "y = df.iloc[:, -1]\n",
        "X_train, X_test, y_train, y_test = train_test_split(X, y, test_size=266, random_state=42)\n",
        "print(f\"The shape of training features dataframe is: {X_train.shape}\")\n",
        "print(f\"The shape of testing features dataframe is: {X_test.shape}\")\n",
        "print(f\"The shape of training labels dataframe is: {y_train.shape}\")\n",
        "print(f\"The shape of test labels dataframe is: {y_test.shape}\")\n",
        "\n",
        "split_ratio = X_train.shape[0] / X_test.shape[0]\n",
        "print(f\"The train-to-test split ratio is: {split_ratio}\")"
      ],
      "metadata": {
        "id": "a77kgq4qKG-Q",
        "colab": {
          "base_uri": "https://localhost:8080/"
        },
        "outputId": "da850e09-43e7-4856-d31f-c5e7edd10863"
      },
      "execution_count": 34,
      "outputs": [
        {
          "output_type": "stream",
          "name": "stdout",
          "text": [
            "The shape of training features dataframe is: (1063, 19)\n",
            "The shape of testing features dataframe is: (266, 19)\n",
            "The shape of training labels dataframe is: (1063,)\n",
            "The shape of test labels dataframe is: (266,)\n",
            "The train-to-test split ratio is: 3.9962406015037595\n"
          ]
        }
      ]
    },
    {
      "cell_type": "markdown",
      "source": [
        "It is considered best practice to divide the dataset into two parts- test and train(Search the internet for the reason- we'll ask in class :)).\n",
        "\n",
        "**Import the sklearn module that allows us to split the dataset into train and test.**"
      ],
      "metadata": {
        "id": "4mrhs4LIMRpa"
      }
    },
    {
      "cell_type": "code",
      "source": [
        "#ENTER YOUR CODE HERE\n",
        "from sklearn.model_selection import train_test_split"
      ],
      "metadata": {
        "id": "moHf3sCVLxGW"
      },
      "execution_count": 35,
      "outputs": []
    },
    {
      "cell_type": "markdown",
      "source": [
        "**Now divide the features and label dataframes into train and test splits.**"
      ],
      "metadata": {
        "id": "mE52oQPXNLge"
      }
    },
    {
      "cell_type": "code",
      "source": [
        "#ENTER YOUR CODE HERE\n",
        "X_train, X_test, y_train, y_test = train_test_split(X, y, test_size=266, random_state=42)"
      ],
      "metadata": {
        "id": "LsNMKidyNKlD"
      },
      "execution_count": 36,
      "outputs": []
    },
    {
      "cell_type": "code",
      "source": [],
      "metadata": {
        "id": "X-aqbS2DNGtu"
      },
      "execution_count": 36,
      "outputs": []
    },
    {
      "cell_type": "markdown",
      "source": [
        "**Now load the sklearn module that allows the creation of a logistic regression model.**"
      ],
      "metadata": {
        "id": "OJmtO-dIOtuv"
      }
    },
    {
      "cell_type": "code",
      "source": [
        "#ENTER YOUR CODE HERE\n",
        "from sklearn.linear_model import LogisticRegression"
      ],
      "metadata": {
        "id": "ceGDe-4FNeVx"
      },
      "execution_count": 37,
      "outputs": []
    },
    {
      "cell_type": "markdown",
      "source": [
        "**Onto training! Train the a logistic regression model using the training features and labels dataframes.**"
      ],
      "metadata": {
        "id": "JhCHs8dRPoUH"
      }
    },
    {
      "cell_type": "code",
      "source": [
        "#ENTER YOUR CODE HERE\n",
        "model = LogisticRegression()\n",
        "\n",
        "# Fit the model to the training data\n",
        "model.fit(X_train, y_train)\n"
      ],
      "metadata": {
        "id": "2ZAyDpOXO9uJ",
        "colab": {
          "base_uri": "https://localhost:8080/",
          "height": 238
        },
        "outputId": "ec72d49b-7ea7-473e-d708-b113d1eee591"
      },
      "execution_count": 38,
      "outputs": [
        {
          "output_type": "stream",
          "name": "stderr",
          "text": [
            "/usr/local/lib/python3.10/dist-packages/sklearn/linear_model/_logistic.py:458: ConvergenceWarning: lbfgs failed to converge (status=1):\n",
            "STOP: TOTAL NO. of ITERATIONS REACHED LIMIT.\n",
            "\n",
            "Increase the number of iterations (max_iter) or scale the data as shown in:\n",
            "    https://scikit-learn.org/stable/modules/preprocessing.html\n",
            "Please also refer to the documentation for alternative solver options:\n",
            "    https://scikit-learn.org/stable/modules/linear_model.html#logistic-regression\n",
            "  n_iter_i = _check_optimize_result(\n"
          ]
        },
        {
          "output_type": "execute_result",
          "data": {
            "text/plain": [
              "LogisticRegression()"
            ],
            "text/html": [
              "<style>#sk-container-id-2 {color: black;background-color: white;}#sk-container-id-2 pre{padding: 0;}#sk-container-id-2 div.sk-toggleable {background-color: white;}#sk-container-id-2 label.sk-toggleable__label {cursor: pointer;display: block;width: 100%;margin-bottom: 0;padding: 0.3em;box-sizing: border-box;text-align: center;}#sk-container-id-2 label.sk-toggleable__label-arrow:before {content: \"▸\";float: left;margin-right: 0.25em;color: #696969;}#sk-container-id-2 label.sk-toggleable__label-arrow:hover:before {color: black;}#sk-container-id-2 div.sk-estimator:hover label.sk-toggleable__label-arrow:before {color: black;}#sk-container-id-2 div.sk-toggleable__content {max-height: 0;max-width: 0;overflow: hidden;text-align: left;background-color: #f0f8ff;}#sk-container-id-2 div.sk-toggleable__content pre {margin: 0.2em;color: black;border-radius: 0.25em;background-color: #f0f8ff;}#sk-container-id-2 input.sk-toggleable__control:checked~div.sk-toggleable__content {max-height: 200px;max-width: 100%;overflow: auto;}#sk-container-id-2 input.sk-toggleable__control:checked~label.sk-toggleable__label-arrow:before {content: \"▾\";}#sk-container-id-2 div.sk-estimator input.sk-toggleable__control:checked~label.sk-toggleable__label {background-color: #d4ebff;}#sk-container-id-2 div.sk-label input.sk-toggleable__control:checked~label.sk-toggleable__label {background-color: #d4ebff;}#sk-container-id-2 input.sk-hidden--visually {border: 0;clip: rect(1px 1px 1px 1px);clip: rect(1px, 1px, 1px, 1px);height: 1px;margin: -1px;overflow: hidden;padding: 0;position: absolute;width: 1px;}#sk-container-id-2 div.sk-estimator {font-family: monospace;background-color: #f0f8ff;border: 1px dotted black;border-radius: 0.25em;box-sizing: border-box;margin-bottom: 0.5em;}#sk-container-id-2 div.sk-estimator:hover {background-color: #d4ebff;}#sk-container-id-2 div.sk-parallel-item::after {content: \"\";width: 100%;border-bottom: 1px solid gray;flex-grow: 1;}#sk-container-id-2 div.sk-label:hover label.sk-toggleable__label {background-color: #d4ebff;}#sk-container-id-2 div.sk-serial::before {content: \"\";position: absolute;border-left: 1px solid gray;box-sizing: border-box;top: 0;bottom: 0;left: 50%;z-index: 0;}#sk-container-id-2 div.sk-serial {display: flex;flex-direction: column;align-items: center;background-color: white;padding-right: 0.2em;padding-left: 0.2em;position: relative;}#sk-container-id-2 div.sk-item {position: relative;z-index: 1;}#sk-container-id-2 div.sk-parallel {display: flex;align-items: stretch;justify-content: center;background-color: white;position: relative;}#sk-container-id-2 div.sk-item::before, #sk-container-id-2 div.sk-parallel-item::before {content: \"\";position: absolute;border-left: 1px solid gray;box-sizing: border-box;top: 0;bottom: 0;left: 50%;z-index: -1;}#sk-container-id-2 div.sk-parallel-item {display: flex;flex-direction: column;z-index: 1;position: relative;background-color: white;}#sk-container-id-2 div.sk-parallel-item:first-child::after {align-self: flex-end;width: 50%;}#sk-container-id-2 div.sk-parallel-item:last-child::after {align-self: flex-start;width: 50%;}#sk-container-id-2 div.sk-parallel-item:only-child::after {width: 0;}#sk-container-id-2 div.sk-dashed-wrapped {border: 1px dashed gray;margin: 0 0.4em 0.5em 0.4em;box-sizing: border-box;padding-bottom: 0.4em;background-color: white;}#sk-container-id-2 div.sk-label label {font-family: monospace;font-weight: bold;display: inline-block;line-height: 1.2em;}#sk-container-id-2 div.sk-label-container {text-align: center;}#sk-container-id-2 div.sk-container {/* jupyter's `normalize.less` sets `[hidden] { display: none; }` but bootstrap.min.css set `[hidden] { display: none !important; }` so we also need the `!important` here to be able to override the default hidden behavior on the sphinx rendered scikit-learn.org. See: https://github.com/scikit-learn/scikit-learn/issues/21755 */display: inline-block !important;position: relative;}#sk-container-id-2 div.sk-text-repr-fallback {display: none;}</style><div id=\"sk-container-id-2\" class=\"sk-top-container\"><div class=\"sk-text-repr-fallback\"><pre>LogisticRegression()</pre><b>In a Jupyter environment, please rerun this cell to show the HTML representation or trust the notebook. <br />On GitHub, the HTML representation is unable to render, please try loading this page with nbviewer.org.</b></div><div class=\"sk-container\" hidden><div class=\"sk-item\"><div class=\"sk-estimator sk-toggleable\"><input class=\"sk-toggleable__control sk-hidden--visually\" id=\"sk-estimator-id-2\" type=\"checkbox\" checked><label for=\"sk-estimator-id-2\" class=\"sk-toggleable__label sk-toggleable__label-arrow\">LogisticRegression</label><div class=\"sk-toggleable__content\"><pre>LogisticRegression()</pre></div></div></div></div></div>"
            ]
          },
          "metadata": {},
          "execution_count": 38
        }
      ]
    },
    {
      "cell_type": "code",
      "source": [],
      "metadata": {
        "id": "_ZbwWuLWP3B5"
      },
      "execution_count": 38,
      "outputs": []
    },
    {
      "cell_type": "markdown",
      "source": [
        "Your model is trained! Time to check how good it is by using it on the testing dataframe.\n",
        "Some metrics are used to check the reliability of a model.\n",
        "\n",
        "**As an exercise, read about these and fill out the markdown below!**\n"
      ],
      "metadata": {
        "id": "opVhHdo9RC5P"
      }
    },
    {
      "cell_type": "markdown",
      "source": [
        "- Accuracy:\n",
        "- F1 score:\n",
        "- Precision:\n",
        "- Recall:"
      ],
      "metadata": {
        "id": "bzEedj-SRi5s"
      }
    },
    {
      "cell_type": "markdown",
      "source": [
        "All of these can be calculated for our model using sklearn modules.\n",
        "\n",
        "**Import them!**"
      ],
      "metadata": {
        "id": "rVyeTzTjR_qK"
      }
    },
    {
      "cell_type": "code",
      "source": [
        "#ENTER YOUR CODE HERE\n",
        "from sklearn.metrics import accuracy_score, f1_score, precision_score, recall_score"
      ],
      "metadata": {
        "id": "37tLz-NaQBUX"
      },
      "execution_count": 39,
      "outputs": []
    },
    {
      "cell_type": "markdown",
      "source": [
        "**Now test on the testing dataframe and print all of these metrics.**"
      ],
      "metadata": {
        "id": "zElWrDGmSRlK"
      }
    },
    {
      "cell_type": "code",
      "source": [
        "#ENTER YOUR CODE HERE\n",
        "y_pred = model.predict(X_test)\n",
        "accuracy = accuracy_score(y_test, y_pred)\n",
        "f1 = f1_score(y_test, y_pred)\n",
        "precision = precision_score(y_test, y_pred)\n",
        "recall = recall_score(y_test, y_pred)\n",
        "\n",
        "print(f\"Accuracy of the model is: {accuracy:}\")\n",
        "print(f\"F1 score of the model is: {f1:.4f}\")\n",
        "print(f\"Precision of the model is: {precision:}\")\n",
        "print(f\"Recall of the model is: {recall:}\")"
      ],
      "metadata": {
        "id": "WJzyAJIySPZ2",
        "colab": {
          "base_uri": "https://localhost:8080/"
        },
        "outputId": "e81f4423-3018-4300-f0ca-2815de2a4f49"
      },
      "execution_count": 40,
      "outputs": [
        {
          "output_type": "stream",
          "name": "stdout",
          "text": [
            "Accuracy of the model is: 0.7518796992481203\n",
            "F1 score of the model is: 0.8136\n",
            "Precision of the model is: 0.8089887640449438\n",
            "Recall of the model is: 0.8181818181818182\n"
          ]
        }
      ]
    },
    {
      "cell_type": "code",
      "source": [],
      "metadata": {
        "id": "NGRDIfWATDNE"
      },
      "execution_count": 40,
      "outputs": []
    },
    {
      "cell_type": "markdown",
      "source": [
        "**Your Logistic Regression model is well trained!**"
      ],
      "metadata": {
        "id": "UWgbqzXETxXZ"
      }
    },
    {
      "cell_type": "markdown",
      "source": [
        "Support Vector Machine is another model that can be used both for regression and classification. We'll be training a classification model on our current dataset.\n",
        "\n",
        "**Import the sklearn module that is used to implement a classification SVM**"
      ],
      "metadata": {
        "id": "68lSe08aU6ry"
      }
    },
    {
      "cell_type": "code",
      "source": [
        "#ENTER YOUR CODE HERE\n",
        "from sklearn import svm"
      ],
      "metadata": {
        "id": "WYoXDTF_Ttez"
      },
      "execution_count": 41,
      "outputs": []
    },
    {
      "cell_type": "markdown",
      "source": [
        "**Just as we had before, load and fit a model on our training dataset.**"
      ],
      "metadata": {
        "id": "uNpdKWaJV0Ja"
      }
    },
    {
      "cell_type": "code",
      "source": [
        "#ENTER YOUR CODE HERE\n",
        "clf = svm.SVC()\n",
        "clf.fit(X_train, y_train)\n"
      ],
      "metadata": {
        "id": "qdIPbMvlzxWX",
        "colab": {
          "base_uri": "https://localhost:8080/",
          "height": 75
        },
        "outputId": "a8096837-0668-4f9a-911b-3a5b75a09c2d"
      },
      "execution_count": 42,
      "outputs": [
        {
          "output_type": "execute_result",
          "data": {
            "text/plain": [
              "SVC()"
            ],
            "text/html": [
              "<style>#sk-container-id-3 {color: black;background-color: white;}#sk-container-id-3 pre{padding: 0;}#sk-container-id-3 div.sk-toggleable {background-color: white;}#sk-container-id-3 label.sk-toggleable__label {cursor: pointer;display: block;width: 100%;margin-bottom: 0;padding: 0.3em;box-sizing: border-box;text-align: center;}#sk-container-id-3 label.sk-toggleable__label-arrow:before {content: \"▸\";float: left;margin-right: 0.25em;color: #696969;}#sk-container-id-3 label.sk-toggleable__label-arrow:hover:before {color: black;}#sk-container-id-3 div.sk-estimator:hover label.sk-toggleable__label-arrow:before {color: black;}#sk-container-id-3 div.sk-toggleable__content {max-height: 0;max-width: 0;overflow: hidden;text-align: left;background-color: #f0f8ff;}#sk-container-id-3 div.sk-toggleable__content pre {margin: 0.2em;color: black;border-radius: 0.25em;background-color: #f0f8ff;}#sk-container-id-3 input.sk-toggleable__control:checked~div.sk-toggleable__content {max-height: 200px;max-width: 100%;overflow: auto;}#sk-container-id-3 input.sk-toggleable__control:checked~label.sk-toggleable__label-arrow:before {content: \"▾\";}#sk-container-id-3 div.sk-estimator input.sk-toggleable__control:checked~label.sk-toggleable__label {background-color: #d4ebff;}#sk-container-id-3 div.sk-label input.sk-toggleable__control:checked~label.sk-toggleable__label {background-color: #d4ebff;}#sk-container-id-3 input.sk-hidden--visually {border: 0;clip: rect(1px 1px 1px 1px);clip: rect(1px, 1px, 1px, 1px);height: 1px;margin: -1px;overflow: hidden;padding: 0;position: absolute;width: 1px;}#sk-container-id-3 div.sk-estimator {font-family: monospace;background-color: #f0f8ff;border: 1px dotted black;border-radius: 0.25em;box-sizing: border-box;margin-bottom: 0.5em;}#sk-container-id-3 div.sk-estimator:hover {background-color: #d4ebff;}#sk-container-id-3 div.sk-parallel-item::after {content: \"\";width: 100%;border-bottom: 1px solid gray;flex-grow: 1;}#sk-container-id-3 div.sk-label:hover label.sk-toggleable__label {background-color: #d4ebff;}#sk-container-id-3 div.sk-serial::before {content: \"\";position: absolute;border-left: 1px solid gray;box-sizing: border-box;top: 0;bottom: 0;left: 50%;z-index: 0;}#sk-container-id-3 div.sk-serial {display: flex;flex-direction: column;align-items: center;background-color: white;padding-right: 0.2em;padding-left: 0.2em;position: relative;}#sk-container-id-3 div.sk-item {position: relative;z-index: 1;}#sk-container-id-3 div.sk-parallel {display: flex;align-items: stretch;justify-content: center;background-color: white;position: relative;}#sk-container-id-3 div.sk-item::before, #sk-container-id-3 div.sk-parallel-item::before {content: \"\";position: absolute;border-left: 1px solid gray;box-sizing: border-box;top: 0;bottom: 0;left: 50%;z-index: -1;}#sk-container-id-3 div.sk-parallel-item {display: flex;flex-direction: column;z-index: 1;position: relative;background-color: white;}#sk-container-id-3 div.sk-parallel-item:first-child::after {align-self: flex-end;width: 50%;}#sk-container-id-3 div.sk-parallel-item:last-child::after {align-self: flex-start;width: 50%;}#sk-container-id-3 div.sk-parallel-item:only-child::after {width: 0;}#sk-container-id-3 div.sk-dashed-wrapped {border: 1px dashed gray;margin: 0 0.4em 0.5em 0.4em;box-sizing: border-box;padding-bottom: 0.4em;background-color: white;}#sk-container-id-3 div.sk-label label {font-family: monospace;font-weight: bold;display: inline-block;line-height: 1.2em;}#sk-container-id-3 div.sk-label-container {text-align: center;}#sk-container-id-3 div.sk-container {/* jupyter's `normalize.less` sets `[hidden] { display: none; }` but bootstrap.min.css set `[hidden] { display: none !important; }` so we also need the `!important` here to be able to override the default hidden behavior on the sphinx rendered scikit-learn.org. See: https://github.com/scikit-learn/scikit-learn/issues/21755 */display: inline-block !important;position: relative;}#sk-container-id-3 div.sk-text-repr-fallback {display: none;}</style><div id=\"sk-container-id-3\" class=\"sk-top-container\"><div class=\"sk-text-repr-fallback\"><pre>SVC()</pre><b>In a Jupyter environment, please rerun this cell to show the HTML representation or trust the notebook. <br />On GitHub, the HTML representation is unable to render, please try loading this page with nbviewer.org.</b></div><div class=\"sk-container\" hidden><div class=\"sk-item\"><div class=\"sk-estimator sk-toggleable\"><input class=\"sk-toggleable__control sk-hidden--visually\" id=\"sk-estimator-id-3\" type=\"checkbox\" checked><label for=\"sk-estimator-id-3\" class=\"sk-toggleable__label sk-toggleable__label-arrow\">SVC</label><div class=\"sk-toggleable__content\"><pre>SVC()</pre></div></div></div></div></div>"
            ]
          },
          "metadata": {},
          "execution_count": 42
        }
      ]
    },
    {
      "cell_type": "code",
      "source": [],
      "metadata": {
        "id": "tO-wMRGIVydl"
      },
      "execution_count": 42,
      "outputs": []
    },
    {
      "cell_type": "markdown",
      "source": [
        "**Now test the model on the training dataset, and check the relevant metrics!**"
      ],
      "metadata": {
        "id": "gMgFxTr9V_9p"
      }
    },
    {
      "cell_type": "code",
      "source": [
        "#ENTER YOUR CODE HERE\n",
        "y_pred = clf.predict(X_train)\n",
        "accuracy = accuracy_score(y_train, y_pred)\n",
        "f1 = f1_score(y_train, y_pred)\n",
        "precision = precision_score(y_train, y_pred)\n",
        "recall = recall_score(y_train, y_pred)\n",
        "print(f\"Accuracy of the model is: {accuracy:}\")\n",
        "print(f\"F1 score of the model is: {f1:}\")\n",
        "print(f\"Precision of the model is: {precision:}\")\n",
        "print(f\"Recall of the model is: {recall:}\")"
      ],
      "metadata": {
        "id": "LfkCh9vQz0ml",
        "colab": {
          "base_uri": "https://localhost:8080/"
        },
        "outputId": "38207a4f-0ae5-4b28-fca3-4f0b4806dba0"
      },
      "execution_count": 43,
      "outputs": [
        {
          "output_type": "stream",
          "name": "stdout",
          "text": [
            "Accuracy of the model is: 0.6933207902163687\n",
            "F1 score of the model is: 0.7704225352112676\n",
            "Precision of the model is: 0.7103896103896103\n",
            "Recall of the model is: 0.8415384615384616\n"
          ]
        }
      ]
    },
    {
      "cell_type": "code",
      "source": [],
      "metadata": {
        "id": "v6ZKHv3zV-tO"
      },
      "execution_count": 43,
      "outputs": []
    },
    {
      "cell_type": "markdown",
      "source": [
        "### MULTICLASS CLASSIFICATION"
      ],
      "metadata": {
        "id": "lBFdz2qEYVE6"
      }
    },
    {
      "cell_type": "code",
      "source": [
        "! gdown 1bhWHfp1QS7ZHbNbxP_zFtEUAf76WfntC"
      ],
      "metadata": {
        "colab": {
          "base_uri": "https://localhost:8080/"
        },
        "id": "YUH0XCozORuk",
        "outputId": "8b5863ff-cdda-4302-ed09-c1ec4498b986"
      },
      "execution_count": 44,
      "outputs": [
        {
          "output_type": "stream",
          "name": "stdout",
          "text": [
            "Downloading...\n",
            "From: https://drive.google.com/uc?id=1bhWHfp1QS7ZHbNbxP_zFtEUAf76WfntC\n",
            "To: /content/social_well_being.csv\n",
            "\r  0% 0.00/43.1k [00:00<?, ?B/s]\r100% 43.1k/43.1k [00:00<00:00, 71.6MB/s]\n"
          ]
        }
      ]
    },
    {
      "cell_type": "markdown",
      "source": [
        "**Import the csv `social_well_being.csv` as a pandas dataframe.**"
      ],
      "metadata": {
        "id": "kMUhRKOqYaFk"
      }
    },
    {
      "cell_type": "code",
      "source": [
        "#ENTER YOUR CODE HERE\n",
        "df=pd.read_csv(\"social_well_being.csv\")"
      ],
      "metadata": {
        "id": "Ftaa41llYqbo"
      },
      "execution_count": 45,
      "outputs": []
    },
    {
      "cell_type": "markdown",
      "source": [
        "**Always analyse the data.**"
      ],
      "metadata": {
        "id": "7aHebnkTYxI4"
      }
    },
    {
      "cell_type": "code",
      "source": [
        "#ENTER YOUR CODE HERE\n",
        "print(df.info())"
      ],
      "metadata": {
        "id": "jOrDMtOYYoH6",
        "colab": {
          "base_uri": "https://localhost:8080/"
        },
        "outputId": "d8b0b86f-d0fa-4a33-aed9-ce767e2a53d4"
      },
      "execution_count": 46,
      "outputs": [
        {
          "output_type": "stream",
          "name": "stdout",
          "text": [
            "<class 'pandas.core.frame.DataFrame'>\n",
            "RangeIndex: 924 entries, 0 to 923\n",
            "Data columns (total 10 columns):\n",
            " #   Column                      Non-Null Count  Dtype \n",
            "---  ------                      --------------  ----- \n",
            " 0   User_ID                     924 non-null    int64 \n",
            " 1   Age                         924 non-null    int64 \n",
            " 2   Gender                      924 non-null    object\n",
            " 3   Platform                    924 non-null    object\n",
            " 4   Daily_Usage_Time (minutes)  924 non-null    int64 \n",
            " 5   Posts_Per_Day               924 non-null    int64 \n",
            " 6   Likes_Received_Per_Day      924 non-null    int64 \n",
            " 7   Comments_Received_Per_Day   924 non-null    int64 \n",
            " 8   Messages_Sent_Per_Day       924 non-null    int64 \n",
            " 9   Dominant_Emotion            924 non-null    object\n",
            "dtypes: int64(7), object(3)\n",
            "memory usage: 72.3+ KB\n",
            "None\n"
          ]
        }
      ]
    },
    {
      "cell_type": "code",
      "source": [],
      "metadata": {
        "id": "fLaRmE1qY5lw"
      },
      "execution_count": 46,
      "outputs": []
    },
    {
      "cell_type": "code",
      "source": [
        "print(df.keys())"
      ],
      "metadata": {
        "colab": {
          "base_uri": "https://localhost:8080/"
        },
        "id": "4QB-frPVY6kw",
        "outputId": "fc8452c1-ad22-4f56-89ea-8522ad1a30d0"
      },
      "execution_count": 47,
      "outputs": [
        {
          "output_type": "stream",
          "name": "stdout",
          "text": [
            "Index(['User_ID', 'Age', 'Gender', 'Platform', 'Daily_Usage_Time (minutes)',\n",
            "       'Posts_Per_Day', 'Likes_Received_Per_Day', 'Comments_Received_Per_Day',\n",
            "       'Messages_Sent_Per_Day', 'Dominant_Emotion'],\n",
            "      dtype='object')\n"
          ]
        }
      ]
    },
    {
      "cell_type": "code",
      "source": [
        "df.head()"
      ],
      "metadata": {
        "colab": {
          "base_uri": "https://localhost:8080/",
          "height": 261
        },
        "id": "DU3JY0wUZySz",
        "outputId": "dc6fc1ac-a09a-4a02-da56-94c87283fc6c"
      },
      "execution_count": 48,
      "outputs": [
        {
          "output_type": "execute_result",
          "data": {
            "text/plain": [
              "   User_ID  Age      Gender   Platform  Daily_Usage_Time (minutes)  \\\n",
              "0        1   25      Female  Instagram                         120   \n",
              "1        2   30        Male    Twitter                          90   \n",
              "2        3   22  Non-binary   Facebook                          60   \n",
              "3        4   28      Female  Instagram                         200   \n",
              "4        5   33        Male   LinkedIn                          45   \n",
              "\n",
              "   Posts_Per_Day  Likes_Received_Per_Day  Comments_Received_Per_Day  \\\n",
              "0              3                      45                         10   \n",
              "1              5                      20                         25   \n",
              "2              2                      15                          5   \n",
              "3              8                     100                         30   \n",
              "4              1                       5                          2   \n",
              "\n",
              "   Messages_Sent_Per_Day Dominant_Emotion  \n",
              "0                     12        Happiness  \n",
              "1                     30            Anger  \n",
              "2                     20          Neutral  \n",
              "3                     50          Anxiety  \n",
              "4                     10          Boredom  "
            ],
            "text/html": [
              "\n",
              "  <div id=\"df-afed4fc5-2f62-48b8-b21e-1e78049681e6\" class=\"colab-df-container\">\n",
              "    <div>\n",
              "<style scoped>\n",
              "    .dataframe tbody tr th:only-of-type {\n",
              "        vertical-align: middle;\n",
              "    }\n",
              "\n",
              "    .dataframe tbody tr th {\n",
              "        vertical-align: top;\n",
              "    }\n",
              "\n",
              "    .dataframe thead th {\n",
              "        text-align: right;\n",
              "    }\n",
              "</style>\n",
              "<table border=\"1\" class=\"dataframe\">\n",
              "  <thead>\n",
              "    <tr style=\"text-align: right;\">\n",
              "      <th></th>\n",
              "      <th>User_ID</th>\n",
              "      <th>Age</th>\n",
              "      <th>Gender</th>\n",
              "      <th>Platform</th>\n",
              "      <th>Daily_Usage_Time (minutes)</th>\n",
              "      <th>Posts_Per_Day</th>\n",
              "      <th>Likes_Received_Per_Day</th>\n",
              "      <th>Comments_Received_Per_Day</th>\n",
              "      <th>Messages_Sent_Per_Day</th>\n",
              "      <th>Dominant_Emotion</th>\n",
              "    </tr>\n",
              "  </thead>\n",
              "  <tbody>\n",
              "    <tr>\n",
              "      <th>0</th>\n",
              "      <td>1</td>\n",
              "      <td>25</td>\n",
              "      <td>Female</td>\n",
              "      <td>Instagram</td>\n",
              "      <td>120</td>\n",
              "      <td>3</td>\n",
              "      <td>45</td>\n",
              "      <td>10</td>\n",
              "      <td>12</td>\n",
              "      <td>Happiness</td>\n",
              "    </tr>\n",
              "    <tr>\n",
              "      <th>1</th>\n",
              "      <td>2</td>\n",
              "      <td>30</td>\n",
              "      <td>Male</td>\n",
              "      <td>Twitter</td>\n",
              "      <td>90</td>\n",
              "      <td>5</td>\n",
              "      <td>20</td>\n",
              "      <td>25</td>\n",
              "      <td>30</td>\n",
              "      <td>Anger</td>\n",
              "    </tr>\n",
              "    <tr>\n",
              "      <th>2</th>\n",
              "      <td>3</td>\n",
              "      <td>22</td>\n",
              "      <td>Non-binary</td>\n",
              "      <td>Facebook</td>\n",
              "      <td>60</td>\n",
              "      <td>2</td>\n",
              "      <td>15</td>\n",
              "      <td>5</td>\n",
              "      <td>20</td>\n",
              "      <td>Neutral</td>\n",
              "    </tr>\n",
              "    <tr>\n",
              "      <th>3</th>\n",
              "      <td>4</td>\n",
              "      <td>28</td>\n",
              "      <td>Female</td>\n",
              "      <td>Instagram</td>\n",
              "      <td>200</td>\n",
              "      <td>8</td>\n",
              "      <td>100</td>\n",
              "      <td>30</td>\n",
              "      <td>50</td>\n",
              "      <td>Anxiety</td>\n",
              "    </tr>\n",
              "    <tr>\n",
              "      <th>4</th>\n",
              "      <td>5</td>\n",
              "      <td>33</td>\n",
              "      <td>Male</td>\n",
              "      <td>LinkedIn</td>\n",
              "      <td>45</td>\n",
              "      <td>1</td>\n",
              "      <td>5</td>\n",
              "      <td>2</td>\n",
              "      <td>10</td>\n",
              "      <td>Boredom</td>\n",
              "    </tr>\n",
              "  </tbody>\n",
              "</table>\n",
              "</div>\n",
              "    <div class=\"colab-df-buttons\">\n",
              "\n",
              "  <div class=\"colab-df-container\">\n",
              "    <button class=\"colab-df-convert\" onclick=\"convertToInteractive('df-afed4fc5-2f62-48b8-b21e-1e78049681e6')\"\n",
              "            title=\"Convert this dataframe to an interactive table.\"\n",
              "            style=\"display:none;\">\n",
              "\n",
              "  <svg xmlns=\"http://www.w3.org/2000/svg\" height=\"24px\" viewBox=\"0 -960 960 960\">\n",
              "    <path d=\"M120-120v-720h720v720H120Zm60-500h600v-160H180v160Zm220 220h160v-160H400v160Zm0 220h160v-160H400v160ZM180-400h160v-160H180v160Zm440 0h160v-160H620v160ZM180-180h160v-160H180v160Zm440 0h160v-160H620v160Z\"/>\n",
              "  </svg>\n",
              "    </button>\n",
              "\n",
              "  <style>\n",
              "    .colab-df-container {\n",
              "      display:flex;\n",
              "      gap: 12px;\n",
              "    }\n",
              "\n",
              "    .colab-df-convert {\n",
              "      background-color: #E8F0FE;\n",
              "      border: none;\n",
              "      border-radius: 50%;\n",
              "      cursor: pointer;\n",
              "      display: none;\n",
              "      fill: #1967D2;\n",
              "      height: 32px;\n",
              "      padding: 0 0 0 0;\n",
              "      width: 32px;\n",
              "    }\n",
              "\n",
              "    .colab-df-convert:hover {\n",
              "      background-color: #E2EBFA;\n",
              "      box-shadow: 0px 1px 2px rgba(60, 64, 67, 0.3), 0px 1px 3px 1px rgba(60, 64, 67, 0.15);\n",
              "      fill: #174EA6;\n",
              "    }\n",
              "\n",
              "    .colab-df-buttons div {\n",
              "      margin-bottom: 4px;\n",
              "    }\n",
              "\n",
              "    [theme=dark] .colab-df-convert {\n",
              "      background-color: #3B4455;\n",
              "      fill: #D2E3FC;\n",
              "    }\n",
              "\n",
              "    [theme=dark] .colab-df-convert:hover {\n",
              "      background-color: #434B5C;\n",
              "      box-shadow: 0px 1px 3px 1px rgba(0, 0, 0, 0.15);\n",
              "      filter: drop-shadow(0px 1px 2px rgba(0, 0, 0, 0.3));\n",
              "      fill: #FFFFFF;\n",
              "    }\n",
              "  </style>\n",
              "\n",
              "    <script>\n",
              "      const buttonEl =\n",
              "        document.querySelector('#df-afed4fc5-2f62-48b8-b21e-1e78049681e6 button.colab-df-convert');\n",
              "      buttonEl.style.display =\n",
              "        google.colab.kernel.accessAllowed ? 'block' : 'none';\n",
              "\n",
              "      async function convertToInteractive(key) {\n",
              "        const element = document.querySelector('#df-afed4fc5-2f62-48b8-b21e-1e78049681e6');\n",
              "        const dataTable =\n",
              "          await google.colab.kernel.invokeFunction('convertToInteractive',\n",
              "                                                    [key], {});\n",
              "        if (!dataTable) return;\n",
              "\n",
              "        const docLinkHtml = 'Like what you see? Visit the ' +\n",
              "          '<a target=\"_blank\" href=https://colab.research.google.com/notebooks/data_table.ipynb>data table notebook</a>'\n",
              "          + ' to learn more about interactive tables.';\n",
              "        element.innerHTML = '';\n",
              "        dataTable['output_type'] = 'display_data';\n",
              "        await google.colab.output.renderOutput(dataTable, element);\n",
              "        const docLink = document.createElement('div');\n",
              "        docLink.innerHTML = docLinkHtml;\n",
              "        element.appendChild(docLink);\n",
              "      }\n",
              "    </script>\n",
              "  </div>\n",
              "\n",
              "\n",
              "<div id=\"df-c05511d9-038b-4299-af5d-b7c4f4818d77\">\n",
              "  <button class=\"colab-df-quickchart\" onclick=\"quickchart('df-c05511d9-038b-4299-af5d-b7c4f4818d77')\"\n",
              "            title=\"Suggest charts\"\n",
              "            style=\"display:none;\">\n",
              "\n",
              "<svg xmlns=\"http://www.w3.org/2000/svg\" height=\"24px\"viewBox=\"0 0 24 24\"\n",
              "     width=\"24px\">\n",
              "    <g>\n",
              "        <path d=\"M19 3H5c-1.1 0-2 .9-2 2v14c0 1.1.9 2 2 2h14c1.1 0 2-.9 2-2V5c0-1.1-.9-2-2-2zM9 17H7v-7h2v7zm4 0h-2V7h2v10zm4 0h-2v-4h2v4z\"/>\n",
              "    </g>\n",
              "</svg>\n",
              "  </button>\n",
              "\n",
              "<style>\n",
              "  .colab-df-quickchart {\n",
              "      --bg-color: #E8F0FE;\n",
              "      --fill-color: #1967D2;\n",
              "      --hover-bg-color: #E2EBFA;\n",
              "      --hover-fill-color: #174EA6;\n",
              "      --disabled-fill-color: #AAA;\n",
              "      --disabled-bg-color: #DDD;\n",
              "  }\n",
              "\n",
              "  [theme=dark] .colab-df-quickchart {\n",
              "      --bg-color: #3B4455;\n",
              "      --fill-color: #D2E3FC;\n",
              "      --hover-bg-color: #434B5C;\n",
              "      --hover-fill-color: #FFFFFF;\n",
              "      --disabled-bg-color: #3B4455;\n",
              "      --disabled-fill-color: #666;\n",
              "  }\n",
              "\n",
              "  .colab-df-quickchart {\n",
              "    background-color: var(--bg-color);\n",
              "    border: none;\n",
              "    border-radius: 50%;\n",
              "    cursor: pointer;\n",
              "    display: none;\n",
              "    fill: var(--fill-color);\n",
              "    height: 32px;\n",
              "    padding: 0;\n",
              "    width: 32px;\n",
              "  }\n",
              "\n",
              "  .colab-df-quickchart:hover {\n",
              "    background-color: var(--hover-bg-color);\n",
              "    box-shadow: 0 1px 2px rgba(60, 64, 67, 0.3), 0 1px 3px 1px rgba(60, 64, 67, 0.15);\n",
              "    fill: var(--button-hover-fill-color);\n",
              "  }\n",
              "\n",
              "  .colab-df-quickchart-complete:disabled,\n",
              "  .colab-df-quickchart-complete:disabled:hover {\n",
              "    background-color: var(--disabled-bg-color);\n",
              "    fill: var(--disabled-fill-color);\n",
              "    box-shadow: none;\n",
              "  }\n",
              "\n",
              "  .colab-df-spinner {\n",
              "    border: 2px solid var(--fill-color);\n",
              "    border-color: transparent;\n",
              "    border-bottom-color: var(--fill-color);\n",
              "    animation:\n",
              "      spin 1s steps(1) infinite;\n",
              "  }\n",
              "\n",
              "  @keyframes spin {\n",
              "    0% {\n",
              "      border-color: transparent;\n",
              "      border-bottom-color: var(--fill-color);\n",
              "      border-left-color: var(--fill-color);\n",
              "    }\n",
              "    20% {\n",
              "      border-color: transparent;\n",
              "      border-left-color: var(--fill-color);\n",
              "      border-top-color: var(--fill-color);\n",
              "    }\n",
              "    30% {\n",
              "      border-color: transparent;\n",
              "      border-left-color: var(--fill-color);\n",
              "      border-top-color: var(--fill-color);\n",
              "      border-right-color: var(--fill-color);\n",
              "    }\n",
              "    40% {\n",
              "      border-color: transparent;\n",
              "      border-right-color: var(--fill-color);\n",
              "      border-top-color: var(--fill-color);\n",
              "    }\n",
              "    60% {\n",
              "      border-color: transparent;\n",
              "      border-right-color: var(--fill-color);\n",
              "    }\n",
              "    80% {\n",
              "      border-color: transparent;\n",
              "      border-right-color: var(--fill-color);\n",
              "      border-bottom-color: var(--fill-color);\n",
              "    }\n",
              "    90% {\n",
              "      border-color: transparent;\n",
              "      border-bottom-color: var(--fill-color);\n",
              "    }\n",
              "  }\n",
              "</style>\n",
              "\n",
              "  <script>\n",
              "    async function quickchart(key) {\n",
              "      const quickchartButtonEl =\n",
              "        document.querySelector('#' + key + ' button');\n",
              "      quickchartButtonEl.disabled = true;  // To prevent multiple clicks.\n",
              "      quickchartButtonEl.classList.add('colab-df-spinner');\n",
              "      try {\n",
              "        const charts = await google.colab.kernel.invokeFunction(\n",
              "            'suggestCharts', [key], {});\n",
              "      } catch (error) {\n",
              "        console.error('Error during call to suggestCharts:', error);\n",
              "      }\n",
              "      quickchartButtonEl.classList.remove('colab-df-spinner');\n",
              "      quickchartButtonEl.classList.add('colab-df-quickchart-complete');\n",
              "    }\n",
              "    (() => {\n",
              "      let quickchartButtonEl =\n",
              "        document.querySelector('#df-c05511d9-038b-4299-af5d-b7c4f4818d77 button');\n",
              "      quickchartButtonEl.style.display =\n",
              "        google.colab.kernel.accessAllowed ? 'block' : 'none';\n",
              "    })();\n",
              "  </script>\n",
              "</div>\n",
              "\n",
              "    </div>\n",
              "  </div>\n"
            ],
            "application/vnd.google.colaboratory.intrinsic+json": {
              "type": "dataframe",
              "variable_name": "df",
              "summary": "{\n  \"name\": \"df\",\n  \"rows\": 924,\n  \"fields\": [\n    {\n      \"column\": \"User_ID\",\n      \"properties\": {\n        \"dtype\": \"number\",\n        \"std\": 291,\n        \"min\": 1,\n        \"max\": 1000,\n        \"num_unique_values\": 924,\n        \"samples\": [\n          362,\n          938,\n          31\n        ],\n        \"semantic_type\": \"\",\n        \"description\": \"\"\n      }\n    },\n    {\n      \"column\": \"Age\",\n      \"properties\": {\n        \"dtype\": \"number\",\n        \"std\": 3,\n        \"min\": 21,\n        \"max\": 35,\n        \"num_unique_values\": 15,\n        \"samples\": [\n          31,\n          26,\n          25\n        ],\n        \"semantic_type\": \"\",\n        \"description\": \"\"\n      }\n    },\n    {\n      \"column\": \"Gender\",\n      \"properties\": {\n        \"dtype\": \"category\",\n        \"num_unique_values\": 3,\n        \"samples\": [\n          \"Female\",\n          \"Male\",\n          \"Non-binary\"\n        ],\n        \"semantic_type\": \"\",\n        \"description\": \"\"\n      }\n    },\n    {\n      \"column\": \"Platform\",\n      \"properties\": {\n        \"dtype\": \"category\",\n        \"num_unique_values\": 7,\n        \"samples\": [\n          \"Instagram\",\n          \"Twitter\",\n          \"Telegram\"\n        ],\n        \"semantic_type\": \"\",\n        \"description\": \"\"\n      }\n    },\n    {\n      \"column\": \"Daily_Usage_Time (minutes)\",\n      \"properties\": {\n        \"dtype\": \"number\",\n        \"std\": 39,\n        \"min\": 40,\n        \"max\": 200,\n        \"num_unique_values\": 30,\n        \"samples\": [\n          175,\n          40,\n          160\n        ],\n        \"semantic_type\": \"\",\n        \"description\": \"\"\n      }\n    },\n    {\n      \"column\": \"Posts_Per_Day\",\n      \"properties\": {\n        \"dtype\": \"number\",\n        \"std\": 1,\n        \"min\": 1,\n        \"max\": 8,\n        \"num_unique_values\": 8,\n        \"samples\": [\n          5,\n          4,\n          3\n        ],\n        \"semantic_type\": \"\",\n        \"description\": \"\"\n      }\n    },\n    {\n      \"column\": \"Likes_Received_Per_Day\",\n      \"properties\": {\n        \"dtype\": \"number\",\n        \"std\": 26,\n        \"min\": 5,\n        \"max\": 110,\n        \"num_unique_values\": 49,\n        \"samples\": [\n          40,\n          21,\n          23\n        ],\n        \"semantic_type\": \"\",\n        \"description\": \"\"\n      }\n    },\n    {\n      \"column\": \"Comments_Received_Per_Day\",\n      \"properties\": {\n        \"dtype\": \"number\",\n        \"std\": 8,\n        \"min\": 2,\n        \"max\": 40,\n        \"num_unique_values\": 30,\n        \"samples\": [\n          28,\n          26,\n          40\n        ],\n        \"semantic_type\": \"\",\n        \"description\": \"\"\n      }\n    },\n    {\n      \"column\": \"Messages_Sent_Per_Day\",\n      \"properties\": {\n        \"dtype\": \"number\",\n        \"std\": 8,\n        \"min\": 8,\n        \"max\": 50,\n        \"num_unique_values\": 29,\n        \"samples\": [\n          29,\n          21,\n          28\n        ],\n        \"semantic_type\": \"\",\n        \"description\": \"\"\n      }\n    },\n    {\n      \"column\": \"Dominant_Emotion\",\n      \"properties\": {\n        \"dtype\": \"category\",\n        \"num_unique_values\": 6,\n        \"samples\": [\n          \"Happiness\",\n          \"Anger\",\n          \"Sadness\"\n        ],\n        \"semantic_type\": \"\",\n        \"description\": \"\"\n      }\n    }\n  ]\n}"
            }
          },
          "metadata": {},
          "execution_count": 48
        }
      ]
    },
    {
      "cell_type": "markdown",
      "source": [
        "Since its multiclass-classification, the classes column 'Dominant_Emotion' has more than two classes.\n",
        "\n",
        "**Can you find out what these classes are?**"
      ],
      "metadata": {
        "id": "E3no_fMIjC4S"
      }
    },
    {
      "cell_type": "code",
      "source": [
        "#ENTER YOUR CODE HERE\n",
        "print(\"The classes are:\",df.Dominant_Emotion.unique())"
      ],
      "metadata": {
        "id": "sdj73n5CZ0FU",
        "colab": {
          "base_uri": "https://localhost:8080/"
        },
        "outputId": "1ba319ae-1486-45ae-f2a5-e9134687c943"
      },
      "execution_count": 49,
      "outputs": [
        {
          "output_type": "stream",
          "name": "stdout",
          "text": [
            "The classes are: ['Happiness' 'Anger' 'Neutral' 'Anxiety' 'Boredom' 'Sadness']\n"
          ]
        }
      ]
    },
    {
      "cell_type": "code",
      "source": [],
      "metadata": {
        "id": "hTrGi8ekjUow"
      },
      "execution_count": 49,
      "outputs": []
    },
    {
      "cell_type": "markdown",
      "source": [
        "Actually this isn't the only categorical column in the dataset. There are other too.\n",
        "\n",
        "**Print their values as well!**"
      ],
      "metadata": {
        "id": "yjqbiSGklCgK"
      }
    },
    {
      "cell_type": "code",
      "source": [
        "#ENTER YOUR CODE HERE\n",
        "print(\"The genders are:\" ,df.Gender.unique())\n",
        "print(\"The platforms used are:\",df.Platform.unique())"
      ],
      "metadata": {
        "id": "rE7LrKpkmEUG",
        "colab": {
          "base_uri": "https://localhost:8080/"
        },
        "outputId": "044f5fe2-83a6-4ffb-f4a5-965df1861f51"
      },
      "execution_count": 50,
      "outputs": [
        {
          "output_type": "stream",
          "name": "stdout",
          "text": [
            "The genders are: ['Female' 'Male' 'Non-binary']\n",
            "The platforms used are: ['Instagram' 'Twitter' 'Facebook' 'LinkedIn' 'Whatsapp' 'Telegram'\n",
            " 'Snapchat']\n"
          ]
        }
      ]
    },
    {
      "cell_type": "code",
      "source": [],
      "metadata": {
        "id": "bNkBRbdlmlTv"
      },
      "execution_count": 50,
      "outputs": []
    },
    {
      "cell_type": "markdown",
      "source": [
        "Many models, including KNN, will only work with numerical data. Hence the textual categories need to go. We will use something called \"one-hot encoding\" for transforming our features and \"labelling\" for our categories.\n",
        "\n",
        "**Import the pandas module used for one-hot encoding**"
      ],
      "metadata": {
        "id": "gmK9cF7JouNy"
      }
    },
    {
      "cell_type": "code",
      "source": [
        "#ENTER YOUR CODE HERE\n",
        "import pandas as pd\n"
      ],
      "metadata": {
        "id": "59n3kMjDp5y-"
      },
      "execution_count": 51,
      "outputs": []
    },
    {
      "cell_type": "markdown",
      "source": [
        "**First One-Hot Encode the 'Gender' column and replace the 'Gender' column with this.**"
      ],
      "metadata": {
        "id": "9n2EdG43sdp_"
      }
    },
    {
      "cell_type": "code",
      "source": [
        "#ENTER YOUR CODE HERE\n",
        "gender_one_hot = pd.get_dummies(df[\"Gender\"])\n",
        "df=pd.concat([df,gender_one_hot], axis=1)\n",
        "\n",
        "df.drop(\"Gender\",axis=1,inplace=True)\n",
        "df = df.replace({True: 1, False: 0})\n",
        "print(df)"
      ],
      "metadata": {
        "id": "qaSX0pMAqQfM",
        "colab": {
          "base_uri": "https://localhost:8080/"
        },
        "outputId": "eccd6355-1304-48b9-ddf5-937b1409962a"
      },
      "execution_count": 52,
      "outputs": [
        {
          "output_type": "stream",
          "name": "stdout",
          "text": [
            "     User_ID  Age   Platform  Daily_Usage_Time (minutes)  Posts_Per_Day  \\\n",
            "0          1   25  Instagram                         120              3   \n",
            "1          2   30    Twitter                          90              5   \n",
            "2          3   22   Facebook                          60              2   \n",
            "3          4   28  Instagram                         200              8   \n",
            "4          5   33   LinkedIn                          45              1   \n",
            "..       ...  ...        ...                         ...            ...   \n",
            "919      996   33    Twitter                          85              4   \n",
            "920      997   22   Facebook                          70              1   \n",
            "921      998   35   Whatsapp                         110              3   \n",
            "922      999   28   Telegram                          60              2   \n",
            "923     1000   27   Snapchat                         120              4   \n",
            "\n",
            "     Likes_Received_Per_Day  Comments_Received_Per_Day  Messages_Sent_Per_Day  \\\n",
            "0                        45                         10                     12   \n",
            "1                        20                         25                     30   \n",
            "2                        15                          5                     20   \n",
            "3                       100                         30                     50   \n",
            "4                         5                          2                     10   \n",
            "..                      ...                        ...                    ...   \n",
            "919                      35                         18                     18   \n",
            "920                      14                          6                     10   \n",
            "921                      50                         25                     25   \n",
            "922                      18                          8                     18   \n",
            "923                      40                         18                     22   \n",
            "\n",
            "    Dominant_Emotion  Female  Male  Non-binary  \n",
            "0          Happiness       1     0           0  \n",
            "1              Anger       0     1           0  \n",
            "2            Neutral       0     0           1  \n",
            "3            Anxiety       1     0           0  \n",
            "4            Boredom       0     1           0  \n",
            "..               ...     ...   ...         ...  \n",
            "919          Boredom       0     0           1  \n",
            "920          Neutral       1     0           0  \n",
            "921        Happiness       0     1           0  \n",
            "922            Anger       0     0           1  \n",
            "923          Neutral       1     0           0  \n",
            "\n",
            "[924 rows x 12 columns]\n"
          ]
        }
      ]
    },
    {
      "cell_type": "code",
      "source": [],
      "metadata": {
        "id": "DgqOIxWFqVjg"
      },
      "execution_count": 52,
      "outputs": []
    },
    {
      "cell_type": "markdown",
      "source": [
        "**Repeat the drill for the column 'Platform'.**"
      ],
      "metadata": {
        "id": "4DKHPcZ2uSe6"
      }
    },
    {
      "cell_type": "code",
      "source": [
        "#ENTER YOUR CODE HERE\n",
        "platform_one_hot = pd.get_dummies(df[\"Platform\"])\n",
        "df=pd.concat([df,platform_one_hot], axis=1)\n",
        "\n",
        "df.drop(\"Platform\",axis=1,inplace=True)\n",
        "df = df.replace({True: 1, False: 0})\n",
        "print(df)"
      ],
      "metadata": {
        "id": "qWUUPjVCslgs",
        "colab": {
          "base_uri": "https://localhost:8080/"
        },
        "outputId": "1a0669f6-3f00-4089-8abb-fa456c38243e"
      },
      "execution_count": 53,
      "outputs": [
        {
          "output_type": "stream",
          "name": "stdout",
          "text": [
            "     User_ID  Age  Daily_Usage_Time (minutes)  Posts_Per_Day  \\\n",
            "0          1   25                         120              3   \n",
            "1          2   30                          90              5   \n",
            "2          3   22                          60              2   \n",
            "3          4   28                         200              8   \n",
            "4          5   33                          45              1   \n",
            "..       ...  ...                         ...            ...   \n",
            "919      996   33                          85              4   \n",
            "920      997   22                          70              1   \n",
            "921      998   35                         110              3   \n",
            "922      999   28                          60              2   \n",
            "923     1000   27                         120              4   \n",
            "\n",
            "     Likes_Received_Per_Day  Comments_Received_Per_Day  Messages_Sent_Per_Day  \\\n",
            "0                        45                         10                     12   \n",
            "1                        20                         25                     30   \n",
            "2                        15                          5                     20   \n",
            "3                       100                         30                     50   \n",
            "4                         5                          2                     10   \n",
            "..                      ...                        ...                    ...   \n",
            "919                      35                         18                     18   \n",
            "920                      14                          6                     10   \n",
            "921                      50                         25                     25   \n",
            "922                      18                          8                     18   \n",
            "923                      40                         18                     22   \n",
            "\n",
            "    Dominant_Emotion  Female  Male  Non-binary  Facebook  Instagram  LinkedIn  \\\n",
            "0          Happiness       1     0           0         0          1         0   \n",
            "1              Anger       0     1           0         0          0         0   \n",
            "2            Neutral       0     0           1         1          0         0   \n",
            "3            Anxiety       1     0           0         0          1         0   \n",
            "4            Boredom       0     1           0         0          0         1   \n",
            "..               ...     ...   ...         ...       ...        ...       ...   \n",
            "919          Boredom       0     0           1         0          0         0   \n",
            "920          Neutral       1     0           0         1          0         0   \n",
            "921        Happiness       0     1           0         0          0         0   \n",
            "922            Anger       0     0           1         0          0         0   \n",
            "923          Neutral       1     0           0         0          0         0   \n",
            "\n",
            "     Snapchat  Telegram  Twitter  Whatsapp  \n",
            "0           0         0        0         0  \n",
            "1           0         0        1         0  \n",
            "2           0         0        0         0  \n",
            "3           0         0        0         0  \n",
            "4           0         0        0         0  \n",
            "..        ...       ...      ...       ...  \n",
            "919         0         0        1         0  \n",
            "920         0         0        0         0  \n",
            "921         0         0        0         1  \n",
            "922         0         1        0         0  \n",
            "923         1         0        0         0  \n",
            "\n",
            "[924 rows x 18 columns]\n"
          ]
        }
      ]
    },
    {
      "cell_type": "code",
      "source": [],
      "metadata": {
        "id": "Go56-VoptzP8"
      },
      "execution_count": 53,
      "outputs": []
    },
    {
      "cell_type": "markdown",
      "source": [
        "Last categorical feature is our label column.\n",
        "\n",
        "**Import the module used for label encoding.**"
      ],
      "metadata": {
        "id": "jchgdUI0ud2o"
      }
    },
    {
      "cell_type": "code",
      "source": [
        "#ENTER YOUR CODE HERE\n",
        "from sklearn.preprocessing import LabelEncoder"
      ],
      "metadata": {
        "id": "ZJwV8boEumDo"
      },
      "execution_count": 54,
      "outputs": []
    },
    {
      "cell_type": "markdown",
      "source": [
        "**Now label encode the column 'Dominant_Emotion'**"
      ],
      "metadata": {
        "id": "zQCj8O_bu_mN"
      }
    },
    {
      "cell_type": "code",
      "source": [
        "#ENTER YOUR CODE HERE\n",
        "label_encoder=LabelEncoder()\n",
        "df['Dominant_Emotion_Encoded']=label_encoder.fit_transform(df['Dominant_Emotion'])\n",
        "df.drop(['Dominant_Emotion'],axis=1,inplace=True)\n",
        "print(df)"
      ],
      "metadata": {
        "id": "MMtt7MjB0Fow",
        "colab": {
          "base_uri": "https://localhost:8080/"
        },
        "outputId": "9af944e6-59d1-47fa-ecbf-76550e84b439"
      },
      "execution_count": 55,
      "outputs": [
        {
          "output_type": "stream",
          "name": "stdout",
          "text": [
            "     User_ID  Age  Daily_Usage_Time (minutes)  Posts_Per_Day  \\\n",
            "0          1   25                         120              3   \n",
            "1          2   30                          90              5   \n",
            "2          3   22                          60              2   \n",
            "3          4   28                         200              8   \n",
            "4          5   33                          45              1   \n",
            "..       ...  ...                         ...            ...   \n",
            "919      996   33                          85              4   \n",
            "920      997   22                          70              1   \n",
            "921      998   35                         110              3   \n",
            "922      999   28                          60              2   \n",
            "923     1000   27                         120              4   \n",
            "\n",
            "     Likes_Received_Per_Day  Comments_Received_Per_Day  Messages_Sent_Per_Day  \\\n",
            "0                        45                         10                     12   \n",
            "1                        20                         25                     30   \n",
            "2                        15                          5                     20   \n",
            "3                       100                         30                     50   \n",
            "4                         5                          2                     10   \n",
            "..                      ...                        ...                    ...   \n",
            "919                      35                         18                     18   \n",
            "920                      14                          6                     10   \n",
            "921                      50                         25                     25   \n",
            "922                      18                          8                     18   \n",
            "923                      40                         18                     22   \n",
            "\n",
            "     Female  Male  Non-binary  Facebook  Instagram  LinkedIn  Snapchat  \\\n",
            "0         1     0           0         0          1         0         0   \n",
            "1         0     1           0         0          0         0         0   \n",
            "2         0     0           1         1          0         0         0   \n",
            "3         1     0           0         0          1         0         0   \n",
            "4         0     1           0         0          0         1         0   \n",
            "..      ...   ...         ...       ...        ...       ...       ...   \n",
            "919       0     0           1         0          0         0         0   \n",
            "920       1     0           0         1          0         0         0   \n",
            "921       0     1           0         0          0         0         0   \n",
            "922       0     0           1         0          0         0         0   \n",
            "923       1     0           0         0          0         0         1   \n",
            "\n",
            "     Telegram  Twitter  Whatsapp  Dominant_Emotion_Encoded  \n",
            "0           0        0         0                         3  \n",
            "1           0        1         0                         0  \n",
            "2           0        0         0                         4  \n",
            "3           0        0         0                         1  \n",
            "4           0        0         0                         2  \n",
            "..        ...      ...       ...                       ...  \n",
            "919         0        1         0                         2  \n",
            "920         0        0         0                         4  \n",
            "921         0        0         1                         3  \n",
            "922         1        0         0                         0  \n",
            "923         0        0         0                         4  \n",
            "\n",
            "[924 rows x 18 columns]\n"
          ]
        }
      ]
    },
    {
      "cell_type": "code",
      "source": [],
      "metadata": {
        "id": "Jy3nz9k-vJN2"
      },
      "execution_count": 55,
      "outputs": []
    },
    {
      "cell_type": "markdown",
      "source": [
        "Now we have only numerical data, phew! Lets start training!\n",
        "\n",
        "\n",
        "**Create the freatures dataframe and the labels dataframe as we had done before, and split them into train and test parts. Do you need to import the libraries again?**"
      ],
      "metadata": {
        "id": "G9WESixsw3Vx"
      }
    },
    {
      "cell_type": "code",
      "source": [
        "#ENTER YOUR CODE HERE\n",
        "from sklearn.model_selection import train_test_split\n",
        "X = df.iloc[:, :-1]\n",
        "y = df.iloc[:, -1]\n",
        "X_train, X_test, y_train, y_test = train_test_split(X, y, test_size=185, random_state=42)\n",
        "print(f\"The shape of training features dataframe is: {X_train.shape}\")\n",
        "print(f\"The shape of testing features dataframe is: {X_test.shape}\")\n",
        "print(f\"The shape of training labels dataframe is: {y_train.shape}\")\n",
        "print(f\"The shape of test labels dataframe is: {y_test.shape}\")\n",
        "\n",
        "split_ratio = X_train.shape[0] / X_test.shape[0]\n",
        "print(f\"The train-to-test split ratio is: {split_ratio}\")"
      ],
      "metadata": {
        "id": "WrVutu0Wwnj_",
        "colab": {
          "base_uri": "https://localhost:8080/"
        },
        "outputId": "43dd25ef-35f2-42bc-f604-2d0d9735f417"
      },
      "execution_count": 56,
      "outputs": [
        {
          "output_type": "stream",
          "name": "stdout",
          "text": [
            "The shape of training features dataframe is: (739, 17)\n",
            "The shape of testing features dataframe is: (185, 17)\n",
            "The shape of training labels dataframe is: (739,)\n",
            "The shape of test labels dataframe is: (185,)\n",
            "The train-to-test split ratio is: 3.9945945945945946\n"
          ]
        }
      ]
    },
    {
      "cell_type": "code",
      "source": [],
      "metadata": {
        "id": "PecH58JcxGCA"
      },
      "execution_count": 56,
      "outputs": []
    },
    {
      "cell_type": "markdown",
      "source": [
        "**Import the module used for training a KNN model.**"
      ],
      "metadata": {
        "id": "7WOEtURHwfQv"
      }
    },
    {
      "cell_type": "code",
      "source": [
        "#ENTER YOUR CODE HERE\n",
        "from sklearn.neighbors import KNeighborsClassifier"
      ],
      "metadata": {
        "id": "xVrO2jKhybXB"
      },
      "execution_count": 57,
      "outputs": []
    },
    {
      "cell_type": "markdown",
      "source": [
        "**Train your model.**"
      ],
      "metadata": {
        "id": "ICcNnnjPykqU"
      }
    },
    {
      "cell_type": "code",
      "source": [
        "#ENTER YOUR CODE HERE\n",
        "from sklearn.preprocessing import StandardScaler\n",
        "scaler=StandardScaler()\n",
        "X_train_scaled = scaler.fit_transform(X_train)\n",
        "X_test_scaled = scaler.transform(X_test)\n",
        "\n",
        "knn = KNeighborsClassifier()\n",
        "\n",
        "knn.fit(X_train_scaled, y_train)"
      ],
      "metadata": {
        "id": "KZTQMsQq6a8s",
        "colab": {
          "base_uri": "https://localhost:8080/",
          "height": 75
        },
        "outputId": "c5c5386c-e438-4eca-c713-11a082fb7675"
      },
      "execution_count": 58,
      "outputs": [
        {
          "output_type": "execute_result",
          "data": {
            "text/plain": [
              "KNeighborsClassifier()"
            ],
            "text/html": [
              "<style>#sk-container-id-4 {color: black;background-color: white;}#sk-container-id-4 pre{padding: 0;}#sk-container-id-4 div.sk-toggleable {background-color: white;}#sk-container-id-4 label.sk-toggleable__label {cursor: pointer;display: block;width: 100%;margin-bottom: 0;padding: 0.3em;box-sizing: border-box;text-align: center;}#sk-container-id-4 label.sk-toggleable__label-arrow:before {content: \"▸\";float: left;margin-right: 0.25em;color: #696969;}#sk-container-id-4 label.sk-toggleable__label-arrow:hover:before {color: black;}#sk-container-id-4 div.sk-estimator:hover label.sk-toggleable__label-arrow:before {color: black;}#sk-container-id-4 div.sk-toggleable__content {max-height: 0;max-width: 0;overflow: hidden;text-align: left;background-color: #f0f8ff;}#sk-container-id-4 div.sk-toggleable__content pre {margin: 0.2em;color: black;border-radius: 0.25em;background-color: #f0f8ff;}#sk-container-id-4 input.sk-toggleable__control:checked~div.sk-toggleable__content {max-height: 200px;max-width: 100%;overflow: auto;}#sk-container-id-4 input.sk-toggleable__control:checked~label.sk-toggleable__label-arrow:before {content: \"▾\";}#sk-container-id-4 div.sk-estimator input.sk-toggleable__control:checked~label.sk-toggleable__label {background-color: #d4ebff;}#sk-container-id-4 div.sk-label input.sk-toggleable__control:checked~label.sk-toggleable__label {background-color: #d4ebff;}#sk-container-id-4 input.sk-hidden--visually {border: 0;clip: rect(1px 1px 1px 1px);clip: rect(1px, 1px, 1px, 1px);height: 1px;margin: -1px;overflow: hidden;padding: 0;position: absolute;width: 1px;}#sk-container-id-4 div.sk-estimator {font-family: monospace;background-color: #f0f8ff;border: 1px dotted black;border-radius: 0.25em;box-sizing: border-box;margin-bottom: 0.5em;}#sk-container-id-4 div.sk-estimator:hover {background-color: #d4ebff;}#sk-container-id-4 div.sk-parallel-item::after {content: \"\";width: 100%;border-bottom: 1px solid gray;flex-grow: 1;}#sk-container-id-4 div.sk-label:hover label.sk-toggleable__label {background-color: #d4ebff;}#sk-container-id-4 div.sk-serial::before {content: \"\";position: absolute;border-left: 1px solid gray;box-sizing: border-box;top: 0;bottom: 0;left: 50%;z-index: 0;}#sk-container-id-4 div.sk-serial {display: flex;flex-direction: column;align-items: center;background-color: white;padding-right: 0.2em;padding-left: 0.2em;position: relative;}#sk-container-id-4 div.sk-item {position: relative;z-index: 1;}#sk-container-id-4 div.sk-parallel {display: flex;align-items: stretch;justify-content: center;background-color: white;position: relative;}#sk-container-id-4 div.sk-item::before, #sk-container-id-4 div.sk-parallel-item::before {content: \"\";position: absolute;border-left: 1px solid gray;box-sizing: border-box;top: 0;bottom: 0;left: 50%;z-index: -1;}#sk-container-id-4 div.sk-parallel-item {display: flex;flex-direction: column;z-index: 1;position: relative;background-color: white;}#sk-container-id-4 div.sk-parallel-item:first-child::after {align-self: flex-end;width: 50%;}#sk-container-id-4 div.sk-parallel-item:last-child::after {align-self: flex-start;width: 50%;}#sk-container-id-4 div.sk-parallel-item:only-child::after {width: 0;}#sk-container-id-4 div.sk-dashed-wrapped {border: 1px dashed gray;margin: 0 0.4em 0.5em 0.4em;box-sizing: border-box;padding-bottom: 0.4em;background-color: white;}#sk-container-id-4 div.sk-label label {font-family: monospace;font-weight: bold;display: inline-block;line-height: 1.2em;}#sk-container-id-4 div.sk-label-container {text-align: center;}#sk-container-id-4 div.sk-container {/* jupyter's `normalize.less` sets `[hidden] { display: none; }` but bootstrap.min.css set `[hidden] { display: none !important; }` so we also need the `!important` here to be able to override the default hidden behavior on the sphinx rendered scikit-learn.org. See: https://github.com/scikit-learn/scikit-learn/issues/21755 */display: inline-block !important;position: relative;}#sk-container-id-4 div.sk-text-repr-fallback {display: none;}</style><div id=\"sk-container-id-4\" class=\"sk-top-container\"><div class=\"sk-text-repr-fallback\"><pre>KNeighborsClassifier()</pre><b>In a Jupyter environment, please rerun this cell to show the HTML representation or trust the notebook. <br />On GitHub, the HTML representation is unable to render, please try loading this page with nbviewer.org.</b></div><div class=\"sk-container\" hidden><div class=\"sk-item\"><div class=\"sk-estimator sk-toggleable\"><input class=\"sk-toggleable__control sk-hidden--visually\" id=\"sk-estimator-id-4\" type=\"checkbox\" checked><label for=\"sk-estimator-id-4\" class=\"sk-toggleable__label sk-toggleable__label-arrow\">KNeighborsClassifier</label><div class=\"sk-toggleable__content\"><pre>KNeighborsClassifier()</pre></div></div></div></div></div>"
            ]
          },
          "metadata": {},
          "execution_count": 58
        }
      ]
    },
    {
      "cell_type": "code",
      "source": [],
      "metadata": {
        "id": "UjSmLyWKytDd"
      },
      "execution_count": 58,
      "outputs": []
    },
    {
      "cell_type": "markdown",
      "source": [
        "**Create and print the Prediction Dataframe.**"
      ],
      "metadata": {
        "id": "spUN5aO_y5GJ"
      }
    },
    {
      "cell_type": "code",
      "source": [
        "#ENTER YOUR CODE HERE\n",
        "\n",
        "y_pred = knn.predict(X_test_scaled)\n",
        "\n",
        "predictions_df = pd.DataFrame(y_pred, columns=['Dominant_Emotion_Encoded_Predicted'])\n",
        "\n",
        "print(predictions_df)"
      ],
      "metadata": {
        "id": "RiPuf_Hc6dsh",
        "colab": {
          "base_uri": "https://localhost:8080/"
        },
        "outputId": "f3a86524-c62d-4ffd-c015-f869e47d7d95"
      },
      "execution_count": 59,
      "outputs": [
        {
          "output_type": "stream",
          "name": "stdout",
          "text": [
            "     Dominant_Emotion_Encoded_Predicted\n",
            "0                                     0\n",
            "1                                     0\n",
            "2                                     2\n",
            "3                                     3\n",
            "4                                     4\n",
            "..                                  ...\n",
            "180                                   2\n",
            "181                                   1\n",
            "182                                   0\n",
            "183                                   2\n",
            "184                                   3\n",
            "\n",
            "[185 rows x 1 columns]\n"
          ]
        }
      ]
    },
    {
      "cell_type": "code",
      "source": [],
      "metadata": {
        "id": "bEVunS6gy2pn"
      },
      "execution_count": 59,
      "outputs": []
    },
    {
      "cell_type": "markdown",
      "source": [
        "I'm guessing you notice the issue. These are not our original labels!\n",
        "\n",
        "**Tranform these labels using the encoder you had created while encoding 'Dominant_Emotion'.**"
      ],
      "metadata": {
        "id": "U6sgu3mKzcBl"
      }
    },
    {
      "cell_type": "code",
      "source": [
        "#ENTER YOUR CODE HERE\n",
        "decoded_predictions = label_encoder.inverse_transform(y_pred)\n",
        "print(decoded_predictions)"
      ],
      "metadata": {
        "id": "6Z3ilhXQ3ZY0",
        "colab": {
          "base_uri": "https://localhost:8080/"
        },
        "outputId": "ab15d6f6-7d2e-44f2-fc1c-319982752791"
      },
      "execution_count": 60,
      "outputs": [
        {
          "output_type": "stream",
          "name": "stdout",
          "text": [
            "['Anger' 'Anger' 'Boredom' 'Happiness' 'Neutral' 'Neutral' 'Neutral'\n",
            " 'Anxiety' 'Neutral' 'Boredom' 'Anger' 'Neutral' 'Boredom' 'Happiness'\n",
            " 'Anger' 'Anxiety' 'Anxiety' 'Boredom' 'Happiness' 'Happiness' 'Anger'\n",
            " 'Boredom' 'Anxiety' 'Happiness' 'Boredom' 'Neutral' 'Anger' 'Anxiety'\n",
            " 'Anger' 'Neutral' 'Anxiety' 'Sadness' 'Anger' 'Happiness' 'Anger'\n",
            " 'Neutral' 'Anger' 'Happiness' 'Sadness' 'Anxiety' 'Anger' 'Anger'\n",
            " 'Sadness' 'Neutral' 'Happiness' 'Neutral' 'Neutral' 'Anger' 'Happiness'\n",
            " 'Boredom' 'Sadness' 'Anxiety' 'Anxiety' 'Sadness' 'Happiness' 'Anger'\n",
            " 'Anxiety' 'Neutral' 'Neutral' 'Happiness' 'Anxiety' 'Happiness' 'Sadness'\n",
            " 'Anxiety' 'Happiness' 'Happiness' 'Happiness' 'Anxiety' 'Neutral'\n",
            " 'Happiness' 'Neutral' 'Boredom' 'Boredom' 'Anxiety' 'Neutral' 'Happiness'\n",
            " 'Neutral' 'Happiness' 'Anger' 'Sadness' 'Sadness' 'Neutral' 'Sadness'\n",
            " 'Anger' 'Happiness' 'Happiness' 'Anger' 'Anger' 'Boredom' 'Happiness'\n",
            " 'Anxiety' 'Neutral' 'Anger' 'Sadness' 'Neutral' 'Happiness' 'Happiness'\n",
            " 'Sadness' 'Happiness' 'Sadness' 'Sadness' 'Anxiety' 'Boredom' 'Happiness'\n",
            " 'Neutral' 'Happiness' 'Sadness' 'Neutral' 'Boredom' 'Neutral' 'Boredom'\n",
            " 'Happiness' 'Happiness' 'Happiness' 'Anger' 'Neutral' 'Neutral' 'Anxiety'\n",
            " 'Neutral' 'Sadness' 'Anger' 'Anger' 'Anxiety' 'Anger' 'Sadness' 'Neutral'\n",
            " 'Happiness' 'Anxiety' 'Boredom' 'Anger' 'Happiness' 'Anxiety' 'Sadness'\n",
            " 'Boredom' 'Anxiety' 'Happiness' 'Neutral' 'Happiness' 'Sadness'\n",
            " 'Happiness' 'Boredom' 'Boredom' 'Boredom' 'Happiness' 'Neutral' 'Neutral'\n",
            " 'Anger' 'Sadness' 'Neutral' 'Happiness' 'Neutral' 'Anxiety' 'Neutral'\n",
            " 'Neutral' 'Anger' 'Anger' 'Sadness' 'Neutral' 'Anxiety' 'Happiness'\n",
            " 'Boredom' 'Sadness' 'Anxiety' 'Neutral' 'Boredom' 'Happiness' 'Neutral'\n",
            " 'Happiness' 'Sadness' 'Anxiety' 'Anger' 'Anxiety' 'Happiness' 'Boredom'\n",
            " 'Sadness' 'Boredom' 'Sadness' 'Sadness' 'Anger' 'Happiness' 'Boredom'\n",
            " 'Anxiety' 'Anger' 'Boredom' 'Happiness']\n"
          ]
        }
      ]
    },
    {
      "cell_type": "code",
      "source": [],
      "metadata": {
        "id": "P99DcdpwzuiN"
      },
      "execution_count": 60,
      "outputs": []
    },
    {
      "cell_type": "markdown",
      "source": [
        "**Now print the relevant metrics! Don't forget to get original y_test first!**"
      ],
      "metadata": {
        "id": "yQkFhtY83djU"
      }
    },
    {
      "cell_type": "code",
      "source": [
        "#ENTER YOUR CODE HERE\n",
        "from sklearn.metrics import accuracy_score, classification_report, confusion_matrix\n",
        "decoded_y_test = label_encoder.inverse_transform(y_test)\n",
        "accuracy = accuracy_score(decoded_y_test, decoded_predictions)\n",
        "print(f'Accuracy of the model is: {accuracy}')"
      ],
      "metadata": {
        "id": "smHOZEFw6Iep",
        "colab": {
          "base_uri": "https://localhost:8080/"
        },
        "outputId": "96d0506f-ab36-471c-f875-56c6fc33f40e"
      },
      "execution_count": 61,
      "outputs": [
        {
          "output_type": "stream",
          "name": "stdout",
          "text": [
            "Accuracy of the model is: 0.8972972972972973\n"
          ]
        }
      ]
    },
    {
      "cell_type": "code",
      "source": [],
      "metadata": {
        "id": "oCtw8hgt3moE"
      },
      "execution_count": 61,
      "outputs": []
    },
    {
      "cell_type": "markdown",
      "source": [
        "**That's a good model!**\n",
        "\n",
        "Since it's multi-class classification, traditional metrics like precision and recall won't work. We'll judge our model using a confusion matrix and classification report!\n",
        "\n",
        "**Import the module for confusion matrix and classification report, and print them.**"
      ],
      "metadata": {
        "id": "Li8fmiRQ4zgP"
      }
    },
    {
      "cell_type": "code",
      "source": [
        "#ENTER YOUR CODE HERE\n",
        "conf_matrix = confusion_matrix(y_test, y_pred)\n",
        "print(\"\\nConfusion Matrix:\")\n",
        "print(conf_matrix)\n",
        "\n",
        "class_report = classification_report(y_test, y_pred, target_names=label_encoder.classes_)\n",
        "print(\"\\nClassification Report:\")\n",
        "print(class_report)"
      ],
      "metadata": {
        "id": "I-SJr1g36GPH",
        "colab": {
          "base_uri": "https://localhost:8080/"
        },
        "outputId": "015e59ac-00ed-4f89-f780-1f94f4163bd3"
      },
      "execution_count": 62,
      "outputs": [
        {
          "output_type": "stream",
          "name": "stdout",
          "text": [
            "\n",
            "Confusion Matrix:\n",
            "[[27  1  0  0  0  1]\n",
            " [ 2 24  5  0  3  1]\n",
            " [ 0  0 17  0  1  0]\n",
            " [ 0  1  0 42  0  0]\n",
            " [ 1  1  0  0 33  0]\n",
            " [ 0  0  2  0  0 23]]\n",
            "\n",
            "Classification Report:\n",
            "              precision    recall  f1-score   support\n",
            "\n",
            "       Anger       0.90      0.93      0.92        29\n",
            "     Anxiety       0.89      0.69      0.77        35\n",
            "     Boredom       0.71      0.94      0.81        18\n",
            "   Happiness       1.00      0.98      0.99        43\n",
            "     Neutral       0.89      0.94      0.92        35\n",
            "     Sadness       0.92      0.92      0.92        25\n",
            "\n",
            "    accuracy                           0.90       185\n",
            "   macro avg       0.88      0.90      0.89       185\n",
            "weighted avg       0.90      0.90      0.90       185\n",
            "\n"
          ]
        }
      ]
    },
    {
      "cell_type": "code",
      "source": [],
      "metadata": {
        "id": "tRXKwTn_5PYh"
      },
      "execution_count": 62,
      "outputs": []
    },
    {
      "cell_type": "markdown",
      "source": [
        "We already have our training and test datasets ready, lets train some other models.\n",
        "\n",
        "**Import Naive Bayes**"
      ],
      "metadata": {
        "id": "6nKLq1fz6qKm"
      }
    },
    {
      "cell_type": "code",
      "source": [
        "#ENTER YOUR CODE HERE\n",
        "from sklearn.naive_bayes import GaussianNB, MultinomialNB, BernoulliNB"
      ],
      "metadata": {
        "id": "E6IiLpkb63h5"
      },
      "execution_count": 63,
      "outputs": []
    },
    {
      "cell_type": "markdown",
      "source": [
        "**Now instantiate and fit a model.**"
      ],
      "metadata": {
        "id": "h5l4SLmF7Hmd"
      }
    },
    {
      "cell_type": "code",
      "source": [
        "#ENTER YOUR CODE HERE\n",
        "gnb = GaussianNB()\n",
        "\n",
        "gnb.fit(X_test_scaled, y_test)"
      ],
      "metadata": {
        "id": "_MhVNxjX7Mgl",
        "colab": {
          "base_uri": "https://localhost:8080/",
          "height": 75
        },
        "outputId": "686dd78c-df7c-481c-d0f7-44339ba0b087"
      },
      "execution_count": 64,
      "outputs": [
        {
          "output_type": "execute_result",
          "data": {
            "text/plain": [
              "GaussianNB()"
            ],
            "text/html": [
              "<style>#sk-container-id-5 {color: black;background-color: white;}#sk-container-id-5 pre{padding: 0;}#sk-container-id-5 div.sk-toggleable {background-color: white;}#sk-container-id-5 label.sk-toggleable__label {cursor: pointer;display: block;width: 100%;margin-bottom: 0;padding: 0.3em;box-sizing: border-box;text-align: center;}#sk-container-id-5 label.sk-toggleable__label-arrow:before {content: \"▸\";float: left;margin-right: 0.25em;color: #696969;}#sk-container-id-5 label.sk-toggleable__label-arrow:hover:before {color: black;}#sk-container-id-5 div.sk-estimator:hover label.sk-toggleable__label-arrow:before {color: black;}#sk-container-id-5 div.sk-toggleable__content {max-height: 0;max-width: 0;overflow: hidden;text-align: left;background-color: #f0f8ff;}#sk-container-id-5 div.sk-toggleable__content pre {margin: 0.2em;color: black;border-radius: 0.25em;background-color: #f0f8ff;}#sk-container-id-5 input.sk-toggleable__control:checked~div.sk-toggleable__content {max-height: 200px;max-width: 100%;overflow: auto;}#sk-container-id-5 input.sk-toggleable__control:checked~label.sk-toggleable__label-arrow:before {content: \"▾\";}#sk-container-id-5 div.sk-estimator input.sk-toggleable__control:checked~label.sk-toggleable__label {background-color: #d4ebff;}#sk-container-id-5 div.sk-label input.sk-toggleable__control:checked~label.sk-toggleable__label {background-color: #d4ebff;}#sk-container-id-5 input.sk-hidden--visually {border: 0;clip: rect(1px 1px 1px 1px);clip: rect(1px, 1px, 1px, 1px);height: 1px;margin: -1px;overflow: hidden;padding: 0;position: absolute;width: 1px;}#sk-container-id-5 div.sk-estimator {font-family: monospace;background-color: #f0f8ff;border: 1px dotted black;border-radius: 0.25em;box-sizing: border-box;margin-bottom: 0.5em;}#sk-container-id-5 div.sk-estimator:hover {background-color: #d4ebff;}#sk-container-id-5 div.sk-parallel-item::after {content: \"\";width: 100%;border-bottom: 1px solid gray;flex-grow: 1;}#sk-container-id-5 div.sk-label:hover label.sk-toggleable__label {background-color: #d4ebff;}#sk-container-id-5 div.sk-serial::before {content: \"\";position: absolute;border-left: 1px solid gray;box-sizing: border-box;top: 0;bottom: 0;left: 50%;z-index: 0;}#sk-container-id-5 div.sk-serial {display: flex;flex-direction: column;align-items: center;background-color: white;padding-right: 0.2em;padding-left: 0.2em;position: relative;}#sk-container-id-5 div.sk-item {position: relative;z-index: 1;}#sk-container-id-5 div.sk-parallel {display: flex;align-items: stretch;justify-content: center;background-color: white;position: relative;}#sk-container-id-5 div.sk-item::before, #sk-container-id-5 div.sk-parallel-item::before {content: \"\";position: absolute;border-left: 1px solid gray;box-sizing: border-box;top: 0;bottom: 0;left: 50%;z-index: -1;}#sk-container-id-5 div.sk-parallel-item {display: flex;flex-direction: column;z-index: 1;position: relative;background-color: white;}#sk-container-id-5 div.sk-parallel-item:first-child::after {align-self: flex-end;width: 50%;}#sk-container-id-5 div.sk-parallel-item:last-child::after {align-self: flex-start;width: 50%;}#sk-container-id-5 div.sk-parallel-item:only-child::after {width: 0;}#sk-container-id-5 div.sk-dashed-wrapped {border: 1px dashed gray;margin: 0 0.4em 0.5em 0.4em;box-sizing: border-box;padding-bottom: 0.4em;background-color: white;}#sk-container-id-5 div.sk-label label {font-family: monospace;font-weight: bold;display: inline-block;line-height: 1.2em;}#sk-container-id-5 div.sk-label-container {text-align: center;}#sk-container-id-5 div.sk-container {/* jupyter's `normalize.less` sets `[hidden] { display: none; }` but bootstrap.min.css set `[hidden] { display: none !important; }` so we also need the `!important` here to be able to override the default hidden behavior on the sphinx rendered scikit-learn.org. See: https://github.com/scikit-learn/scikit-learn/issues/21755 */display: inline-block !important;position: relative;}#sk-container-id-5 div.sk-text-repr-fallback {display: none;}</style><div id=\"sk-container-id-5\" class=\"sk-top-container\"><div class=\"sk-text-repr-fallback\"><pre>GaussianNB()</pre><b>In a Jupyter environment, please rerun this cell to show the HTML representation or trust the notebook. <br />On GitHub, the HTML representation is unable to render, please try loading this page with nbviewer.org.</b></div><div class=\"sk-container\" hidden><div class=\"sk-item\"><div class=\"sk-estimator sk-toggleable\"><input class=\"sk-toggleable__control sk-hidden--visually\" id=\"sk-estimator-id-5\" type=\"checkbox\" checked><label for=\"sk-estimator-id-5\" class=\"sk-toggleable__label sk-toggleable__label-arrow\">GaussianNB</label><div class=\"sk-toggleable__content\"><pre>GaussianNB()</pre></div></div></div></div></div>"
            ]
          },
          "metadata": {},
          "execution_count": 64
        }
      ]
    },
    {
      "cell_type": "code",
      "source": [],
      "metadata": {
        "id": "xJX7aO-U7Orp"
      },
      "execution_count": 64,
      "outputs": []
    },
    {
      "cell_type": "markdown",
      "source": [
        "**Predict on the test features, and dont forget to inverse transform!**"
      ],
      "metadata": {
        "id": "brk2ATRE7VYF"
      }
    },
    {
      "cell_type": "code",
      "source": [
        "#ENTER YOUR CODE HERE\n",
        "y_pred = gnb.predict(X_test_scaled)\n",
        "decoded_predictions = label_encoder.inverse_transform(y_pred)\n",
        "from sklearn.metrics import accuracy_score, classification_report, confusion_matrix\n",
        "decoded_y_test = label_encoder.inverse_transform(y_test)\n",
        "accuracy = accuracy_score(decoded_y_test, decoded_predictions)\n"
      ],
      "metadata": {
        "id": "bx4lhCC47f8W"
      },
      "execution_count": 65,
      "outputs": []
    },
    {
      "cell_type": "markdown",
      "source": [
        "**Finally, print the accuracy, confusion matrix and classification report.**"
      ],
      "metadata": {
        "id": "o6s37gTA7pbB"
      }
    },
    {
      "cell_type": "code",
      "source": [
        "#ENTER YOUR CODE HERE\n",
        "print(f'Accuracy of the model is: {accuracy}')\n",
        "conf_matrix = confusion_matrix(y_test, y_pred)\n",
        "print(\"\\nConfusion Matrix:\")\n",
        "print(conf_matrix)\n",
        "\n",
        "class_report = classification_report(y_test, y_pred, target_names=label_encoder.classes_)\n",
        "print(\"\\nClassification Report:\")\n",
        "print(class_report)"
      ],
      "metadata": {
        "id": "jj1aaJhK0XOk",
        "colab": {
          "base_uri": "https://localhost:8080/"
        },
        "outputId": "4c5927e6-4ffa-469b-eb2b-50bfd63cb391"
      },
      "execution_count": 66,
      "outputs": [
        {
          "output_type": "stream",
          "name": "stdout",
          "text": [
            "Accuracy of the model is: 0.42162162162162165\n",
            "\n",
            "Confusion Matrix:\n",
            "[[23  0  2  4  0  0]\n",
            " [ 8  0 14 12  0  1]\n",
            " [ 4  0 14  0  0  0]\n",
            " [ 5  0  0 37  0  1]\n",
            " [ 9  0 20  4  0  2]\n",
            " [11  0  9  1  0  4]]\n",
            "\n",
            "Classification Report:\n",
            "              precision    recall  f1-score   support\n",
            "\n",
            "       Anger       0.38      0.79      0.52        29\n",
            "     Anxiety       0.00      0.00      0.00        35\n",
            "     Boredom       0.24      0.78      0.36        18\n",
            "   Happiness       0.64      0.86      0.73        43\n",
            "     Neutral       0.00      0.00      0.00        35\n",
            "     Sadness       0.50      0.16      0.24        25\n",
            "\n",
            "    accuracy                           0.42       185\n",
            "   macro avg       0.29      0.43      0.31       185\n",
            "weighted avg       0.30      0.42      0.32       185\n",
            "\n"
          ]
        },
        {
          "output_type": "stream",
          "name": "stderr",
          "text": [
            "/usr/local/lib/python3.10/dist-packages/sklearn/metrics/_classification.py:1344: UndefinedMetricWarning: Precision and F-score are ill-defined and being set to 0.0 in labels with no predicted samples. Use `zero_division` parameter to control this behavior.\n",
            "  _warn_prf(average, modifier, msg_start, len(result))\n",
            "/usr/local/lib/python3.10/dist-packages/sklearn/metrics/_classification.py:1344: UndefinedMetricWarning: Precision and F-score are ill-defined and being set to 0.0 in labels with no predicted samples. Use `zero_division` parameter to control this behavior.\n",
            "  _warn_prf(average, modifier, msg_start, len(result))\n",
            "/usr/local/lib/python3.10/dist-packages/sklearn/metrics/_classification.py:1344: UndefinedMetricWarning: Precision and F-score are ill-defined and being set to 0.0 in labels with no predicted samples. Use `zero_division` parameter to control this behavior.\n",
            "  _warn_prf(average, modifier, msg_start, len(result))\n"
          ]
        }
      ]
    },
    {
      "cell_type": "code",
      "source": [],
      "metadata": {
        "id": "iBOU6Chh7yJV"
      },
      "execution_count": 66,
      "outputs": []
    },
    {
      "cell_type": "markdown",
      "source": [
        "### Now train a 'Decision Tree' and a 'Random Forest Generator' for the same classification problem.Feel free to play with the hyperparameters!\n",
        "\n",
        "### Report the accuracy score for each!"
      ],
      "metadata": {
        "id": "s9qowxm58Akw"
      }
    },
    {
      "cell_type": "markdown",
      "source": [
        "### REGRESSION\n"
      ],
      "metadata": {
        "id": "HTRABKXUbZh0"
      }
    },
    {
      "cell_type": "code",
      "source": [
        "! gdown 1lSdE2FDZbZ-w0JZ9fJBqC3l9EQwO9YLX"
      ],
      "metadata": {
        "colab": {
          "base_uri": "https://localhost:8080/"
        },
        "id": "s-PLKyg7JI01",
        "outputId": "3a4c4b77-6cf4-46c2-91e3-244e1aa60683"
      },
      "execution_count": 67,
      "outputs": [
        {
          "output_type": "stream",
          "name": "stdout",
          "text": [
            "Downloading...\n",
            "From: https://drive.google.com/uc?id=1lSdE2FDZbZ-w0JZ9fJBqC3l9EQwO9YLX\n",
            "To: /content/IPL 2022 Batters.csv\n",
            "\r  0% 0.00/7.91k [00:00<?, ?B/s]\r100% 7.91k/7.91k [00:00<00:00, 21.4MB/s]\n"
          ]
        }
      ]
    },
    {
      "cell_type": "markdown",
      "source": [
        "**Import the csv `IPL 2022 Batters.csv` as a pandas dataframe.**"
      ],
      "metadata": {
        "id": "LnYeOSMsbydU"
      }
    },
    {
      "cell_type": "code",
      "source": [
        "#ENTER YOUR CODE HERE\n",
        "df=pd.read_csv(\"IPL 2022 Batters.csv\")"
      ],
      "metadata": {
        "id": "6Do8PaDZdauT"
      },
      "execution_count": 68,
      "outputs": []
    },
    {
      "cell_type": "markdown",
      "source": [
        "**First things first, analyze the data**"
      ],
      "metadata": {
        "id": "qHrv125ndeKk"
      }
    },
    {
      "cell_type": "code",
      "source": [
        "#ENTER YOUR CODE HERE\n",
        "print(df.keys())"
      ],
      "metadata": {
        "id": "u2u9yyXXdeoQ",
        "colab": {
          "base_uri": "https://localhost:8080/"
        },
        "outputId": "cf0a3771-8706-4127-c175-c66ac4991d39"
      },
      "execution_count": 69,
      "outputs": [
        {
          "output_type": "stream",
          "name": "stdout",
          "text": [
            "Index(['Player', 'Mat', 'Inns', 'NO', 'Runs', 'HS', 'Avg', 'BF', 'SR', '100',\n",
            "       '50', '4s'],\n",
            "      dtype='object')\n"
          ]
        }
      ]
    },
    {
      "cell_type": "code",
      "source": [],
      "metadata": {
        "id": "kVasUJ8xbgJm"
      },
      "execution_count": 69,
      "outputs": []
    },
    {
      "cell_type": "markdown",
      "source": [
        "**Use a function to find out about the datatypes of the features**"
      ],
      "metadata": {
        "id": "STy56FKxPaxf"
      }
    },
    {
      "cell_type": "code",
      "source": [
        "#ENTER YOUR CODE HERE\n",
        "print(df.info())"
      ],
      "metadata": {
        "id": "R7KAS64C0cnz",
        "colab": {
          "base_uri": "https://localhost:8080/"
        },
        "outputId": "db3f3dd1-145b-4044-a4ed-842208973d68"
      },
      "execution_count": 70,
      "outputs": [
        {
          "output_type": "stream",
          "name": "stdout",
          "text": [
            "<class 'pandas.core.frame.DataFrame'>\n",
            "RangeIndex: 162 entries, 0 to 161\n",
            "Data columns (total 12 columns):\n",
            " #   Column  Non-Null Count  Dtype  \n",
            "---  ------  --------------  -----  \n",
            " 0   Player  162 non-null    object \n",
            " 1   Mat     162 non-null    int64  \n",
            " 2   Inns    162 non-null    int64  \n",
            " 3   NO      162 non-null    int64  \n",
            " 4   Runs    162 non-null    int64  \n",
            " 5   HS      162 non-null    object \n",
            " 6   Avg     162 non-null    object \n",
            " 7   BF      162 non-null    int64  \n",
            " 8   SR      162 non-null    float64\n",
            " 9   100     162 non-null    int64  \n",
            " 10  50      162 non-null    int64  \n",
            " 11  4s      162 non-null    int64  \n",
            "dtypes: float64(1), int64(8), object(3)\n",
            "memory usage: 15.3+ KB\n",
            "None\n"
          ]
        }
      ]
    },
    {
      "cell_type": "code",
      "source": [
        "print(df)"
      ],
      "metadata": {
        "id": "GYxXib8JbgHq",
        "colab": {
          "base_uri": "https://localhost:8080/"
        },
        "outputId": "c3a4c4dc-bc3e-460c-fce1-28f23f64396d"
      },
      "execution_count": 71,
      "outputs": [
        {
          "output_type": "stream",
          "name": "stdout",
          "text": [
            "                  Player  Mat  Inns  NO  Runs    HS    Avg   BF      SR  100  \\\n",
            "0            Jos Buttler   17    17   2   863   116  57.53  579  149.05    4   \n",
            "1              K L Rahul   15    15   3   616  103*  51.33  455  135.38    2   \n",
            "2        Quinton De Kock   15    15   1   508  140*  36.29  341  148.97    1   \n",
            "3          Hardik Pandya   15    15   4   487   87*  44.27  371  131.26    0   \n",
            "4           Shubman Gill   16    16   2   483    96   34.5  365  132.32    0   \n",
            "..                   ...  ...   ...  ..   ...   ...    ...  ...     ...  ...   \n",
            "157     Fazalhaq Farooqi    3     1   1     2    2*      -    8   25.00    0   \n",
            "158   Jagadeesha Suchith    5     2   0     2     2      1    8   25.00    0   \n",
            "159          Tim Southee    9     5   1     2    1*    0.5   12   16.66    0   \n",
            "160  Nathan Coulter-Nile    1     1   1     1    1*      -    2   50.00    0   \n",
            "161        Anrich Nortje    6     1   1     1    1*      -    6   16.66    0   \n",
            "\n",
            "     50  4s  \n",
            "0     4  83  \n",
            "1     4  45  \n",
            "2     3  47  \n",
            "3     4  49  \n",
            "4     4  51  \n",
            "..   ..  ..  \n",
            "157   0   0  \n",
            "158   0   0  \n",
            "159   0   0  \n",
            "160   0   0  \n",
            "161   0   0  \n",
            "\n",
            "[162 rows x 12 columns]\n"
          ]
        }
      ]
    },
    {
      "cell_type": "markdown",
      "source": [
        "**Interestingly, not all features are numerical !**\n",
        "\n",
        "Drop the irrelevant features and convert the non numerical features in to numerical ones by some procedure"
      ],
      "metadata": {
        "id": "roc61M2xPgRq"
      }
    },
    {
      "cell_type": "code",
      "source": [
        "values = []\n",
        "for i,val in enumerate(df['Avg'].values) :\n",
        "  if val == '-' :\n",
        "    values.append(0)\n",
        "  else :\n",
        "    values.append(float(val))\n",
        "\n",
        "df['Avg'] = values"
      ],
      "metadata": {
        "id": "zo0-3RzvMgwJ"
      },
      "execution_count": 72,
      "outputs": []
    },
    {
      "cell_type": "code",
      "source": [
        "values = []\n",
        "for value in df['HS'].values :\n",
        "  if value[-1] == '*' :\n",
        "    value = value[:-1]\n",
        "  values.append(int(value))\n",
        "\n",
        "df['HS'] = values"
      ],
      "metadata": {
        "id": "LMuOmpmNMgyE"
      },
      "execution_count": 73,
      "outputs": []
    },
    {
      "cell_type": "code",
      "source": [
        "df = df.drop([\"Player\"], axis = 1)"
      ],
      "metadata": {
        "id": "GsY5IBC9h41j"
      },
      "execution_count": 74,
      "outputs": []
    },
    {
      "cell_type": "markdown",
      "source": [
        "**Print the head to get a look at the data again**"
      ],
      "metadata": {
        "id": "7Q2FX4ZEQXAo"
      }
    },
    {
      "cell_type": "code",
      "source": [
        "#ENTER YOUR CODE HERE\n",
        "print(df.head(25))"
      ],
      "metadata": {
        "id": "bwCWf3ouQezE",
        "colab": {
          "base_uri": "https://localhost:8080/"
        },
        "outputId": "a81b1e6b-e45d-48f5-b887-a0a621159552"
      },
      "execution_count": 75,
      "outputs": [
        {
          "output_type": "stream",
          "name": "stdout",
          "text": [
            "    Mat  Inns  NO  Runs   HS    Avg   BF      SR  100  50  4s\n",
            "0    17    17   2   863  116  57.53  579  149.05    4   4  83\n",
            "1    15    15   3   616  103  51.33  455  135.38    2   4  45\n",
            "2    15    15   1   508  140  36.29  341  148.97    1   3  47\n",
            "3    15    15   4   487   87  44.27  371  131.26    0   4  49\n",
            "4    16    16   2   483   96  34.50  365  132.32    0   4  51\n",
            "5    16    16   9   481   94  68.71  337  142.72    0   2  32\n",
            "6    16    16   1   468   96  31.20  367  127.52    0   3  49\n",
            "7    14    14   2   460   88  38.33  375  122.66    0   3  47\n",
            "8    17    17   1   458   55  28.63  312  146.79    0   2  43\n",
            "9    15    14   0   451   59  32.21  330  136.66    0   4  36\n",
            "10   14    14   2   437   70  36.42  240  182.08    0   4  29\n",
            "11   12    12   3   432   92  48.00  287  150.52    0   5  52\n",
            "12   14    14   0   426   75  30.43  320  133.12    0   2  47\n",
            "13   14    14   1   418   81  32.15  348  120.11    0   3  45\n",
            "14   14    14   3   413   76  37.55  261  158.23    0   3  40\n",
            "15   14    14   1   401   85  30.85  298  134.56    0   3  41\n",
            "16   14    14   3   397   61  36.09  303  131.02    0   2  29\n",
            "17   14    12   4   381   68  47.63  274  139.05    0   3  25\n",
            "18   17    17   0   376   54  22.12  306  122.87    0   1  40\n",
            "19   14    14   0   368   99  26.29  291  126.46    0   3  33\n",
            "20   14    14   1   361   57  27.77  251  143.82    0   2  29\n",
            "21   16    16   1   341   73  22.73  294  115.98    0   2  32\n",
            "22   14    13   2   340   44  30.91  224  151.78    0   0  35\n",
            "23   14    12   3   335   70  37.22  192  174.47    0   1  18\n",
            "24    8     7   1   333  112  55.50  218  152.75    1   2  27\n"
          ]
        }
      ]
    },
    {
      "cell_type": "code",
      "source": [],
      "metadata": {
        "id": "wPRnJqPAhHuu"
      },
      "execution_count": 75,
      "outputs": []
    },
    {
      "cell_type": "markdown",
      "source": [
        "**Check for null values and drop them if found**"
      ],
      "metadata": {
        "id": "VfeE0PIkhYka"
      }
    },
    {
      "cell_type": "code",
      "source": [
        "#ENTER YOUR CODE HERE\n",
        "df.dropna(inplace=True)"
      ],
      "metadata": {
        "id": "vTIRDMCthfg-"
      },
      "execution_count": 76,
      "outputs": []
    },
    {
      "cell_type": "markdown",
      "source": [
        "**Examine the shape of the dataset**"
      ],
      "metadata": {
        "id": "WQ7gQJrDhmuR"
      }
    },
    {
      "cell_type": "code",
      "source": [
        "#ENTER YOUR CODE HERE\n",
        "print(df.shape)"
      ],
      "metadata": {
        "id": "RtLWnWJahql2",
        "colab": {
          "base_uri": "https://localhost:8080/"
        },
        "outputId": "7dfb5f82-0c16-4592-9e8a-2d9064eec927"
      },
      "execution_count": 77,
      "outputs": [
        {
          "output_type": "stream",
          "name": "stdout",
          "text": [
            "(162, 11)\n"
          ]
        }
      ]
    },
    {
      "cell_type": "code",
      "source": [],
      "metadata": {
        "id": "4hPwJk62hrwa"
      },
      "execution_count": 77,
      "outputs": []
    },
    {
      "cell_type": "code",
      "source": [],
      "metadata": {
        "id": "RxT0ASoMMR2-"
      },
      "execution_count": 77,
      "outputs": []
    },
    {
      "cell_type": "markdown",
      "source": [
        "**Separate the features and the target label**\n",
        "\n",
        "What type of target features are associated with a Regression task ?\n",
        "\n",
        "Continuous ones, yes. In this dataset, all the features are continuous ones. Let's pick the number of 4s as the prediction target for now."
      ],
      "metadata": {
        "id": "2Pu0Tmr9h-Iu"
      }
    },
    {
      "cell_type": "code",
      "source": [
        "#ENTER YOUR CODE HERE\n",
        "X = df.iloc[:, :-1]\n",
        "y = df.iloc[:, -1]"
      ],
      "metadata": {
        "id": "hMBRAOAxiEz0"
      },
      "execution_count": 78,
      "outputs": []
    },
    {
      "cell_type": "markdown",
      "source": [
        "**Split the dataset into training set and testing set**\n",
        "\n",
        "Pick a suitable test size"
      ],
      "metadata": {
        "id": "IW-o6wZ8idjb"
      }
    },
    {
      "cell_type": "code",
      "source": [
        "#ENTER YOUR CODE HERE\n",
        "from sklearn.model_selection import train_test_split\n",
        "X_train, X_test, y_train, y_test = train_test_split(X, y, test_size=32, random_state=42)"
      ],
      "metadata": {
        "id": "u_HESGeJimkS"
      },
      "execution_count": 79,
      "outputs": []
    },
    {
      "cell_type": "markdown",
      "source": [
        "**Import Linear Regression from sklearn**"
      ],
      "metadata": {
        "id": "uECwoxkhiw4o"
      }
    },
    {
      "cell_type": "code",
      "source": [
        "#ENTER YOUR CODE HERE\n",
        "from sklearn.linear_model import LinearRegression"
      ],
      "metadata": {
        "id": "xuZc63S0L2zw"
      },
      "execution_count": 80,
      "outputs": []
    },
    {
      "cell_type": "markdown",
      "source": [
        "**Create a model**"
      ],
      "metadata": {
        "id": "Wix-ZFyyL6ZW"
      }
    },
    {
      "cell_type": "code",
      "source": [
        "#ENTER YOUR CODE HERE\n",
        "linreg = LinearRegression()\n",
        "\n",
        "\n",
        "\n"
      ],
      "metadata": {
        "id": "Fob23MwsL63j"
      },
      "execution_count": 81,
      "outputs": []
    },
    {
      "cell_type": "markdown",
      "source": [
        "**Use this model to fit on training data**"
      ],
      "metadata": {
        "id": "nKIPLosPMEu1"
      }
    },
    {
      "cell_type": "code",
      "source": [
        "#ENTER YOUR CODE HERE\n",
        "linreg.fit(X_train, y_train)"
      ],
      "metadata": {
        "id": "4Er8tAwEMFL8",
        "colab": {
          "base_uri": "https://localhost:8080/",
          "height": 75
        },
        "outputId": "63bbd21e-dcd4-4e2d-ceb3-5e9564d71984"
      },
      "execution_count": 82,
      "outputs": [
        {
          "output_type": "execute_result",
          "data": {
            "text/plain": [
              "LinearRegression()"
            ],
            "text/html": [
              "<style>#sk-container-id-6 {color: black;background-color: white;}#sk-container-id-6 pre{padding: 0;}#sk-container-id-6 div.sk-toggleable {background-color: white;}#sk-container-id-6 label.sk-toggleable__label {cursor: pointer;display: block;width: 100%;margin-bottom: 0;padding: 0.3em;box-sizing: border-box;text-align: center;}#sk-container-id-6 label.sk-toggleable__label-arrow:before {content: \"▸\";float: left;margin-right: 0.25em;color: #696969;}#sk-container-id-6 label.sk-toggleable__label-arrow:hover:before {color: black;}#sk-container-id-6 div.sk-estimator:hover label.sk-toggleable__label-arrow:before {color: black;}#sk-container-id-6 div.sk-toggleable__content {max-height: 0;max-width: 0;overflow: hidden;text-align: left;background-color: #f0f8ff;}#sk-container-id-6 div.sk-toggleable__content pre {margin: 0.2em;color: black;border-radius: 0.25em;background-color: #f0f8ff;}#sk-container-id-6 input.sk-toggleable__control:checked~div.sk-toggleable__content {max-height: 200px;max-width: 100%;overflow: auto;}#sk-container-id-6 input.sk-toggleable__control:checked~label.sk-toggleable__label-arrow:before {content: \"▾\";}#sk-container-id-6 div.sk-estimator input.sk-toggleable__control:checked~label.sk-toggleable__label {background-color: #d4ebff;}#sk-container-id-6 div.sk-label input.sk-toggleable__control:checked~label.sk-toggleable__label {background-color: #d4ebff;}#sk-container-id-6 input.sk-hidden--visually {border: 0;clip: rect(1px 1px 1px 1px);clip: rect(1px, 1px, 1px, 1px);height: 1px;margin: -1px;overflow: hidden;padding: 0;position: absolute;width: 1px;}#sk-container-id-6 div.sk-estimator {font-family: monospace;background-color: #f0f8ff;border: 1px dotted black;border-radius: 0.25em;box-sizing: border-box;margin-bottom: 0.5em;}#sk-container-id-6 div.sk-estimator:hover {background-color: #d4ebff;}#sk-container-id-6 div.sk-parallel-item::after {content: \"\";width: 100%;border-bottom: 1px solid gray;flex-grow: 1;}#sk-container-id-6 div.sk-label:hover label.sk-toggleable__label {background-color: #d4ebff;}#sk-container-id-6 div.sk-serial::before {content: \"\";position: absolute;border-left: 1px solid gray;box-sizing: border-box;top: 0;bottom: 0;left: 50%;z-index: 0;}#sk-container-id-6 div.sk-serial {display: flex;flex-direction: column;align-items: center;background-color: white;padding-right: 0.2em;padding-left: 0.2em;position: relative;}#sk-container-id-6 div.sk-item {position: relative;z-index: 1;}#sk-container-id-6 div.sk-parallel {display: flex;align-items: stretch;justify-content: center;background-color: white;position: relative;}#sk-container-id-6 div.sk-item::before, #sk-container-id-6 div.sk-parallel-item::before {content: \"\";position: absolute;border-left: 1px solid gray;box-sizing: border-box;top: 0;bottom: 0;left: 50%;z-index: -1;}#sk-container-id-6 div.sk-parallel-item {display: flex;flex-direction: column;z-index: 1;position: relative;background-color: white;}#sk-container-id-6 div.sk-parallel-item:first-child::after {align-self: flex-end;width: 50%;}#sk-container-id-6 div.sk-parallel-item:last-child::after {align-self: flex-start;width: 50%;}#sk-container-id-6 div.sk-parallel-item:only-child::after {width: 0;}#sk-container-id-6 div.sk-dashed-wrapped {border: 1px dashed gray;margin: 0 0.4em 0.5em 0.4em;box-sizing: border-box;padding-bottom: 0.4em;background-color: white;}#sk-container-id-6 div.sk-label label {font-family: monospace;font-weight: bold;display: inline-block;line-height: 1.2em;}#sk-container-id-6 div.sk-label-container {text-align: center;}#sk-container-id-6 div.sk-container {/* jupyter's `normalize.less` sets `[hidden] { display: none; }` but bootstrap.min.css set `[hidden] { display: none !important; }` so we also need the `!important` here to be able to override the default hidden behavior on the sphinx rendered scikit-learn.org. See: https://github.com/scikit-learn/scikit-learn/issues/21755 */display: inline-block !important;position: relative;}#sk-container-id-6 div.sk-text-repr-fallback {display: none;}</style><div id=\"sk-container-id-6\" class=\"sk-top-container\"><div class=\"sk-text-repr-fallback\"><pre>LinearRegression()</pre><b>In a Jupyter environment, please rerun this cell to show the HTML representation or trust the notebook. <br />On GitHub, the HTML representation is unable to render, please try loading this page with nbviewer.org.</b></div><div class=\"sk-container\" hidden><div class=\"sk-item\"><div class=\"sk-estimator sk-toggleable\"><input class=\"sk-toggleable__control sk-hidden--visually\" id=\"sk-estimator-id-6\" type=\"checkbox\" checked><label for=\"sk-estimator-id-6\" class=\"sk-toggleable__label sk-toggleable__label-arrow\">LinearRegression</label><div class=\"sk-toggleable__content\"><pre>LinearRegression()</pre></div></div></div></div></div>"
            ]
          },
          "metadata": {},
          "execution_count": 82
        }
      ]
    },
    {
      "cell_type": "code",
      "source": [],
      "metadata": {
        "id": "TLNQ8RVFMFSf"
      },
      "execution_count": 82,
      "outputs": []
    },
    {
      "cell_type": "markdown",
      "source": [
        "**Time to get some predictions**"
      ],
      "metadata": {
        "id": "9F89wxslQmji"
      }
    },
    {
      "cell_type": "code",
      "source": [
        "#ENTER YOUR CODE HERE\n",
        "y_pred = linreg.predict(X_test)\n",
        "print(y_pred)\n"
      ],
      "metadata": {
        "id": "CS5SmaRwQnAX",
        "colab": {
          "base_uri": "https://localhost:8080/"
        },
        "outputId": "6b3ba118-6916-486a-8b1e-d435cf0dca12"
      },
      "execution_count": 83,
      "outputs": [
        {
          "output_type": "stream",
          "name": "stdout",
          "text": [
            "[ 1.11061399  0.81757233  1.01718526 13.12570452  3.55615083 29.4171439\n",
            "  3.53447002 15.56716776  3.54398469 -0.2120158  37.0429851   4.61927349\n",
            " 38.99781487  9.83424338 28.36936013 25.1562588   1.91044359  2.11857387\n",
            "  5.31346036 36.42132852  8.21740817 36.52589852 40.94185132 46.64159418\n",
            " 25.65814833 -0.06188903  2.00927672 14.70717432  1.08791565  1.52619706\n",
            "  1.54135918  5.35007658]\n"
          ]
        }
      ]
    },
    {
      "cell_type": "code",
      "source": [],
      "metadata": {
        "id": "ngn424p0RMem"
      },
      "execution_count": 83,
      "outputs": []
    },
    {
      "cell_type": "markdown",
      "source": [
        "**Find the MSE,MAE and RMSE for the model**\n",
        "\n",
        "As an exercise, briefly write about these metrics below\n",
        "\n",
        "MSE : It is used to test the accuracy of regression model . It calculate the error of mean of squares of difference between actual and predicted value.\n",
        "\n",
        "RMSE : It is basically root over mean squared error.\n",
        "\n",
        "MAE :is another common metric for evaluating regression models. It measures the average absolute differences between the actual and predicted values.\n"
      ],
      "metadata": {
        "id": "Ir52bfsBRXXy"
      }
    },
    {
      "cell_type": "code",
      "source": [
        "#ENTER YOUR CODE HERE\n",
        "from sklearn.metrics import mean_squared_error, mean_absolute_error\n",
        "mse = mean_squared_error(y_test, y_pred)\n",
        "\n",
        "mae = mean_absolute_error(y_test, y_pred)\n",
        "\n",
        "rmse = np.sqrt(mse)\n",
        "\n",
        "# Print the results\n",
        "print(\"Mean Squared Error (MSE):\", mse)\n",
        "print(\"Mean Absolute Error (MAE):\", mae)\n",
        "print(\"Root Mean Squared Error (RMSE):\", rmse)"
      ],
      "metadata": {
        "id": "2BeHmxj8Rdvf",
        "colab": {
          "base_uri": "https://localhost:8080/"
        },
        "outputId": "96e595f4-1651-48e3-e186-51ed9c0cbf31"
      },
      "execution_count": 84,
      "outputs": [
        {
          "output_type": "stream",
          "name": "stdout",
          "text": [
            "Mean Squared Error (MSE): 13.884463376664888\n",
            "Mean Absolute Error (MAE): 2.810083475032122\n",
            "Root Mean Squared Error (RMSE): 3.72618617042478\n"
          ]
        }
      ]
    },
    {
      "cell_type": "code",
      "source": [],
      "metadata": {
        "id": "ArlERUiaRdVi"
      },
      "execution_count": 84,
      "outputs": []
    },
    {
      "cell_type": "markdown",
      "source": [
        "**There you have it, your first regression model is ready!**"
      ],
      "metadata": {
        "id": "o3IiBmE1SaGZ"
      }
    },
    {
      "cell_type": "markdown",
      "source": [
        "## UNSUPERVISED LEARNING"
      ],
      "metadata": {
        "id": "S8iyx0RabTGQ"
      }
    },
    {
      "cell_type": "code",
      "source": [
        "! gdown 1KpPxlEvltC7qn7AJk8wqO3-_7jzsy8yw"
      ],
      "metadata": {
        "colab": {
          "base_uri": "https://localhost:8080/"
        },
        "id": "A4ui0cX5Ti6A",
        "outputId": "63b13807-0590-4f5f-99e5-28d4f5b8f2e4"
      },
      "execution_count": 85,
      "outputs": [
        {
          "output_type": "stream",
          "name": "stdout",
          "text": [
            "Downloading...\n",
            "From: https://drive.google.com/uc?id=1KpPxlEvltC7qn7AJk8wqO3-_7jzsy8yw\n",
            "To: /content/iris.csv\n",
            "\r  0% 0.00/2.47k [00:00<?, ?B/s]\r100% 2.47k/2.47k [00:00<00:00, 9.91MB/s]\n"
          ]
        }
      ]
    },
    {
      "cell_type": "markdown",
      "source": [
        "**Load the iris dataset**"
      ],
      "metadata": {
        "id": "e7Nka73_T1L1"
      }
    },
    {
      "cell_type": "code",
      "source": [
        "#ENTER YOUR CODE HERE\n",
        "df=pd.read_csv(\"iris.csv\")"
      ],
      "metadata": {
        "id": "fa622USMT6fq"
      },
      "execution_count": 86,
      "outputs": []
    },
    {
      "cell_type": "markdown",
      "source": [
        "**No need to mention what to do next :)**"
      ],
      "metadata": {
        "id": "o_X8fu5wT-lA"
      }
    },
    {
      "cell_type": "code",
      "source": [
        "#ENTER YOUR CODE HERE\n",
        "print(df.describe())"
      ],
      "metadata": {
        "id": "LgzQVf8sUFws",
        "colab": {
          "base_uri": "https://localhost:8080/"
        },
        "outputId": "e8aa997a-c5c3-48cc-e217-e3c03cd0efd3"
      },
      "execution_count": 87,
      "outputs": [
        {
          "output_type": "stream",
          "name": "stdout",
          "text": [
            "       sepal length (cm)  sepal width (cm)  petal length (cm)  \\\n",
            "count         150.000000        150.000000         150.000000   \n",
            "mean            5.843333          3.057333           3.758000   \n",
            "std             0.828066          0.435866           1.765298   \n",
            "min             4.300000          2.000000           1.000000   \n",
            "25%             5.100000          2.800000           1.600000   \n",
            "50%             5.800000          3.000000           4.350000   \n",
            "75%             6.400000          3.300000           5.100000   \n",
            "max             7.900000          4.400000           6.900000   \n",
            "\n",
            "       petal width (cm)  \n",
            "count        150.000000  \n",
            "mean           1.199333  \n",
            "std            0.762238  \n",
            "min            0.100000  \n",
            "25%            0.300000  \n",
            "50%            1.300000  \n",
            "75%            1.800000  \n",
            "max            2.500000  \n"
          ]
        }
      ]
    },
    {
      "cell_type": "code",
      "source": [],
      "metadata": {
        "id": "oeMDysGlT8dj"
      },
      "execution_count": 87,
      "outputs": []
    },
    {
      "cell_type": "code",
      "source": [
        "print(df.info())"
      ],
      "metadata": {
        "colab": {
          "base_uri": "https://localhost:8080/"
        },
        "id": "jIIUhW3AUHh2",
        "outputId": "3b17176a-5353-4fc9-dfd6-2f235aca1c48"
      },
      "execution_count": 88,
      "outputs": [
        {
          "output_type": "stream",
          "name": "stdout",
          "text": [
            "<class 'pandas.core.frame.DataFrame'>\n",
            "RangeIndex: 150 entries, 0 to 149\n",
            "Data columns (total 4 columns):\n",
            " #   Column             Non-Null Count  Dtype  \n",
            "---  ------             --------------  -----  \n",
            " 0   sepal length (cm)  150 non-null    float64\n",
            " 1   sepal width (cm)   150 non-null    float64\n",
            " 2   petal length (cm)  150 non-null    float64\n",
            " 3   petal width (cm)   150 non-null    float64\n",
            "dtypes: float64(4)\n",
            "memory usage: 4.8 KB\n",
            "None\n"
          ]
        }
      ]
    },
    {
      "cell_type": "markdown",
      "source": [
        "**Plot pairwise plot to see relations between the features**\n",
        "\n",
        "Hint : Use the seaborn library for pairplots"
      ],
      "metadata": {
        "id": "nXkeRufEVNLT"
      }
    },
    {
      "cell_type": "code",
      "source": [
        "#ENTER YOUR CODE HERE\n",
        "import seaborn as sns\n",
        "sns.pairplot(df)\n",
        "plt.show()\n"
      ],
      "metadata": {
        "id": "zVXgdAOuVtCm",
        "colab": {
          "base_uri": "https://localhost:8080/",
          "height": 984
        },
        "outputId": "63564443-7261-43e8-cd19-9c1d7e048c10"
      },
      "execution_count": 89,
      "outputs": [
        {
          "output_type": "display_data",
          "data": {
            "text/plain": [
              "<Figure size 1000x1000 with 20 Axes>"
            ],
            "image/png": "[encoded data removed]"
          },
          "metadata": {}
        }
      ]
    },
    {
      "cell_type": "code",
      "source": [],
      "metadata": {
        "id": "Lfd5a9xvU6ZC"
      },
      "execution_count": 89,
      "outputs": []
    },
    {
      "cell_type": "markdown",
      "source": [
        "As apparent, there is no label assigned to these entries\n",
        "\n",
        "**Therefore let us try to Cluster the data to see any similarities**\n",
        "\n",
        "**Import KMeans from sklearn**"
      ],
      "metadata": {
        "id": "wedf3LzZUMyX"
      }
    },
    {
      "cell_type": "code",
      "source": [
        "#ENTER YOUR CODE HERE\n",
        "from sklearn.cluster import KMeans\n"
      ],
      "metadata": {
        "id": "aMZR5OOJVt2j"
      },
      "execution_count": 90,
      "outputs": []
    },
    {
      "cell_type": "markdown",
      "source": [
        "**Perform K Means Clustering**"
      ],
      "metadata": {
        "id": "J41mNLSqVvBU"
      }
    },
    {
      "cell_type": "code",
      "source": [
        "#ENTER YOUR CODE HERE\n",
        "kmeans = KMeans(n_clusters=3,random_state=42)\n",
        "kmeans.fit(df)"
      ],
      "metadata": {
        "id": "15PMMfvqVyfM",
        "colab": {
          "base_uri": "https://localhost:8080/",
          "height": 130
        },
        "outputId": "1013f8e4-69a9-420d-a1c7-4e4411b2e05d"
      },
      "execution_count": 91,
      "outputs": [
        {
          "output_type": "stream",
          "name": "stderr",
          "text": [
            "/usr/local/lib/python3.10/dist-packages/sklearn/cluster/_kmeans.py:870: FutureWarning: The default value of `n_init` will change from 10 to 'auto' in 1.4. Set the value of `n_init` explicitly to suppress the warning\n",
            "  warnings.warn(\n"
          ]
        },
        {
          "output_type": "execute_result",
          "data": {
            "text/plain": [
              "KMeans(n_clusters=3, random_state=42)"
            ],
            "text/html": [
              "<style>#sk-container-id-7 {color: black;background-color: white;}#sk-container-id-7 pre{padding: 0;}#sk-container-id-7 div.sk-toggleable {background-color: white;}#sk-container-id-7 label.sk-toggleable__label {cursor: pointer;display: block;width: 100%;margin-bottom: 0;padding: 0.3em;box-sizing: border-box;text-align: center;}#sk-container-id-7 label.sk-toggleable__label-arrow:before {content: \"▸\";float: left;margin-right: 0.25em;color: #696969;}#sk-container-id-7 label.sk-toggleable__label-arrow:hover:before {color: black;}#sk-container-id-7 div.sk-estimator:hover label.sk-toggleable__label-arrow:before {color: black;}#sk-container-id-7 div.sk-toggleable__content {max-height: 0;max-width: 0;overflow: hidden;text-align: left;background-color: #f0f8ff;}#sk-container-id-7 div.sk-toggleable__content pre {margin: 0.2em;color: black;border-radius: 0.25em;background-color: #f0f8ff;}#sk-container-id-7 input.sk-toggleable__control:checked~div.sk-toggleable__content {max-height: 200px;max-width: 100%;overflow: auto;}#sk-container-id-7 input.sk-toggleable__control:checked~label.sk-toggleable__label-arrow:before {content: \"▾\";}#sk-container-id-7 div.sk-estimator input.sk-toggleable__control:checked~label.sk-toggleable__label {background-color: #d4ebff;}#sk-container-id-7 div.sk-label input.sk-toggleable__control:checked~label.sk-toggleable__label {background-color: #d4ebff;}#sk-container-id-7 input.sk-hidden--visually {border: 0;clip: rect(1px 1px 1px 1px);clip: rect(1px, 1px, 1px, 1px);height: 1px;margin: -1px;overflow: hidden;padding: 0;position: absolute;width: 1px;}#sk-container-id-7 div.sk-estimator {font-family: monospace;background-color: #f0f8ff;border: 1px dotted black;border-radius: 0.25em;box-sizing: border-box;margin-bottom: 0.5em;}#sk-container-id-7 div.sk-estimator:hover {background-color: #d4ebff;}#sk-container-id-7 div.sk-parallel-item::after {content: \"\";width: 100%;border-bottom: 1px solid gray;flex-grow: 1;}#sk-container-id-7 div.sk-label:hover label.sk-toggleable__label {background-color: #d4ebff;}#sk-container-id-7 div.sk-serial::before {content: \"\";position: absolute;border-left: 1px solid gray;box-sizing: border-box;top: 0;bottom: 0;left: 50%;z-index: 0;}#sk-container-id-7 div.sk-serial {display: flex;flex-direction: column;align-items: center;background-color: white;padding-right: 0.2em;padding-left: 0.2em;position: relative;}#sk-container-id-7 div.sk-item {position: relative;z-index: 1;}#sk-container-id-7 div.sk-parallel {display: flex;align-items: stretch;justify-content: center;background-color: white;position: relative;}#sk-container-id-7 div.sk-item::before, #sk-container-id-7 div.sk-parallel-item::before {content: \"\";position: absolute;border-left: 1px solid gray;box-sizing: border-box;top: 0;bottom: 0;left: 50%;z-index: -1;}#sk-container-id-7 div.sk-parallel-item {display: flex;flex-direction: column;z-index: 1;position: relative;background-color: white;}#sk-container-id-7 div.sk-parallel-item:first-child::after {align-self: flex-end;width: 50%;}#sk-container-id-7 div.sk-parallel-item:last-child::after {align-self: flex-start;width: 50%;}#sk-container-id-7 div.sk-parallel-item:only-child::after {width: 0;}#sk-container-id-7 div.sk-dashed-wrapped {border: 1px dashed gray;margin: 0 0.4em 0.5em 0.4em;box-sizing: border-box;padding-bottom: 0.4em;background-color: white;}#sk-container-id-7 div.sk-label label {font-family: monospace;font-weight: bold;display: inline-block;line-height: 1.2em;}#sk-container-id-7 div.sk-label-container {text-align: center;}#sk-container-id-7 div.sk-container {/* jupyter's `normalize.less` sets `[hidden] { display: none; }` but bootstrap.min.css set `[hidden] { display: none !important; }` so we also need the `!important` here to be able to override the default hidden behavior on the sphinx rendered scikit-learn.org. See: https://github.com/scikit-learn/scikit-learn/issues/21755 */display: inline-block !important;position: relative;}#sk-container-id-7 div.sk-text-repr-fallback {display: none;}</style><div id=\"sk-container-id-7\" class=\"sk-top-container\"><div class=\"sk-text-repr-fallback\"><pre>KMeans(n_clusters=3, random_state=42)</pre><b>In a Jupyter environment, please rerun this cell to show the HTML representation or trust the notebook. <br />On GitHub, the HTML representation is unable to render, please try loading this page with nbviewer.org.</b></div><div class=\"sk-container\" hidden><div class=\"sk-item\"><div class=\"sk-estimator sk-toggleable\"><input class=\"sk-toggleable__control sk-hidden--visually\" id=\"sk-estimator-id-7\" type=\"checkbox\" checked><label for=\"sk-estimator-id-7\" class=\"sk-toggleable__label sk-toggleable__label-arrow\">KMeans</label><div class=\"sk-toggleable__content\"><pre>KMeans(n_clusters=3, random_state=42)</pre></div></div></div></div></div>"
            ]
          },
          "metadata": {},
          "execution_count": 91
        }
      ]
    },
    {
      "cell_type": "code",
      "source": [],
      "metadata": {
        "id": "eVoDp9_3V2JJ"
      },
      "execution_count": 91,
      "outputs": []
    },
    {
      "cell_type": "markdown",
      "source": [
        "**Add cluster labels to the DataFrame**"
      ],
      "metadata": {
        "id": "4NMYeP_RXCFL"
      }
    },
    {
      "cell_type": "code",
      "source": [
        "#ENTER YOUR CODE HERE\n",
        "df['Cluster_Labels'] = kmeans.labels_"
      ],
      "metadata": {
        "id": "UMHHb6y8XLaf"
      },
      "execution_count": 92,
      "outputs": []
    },
    {
      "cell_type": "markdown",
      "source": [
        "**Analyse the clusters, find the centers and the number of observations in each cluster**"
      ],
      "metadata": {
        "id": "FQWnX9GJXOoo"
      }
    },
    {
      "cell_type": "code",
      "source": [
        "#ENTER YOUR CODE HERE\n",
        "centroids = kmeans.cluster_centers_\n",
        "\n",
        "\n",
        "cluster_counts = df['Cluster_Labels'].value_counts().sort_index()\n",
        "\n",
        "for cluster_label in range(len(centroids)):\n",
        "    print(f\"Cluster {cluster_label}:\")\n",
        "    print(f\"  Center: {centroids[cluster_label]}\")\n",
        "    print(f\"  Number of Observations: {cluster_counts[cluster_label]}\")\n",
        "    print()"
      ],
      "metadata": {
        "id": "PRh4ly2AXO6U",
        "colab": {
          "base_uri": "https://localhost:8080/"
        },
        "outputId": "5501efc5-f199-4a8d-8da8-5203bc599f9d"
      },
      "execution_count": 93,
      "outputs": [
        {
          "output_type": "stream",
          "name": "stdout",
          "text": [
            "Cluster 0:\n",
            "  Center: [5.9016129  2.7483871  4.39354839 1.43387097]\n",
            "  Number of Observations: 62\n",
            "\n",
            "Cluster 1:\n",
            "  Center: [5.006 3.428 1.462 0.246]\n",
            "  Number of Observations: 50\n",
            "\n",
            "Cluster 2:\n",
            "  Center: [6.85       3.07368421 5.74210526 2.07105263]\n",
            "  Number of Observations: 38\n",
            "\n"
          ]
        }
      ]
    },
    {
      "cell_type": "markdown",
      "source": [
        "**Visualise the cluster, make the plot again but this time with labels**"
      ],
      "metadata": {
        "id": "rrsU9xWmXt0x"
      }
    },
    {
      "cell_type": "code",
      "source": [
        "#ENTER YOUR CODE HERE\n",
        "rgb_palette = {0: 'orange', 1: 'green', 2: 'purple'}\n",
        "\n",
        "sns.pairplot(df, hue='Cluster_Labels', palette=rgb_palette, diag_kind='kde', markers=['o', 'o', 'o'])\n",
        "\n",
        "plt.show()"
      ],
      "metadata": {
        "id": "xOadUs0aXNAh",
        "colab": {
          "base_uri": "https://localhost:8080/",
          "height": 878
        },
        "outputId": "6839af56-5146-44d1-ce40-7a47c0496b2c"
      },
      "execution_count": 94,
      "outputs": [
        {
          "output_type": "display_data",
          "data": {
            "text/plain": [
              "<Figure size 1112.11x1000 with 20 Axes>"
            ],
            "image/png": "[encoded data removed]"
          },
          "metadata": {}
        }
      ]
    },
    {
      "cell_type": "code",
      "source": [],
      "metadata": {
        "id": "Y8MG6JHVXNDP"
      },
      "execution_count": 94,
      "outputs": []
    },
    {
      "cell_type": "markdown",
      "source": [
        "# GOOD JOB!"
      ],
      "metadata": {
        "id": "j1ecaZa11KkQ"
      }
    }
  ]
}